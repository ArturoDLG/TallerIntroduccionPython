{
 "cells": [
  {
   "cell_type": "code",
   "execution_count": 1,
   "metadata": {
    "slideshow": {
     "slide_type": "-"
    }
   },
   "outputs": [],
   "source": [
    "#  Esta celda es exclusivo para cuestiones de impresion dentro del notebook\n",
    "from IPython.core.interactiveshell import InteractiveShell\n",
    "InteractiveShell.ast_node_interactivity = 'all'"
   ]
  },
  {
   "cell_type": "markdown",
   "metadata": {
    "slideshow": {
     "slide_type": "slide"
    }
   },
   "source": [
    "# Definiendo funciones\n",
    "___"
   ]
  },
  {
   "cell_type": "markdown",
   "metadata": {
    "slideshow": {
     "slide_type": "slide"
    }
   },
   "source": [
    "## Que aprenderemos\n",
    "* Sintaxis para definir funciones\n",
    "* Clasificacion por argumentos y retornos\n",
    "* Documentacion de funciones\n",
    "* Tips de uso"
   ]
  },
  {
   "cell_type": "markdown",
   "metadata": {
    "slideshow": {
     "slide_type": "subslide"
    }
   },
   "source": [
    "## Sintaxis\n",
    "___"
   ]
  },
  {
   "cell_type": "markdown",
   "metadata": {
    "slideshow": {
     "slide_type": "subslide"
    }
   },
   "source": [
    "~~~\n",
    "def nombre_funcion(argumentos):\n",
    "    # cuerpo de la funcion\n",
    "~~~"
   ]
  },
  {
   "cell_type": "code",
   "execution_count": 1,
   "metadata": {
    "slideshow": {
     "slide_type": "fragment"
    }
   },
   "outputs": [
    {
     "name": "stdout",
     "output_type": "stream",
     "text": [
      "Hola a todos\n"
     ]
    }
   ],
   "source": [
    "def saludar():\n",
    "    print('Hola a todos')\n",
    "    \n",
    "saludar()"
   ]
  },
  {
   "cell_type": "markdown",
   "metadata": {
    "slideshow": {
     "slide_type": "slide"
    }
   },
   "source": [
    "## Clasificacion\n",
    "___"
   ]
  },
  {
   "cell_type": "markdown",
   "metadata": {
    "slideshow": {
     "slide_type": "subslide"
    }
   },
   "source": [
    "## por argumentos"
   ]
  },
  {
   "cell_type": "code",
   "execution_count": 2,
   "metadata": {
    "slideshow": {
     "slide_type": "fragment"
    }
   },
   "outputs": [
    {
     "name": "stdout",
     "output_type": "stream",
     "text": [
      " 2019-09-24 10:20\n"
     ]
    }
   ],
   "source": [
    "#  Sin argumentos\n",
    "from datetime import datetime\n",
    "def fecha_actual():\n",
    "    print(f'{datetime.today(): %Y-%m-%d %H:%M}')\n",
    "\n",
    "fecha_actual()"
   ]
  },
  {
   "cell_type": "code",
   "execution_count": 3,
   "metadata": {
    "slideshow": {
     "slide_type": "subslide"
    }
   },
   "outputs": [
    {
     "name": "stdout",
     "output_type": "stream",
     "text": [
      "40\n",
      "12\n"
     ]
    }
   ],
   "source": [
    "#  Con argumentos\n",
    "def suma(a,b):\n",
    "    print(f'{a + b}')\n",
    "    \n",
    "suma(15, 25)\n",
    "suma(b=10,a=2) #  podemos invertir el orden que se recibe los arguentos"
   ]
  },
  {
   "cell_type": "code",
   "execution_count": 7,
   "metadata": {
    "slideshow": {
     "slide_type": "subslide"
    }
   },
   "outputs": [
    {
     "name": "stdout",
     "output_type": "stream",
     "text": [
      "\n",
      "*\n",
      "**\n",
      "***\n",
      "****\n",
      "*****\n",
      "******\n",
      "*******\n",
      "********\n",
      "*********\n",
      "**********\n",
      "***********\n",
      "************\n",
      "*************\n",
      "**************\n",
      "***************\n",
      "****************\n",
      "*****************\n",
      "******************\n",
      "*******************\n",
      "********************\n"
     ]
    }
   ],
   "source": [
    "#  valores por defecto\n",
    "def triangulo(caracter='*', altura=2):\n",
    "    if altura < 2:\n",
    "        print('El triangulo debe tener una altura igual o mayor a 2')\n",
    "    else:\n",
    "        for i in range(altura + 1):\n",
    "            print(f'{caracter * i}')\n",
    "\n",
    "\n",
    "triangulo(altura=20)"
   ]
  },
  {
   "cell_type": "markdown",
   "metadata": {
    "slideshow": {
     "slide_type": "subslide"
    }
   },
   "source": [
    "## por retorno"
   ]
  },
  {
   "cell_type": "code",
   "execution_count": 8,
   "metadata": {
    "slideshow": {
     "slide_type": "fragment"
    }
   },
   "outputs": [
    {
     "name": "stdout",
     "output_type": "stream",
     "text": [
      "Hola Citlali, bienvenid@ al taller\n",
      "Hola Armando, bienvenid@ al taller\n",
      "None\n"
     ]
    }
   ],
   "source": [
    "#  Sin retorno/ None\n",
    "def saludar(nombre):\n",
    "    print(f'Hola {nombre}, bienvenid@ al taller')\n",
    "    \n",
    "saludar('Citlali')\n",
    "saludo = saludar('Armando') #  La funcion retorna None\n",
    "print(saludo)"
   ]
  },
  {
   "cell_type": "markdown",
   "metadata": {
    "slideshow": {
     "slide_type": "notes"
    }
   },
   "source": [
    "Las funciones sin el `return` especificado devuelven por defecto `None`, por lo que no es necesario especificarlo"
   ]
  },
  {
   "cell_type": "code",
   "execution_count": 10,
   "metadata": {
    "slideshow": {
     "slide_type": "subslide"
    }
   },
   "outputs": [
    {
     "data": {
      "text/plain": [
       "True"
      ]
     },
     "execution_count": 10,
     "metadata": {},
     "output_type": "execute_result"
    }
   ],
   "source": [
    "#  Con retorno\n",
    "def es_multiplo(numero, divisor):\n",
    "    if numero%divisor:\n",
    "        return False\n",
    "    return True\n",
    "\n",
    "resultado = es_multiplo(15, 5)\n",
    "resultado"
   ]
  },
  {
   "cell_type": "code",
   "execution_count": 11,
   "metadata": {
    "slideshow": {
     "slide_type": "subslide"
    }
   },
   "outputs": [
    {
     "name": "stdout",
     "output_type": "stream",
     "text": [
      "suma: 9 || resta: 1\n"
     ]
    }
   ],
   "source": [
    "#  Podemos retornar multiples valores\n",
    "def suma_resta(x, y):\n",
    "    return x+y, x-y\n",
    "\n",
    "s, r = suma_resta(5, 4)\n",
    "print(f'suma: {s} || resta: {r}')"
   ]
  },
  {
   "cell_type": "markdown",
   "metadata": {
    "slideshow": {
     "slide_type": "slide"
    }
   },
   "source": [
    "## Documentacion de funciones / docstrings\n",
    "___"
   ]
  },
  {
   "cell_type": "code",
   "execution_count": 12,
   "metadata": {
    "slideshow": {
     "slide_type": "subslide"
    }
   },
   "outputs": [
    {
     "name": "stdout",
     "output_type": "stream",
     "text": [
      "Help on function es_palindromo in module __main__:\n",
      "\n",
      "es_palindromo(palabra: str) -> bool\n",
      "    Retorna True si una palabra es un palindromo, de lo contrario\n",
      "    retorna False\n",
      "\n"
     ]
    }
   ],
   "source": [
    "def es_palindromo(palabra: str) -> bool:\n",
    "    \"\"\"Retorna True si una palabra es un palindromo, de lo contrario\n",
    "    retorna False\"\"\"\n",
    "    return palabra == palabra[::-1]\n",
    "\n",
    "help(es_palindromo)"
   ]
  },
  {
   "cell_type": "markdown",
   "metadata": {
    "slideshow": {
     "slide_type": "slide"
    }
   },
   "source": [
    "## \\*args y \\*\\*kwargs"
   ]
  },
  {
   "cell_type": "code",
   "execution_count": 20,
   "metadata": {
    "slideshow": {
     "slide_type": "subslide"
    }
   },
   "outputs": [
    {
     "data": {
      "text/plain": [
       "37"
      ]
     },
     "execution_count": 20,
     "metadata": {},
     "output_type": "execute_result"
    },
    {
     "data": {
      "text/plain": [
       "45"
      ]
     },
     "execution_count": 20,
     "metadata": {},
     "output_type": "execute_result"
    }
   ],
   "source": [
    "#  N-argumentos, *args\n",
    "def sumatoria(*args, acumulado=0):\n",
    "    resultado = acumulado\n",
    "    #  Los argumentos ingresados se empaquetan en un iterable\n",
    "    for arg in args:  \n",
    "        resultado += arg\n",
    "    return resultado\n",
    "\n",
    "\n",
    "sumatoria(1, 2, 3, 4, 5, 6, 7 , 9)\n",
    "sumatoria(9, 8, 7, 6, 5, acumulado=10)"
   ]
  },
  {
   "cell_type": "code",
   "execution_count": 21,
   "metadata": {
    "slideshow": {
     "slide_type": "subslide"
    }
   },
   "outputs": [
    {
     "data": {
      "text/plain": [
       "('Sandra', 3200)"
      ]
     },
     "execution_count": 21,
     "metadata": {},
     "output_type": "execute_result"
    }
   ],
   "source": [
    "#  N argumentos claves, **kwargs\n",
    "def sueldo_mayor(**kwargs):\n",
    "    mayor = ('', 0)\n",
    "    for nombre, sueldo in kwargs.items():\n",
    "        mayor = max(mayor, (nombre, sueldo))\n",
    "    return mayor\n",
    "        \n",
    "sueldo_mayor(Gerardo=2000, Felix=1500, Sandra=3200, Regina=1850)"
   ]
  },
  {
   "cell_type": "markdown",
   "metadata": {
    "slideshow": {
     "slide_type": "notes"
    }
   },
   "source": [
    "el operador \\* nos indica que una serie de argumentos sera empaquetado en un tuple, mientras que el operador \\*\\* nos indica que los argumentos se empaquetan en un dict "
   ]
  },
  {
   "cell_type": "markdown",
   "metadata": {
    "slideshow": {
     "slide_type": "slide"
    }
   },
   "source": [
    "## Recursividad "
   ]
  },
  {
   "cell_type": "code",
   "execution_count": 22,
   "metadata": {
    "slideshow": {
     "slide_type": "subslide"
    }
   },
   "outputs": [
    {
     "data": {
      "text/plain": [
       "55"
      ]
     },
     "execution_count": 22,
     "metadata": {},
     "output_type": "execute_result"
    }
   ],
   "source": [
    "def fibonacci(n):\n",
    "    \"\"\"Calcular el n-esimo numero de la sucesion de fibonacci\"\"\"\n",
    "    if n < 2:\n",
    "        return n\n",
    "\n",
    "    return fibonacci(n-1) + fibonacci(n-2)\n",
    "\n",
    "\n",
    "fibonacci(10)"
   ]
  },
  {
   "cell_type": "markdown",
   "metadata": {
    "slideshow": {
     "slide_type": "subslide"
    }
   },
   "source": [
    "<center><img src=\"Imagenes/advertencia.png\"></center>"
   ]
  },
  {
   "cell_type": "markdown",
   "metadata": {
    "slideshow": {
     "slide_type": "subslide"
    }
   },
   "source": [
    "## Advertencia\n",
    "Se recomienda evitar el uso de funciones recursivas en Python, esto debido a la propia implementacion de Python, \n",
    "ya que esta puede desbordar el stack del interprete y detener el programa (incluso el equipo de computo empleado); \n",
    "puede sustituir por una version de funcion iterativa.  "
   ]
  },
  {
   "cell_type": "code",
   "execution_count": 23,
   "metadata": {
    "slideshow": {
     "slide_type": "subslide"
    }
   },
   "outputs": [
    {
     "data": {
      "text/plain": [
       "3000"
      ]
     },
     "execution_count": 23,
     "metadata": {},
     "output_type": "execute_result"
    },
    {
     "data": {
      "text/plain": [
       "5000"
      ]
     },
     "execution_count": 23,
     "metadata": {},
     "output_type": "execute_result"
    }
   ],
   "source": [
    "import sys \n",
    "#  Limite de recursividad\n",
    "sys.getrecursionlimit()\n",
    "#  Se puede modificar el limite, pero no es recomendable\n",
    "sys.setrecursionlimit(5000)\n",
    "sys.getrecursionlimit()"
   ]
  },
  {
   "cell_type": "markdown",
   "metadata": {
    "slideshow": {
     "slide_type": "slide"
    }
   },
   "source": [
    "## Closures"
   ]
  },
  {
   "cell_type": "code",
   "execution_count": 25,
   "metadata": {
    "slideshow": {
     "slide_type": "subslide"
    }
   },
   "outputs": [],
   "source": [
    "def contador_caracteres(*palabras, caracter):\n",
    "    \"\"\"Retorna la cantidad de apariciones de un caracter en una lista\n",
    "    de palabras\"\"\"\n",
    "    \n",
    "    def contador_caracter(palabra):\n",
    "        \"\"\"Retorna la cantidad de aparicones de un caracter en la palabra\"\"\"\n",
    "        return palabra.count(caracter)\n",
    "    \n",
    "    contador = 0\n",
    "    for palabra in palabras:\n",
    "        contador += contador_caracter(caracter)\n",
    "\n",
    "    return contador"
   ]
  },
  {
   "cell_type": "code",
   "execution_count": 28,
   "metadata": {
    "slideshow": {
     "slide_type": "subslide"
    }
   },
   "outputs": [
    {
     "data": {
      "text/plain": [
       "4"
      ]
     },
     "execution_count": 28,
     "metadata": {},
     "output_type": "execute_result"
    }
   ],
   "source": [
    "contador_caracteres('arbol', 'cereal', 'balsamo', 'oso', caracter = 'a')"
   ]
  },
  {
   "cell_type": "markdown",
   "metadata": {
    "slideshow": {
     "slide_type": "slide"
    }
   },
   "source": [
    "## Decoradores"
   ]
  },
  {
   "cell_type": "code",
   "execution_count": 30,
   "metadata": {
    "slideshow": {
     "slide_type": "subslide"
    }
   },
   "outputs": [],
   "source": [
    "import time\n",
    "\n",
    "def tiempo_ejecucion(func):\n",
    "    \"\"\"Decorador para medir el tiempo de ejecucion de una funcion\"\"\"\n",
    "    \n",
    "    def tiempo(*args, **kwargs): \n",
    "        inicio = time.time()\n",
    "        resultado = func(*args, **kwargs)\n",
    "        final = time.time()\n",
    "        print(f'La funcion {func.__name__} se ejecuto en {final - inicio} segundos')\n",
    "        return resultado\n",
    "\n",
    "    return tiempo  # Un decorador siempre devuelve un objeto invocable"
   ]
  },
  {
   "cell_type": "code",
   "execution_count": 32,
   "metadata": {
    "slideshow": {
     "slide_type": "subslide"
    }
   },
   "outputs": [
    {
     "name": "stdout",
     "output_type": "stream",
     "text": [
      "La funcion n_multiplos se ejecuto en 8.106231689453125e-06 segundos\n"
     ]
    },
    {
     "data": {
      "text/plain": [
       "[25,\n",
       " 32,\n",
       " 39,\n",
       " 46,\n",
       " 53,\n",
       " 60,\n",
       " 67,\n",
       " 74,\n",
       " 81,\n",
       " 88,\n",
       " 95,\n",
       " 102,\n",
       " 109,\n",
       " 116,\n",
       " 123,\n",
       " 130,\n",
       " 137,\n",
       " 144,\n",
       " 151,\n",
       " 158,\n",
       " 165,\n",
       " 172,\n",
       " 179]"
      ]
     },
     "execution_count": 32,
     "metadata": {},
     "output_type": "execute_result"
    }
   ],
   "source": [
    "@tiempo_ejecucion #  Sintaxis de un decorador\n",
    "def n_multiplos(cantidad, multiplos):\n",
    "    \"\"\"Retorna una lista de n numeros de un multiplo\"\"\"\n",
    "    return list(range(cantidad, (cantidad+1) * multiplos, multiplos))\n",
    "\n",
    "n_multiplos(25, 7)"
   ]
  },
  {
   "cell_type": "markdown",
   "metadata": {
    "slideshow": {
     "slide_type": "slide"
    }
   },
   "source": [
    "## Menciones \n",
    "* functools "
   ]
  }
 ],
 "metadata": {
  "celltoolbar": "Slideshow",
  "kernelspec": {
   "display_name": "Python 3",
   "language": "python",
   "name": "python3"
  },
  "language_info": {
   "codemirror_mode": {
    "name": "ipython",
    "version": 3
   },
   "file_extension": ".py",
   "mimetype": "text/x-python",
   "name": "python",
   "nbconvert_exporter": "python",
   "pygments_lexer": "ipython3",
   "version": "3.7.3"
  }
 },
 "nbformat": 4,
 "nbformat_minor": 2
}
