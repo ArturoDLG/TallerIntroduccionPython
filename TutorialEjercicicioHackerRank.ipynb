{
 "cells": [
  {
   "cell_type": "markdown",
   "metadata": {
    "slideshow": {
     "slide_type": "slide"
    }
   },
   "source": [
    "# Como resolver un ejercicio de programacion competitiva en HackerRank?"
   ]
  },
  {
   "cell_type": "markdown",
   "metadata": {
    "slideshow": {
     "slide_type": "slide"
    }
   },
   "source": [
    "# Paso 1\n",
    "## Leer el ejercicio\n",
    "___"
   ]
  },
  {
   "cell_type": "markdown",
   "metadata": {
    "slideshow": {
     "slide_type": "subslide"
    }
   },
   "source": [
    "### Ejemplo\n",
    "#### Operaciones basicas\n",
    "Las operaciones basicas que aprendemos en la primaria son la suma, resta, multiplicación y división.\n",
    "Tu tarea es imprimir el resultado de estas 4 operaciones dado 2 números `a` y `b`.   "
   ]
  },
  {
   "cell_type": "markdown",
   "metadata": {
    "slideshow": {
     "slide_type": "subslide"
    }
   },
   "source": [
    "##### Input\n",
    "Recibirias 2 números enteros `a` y `b`, que son los números con los que realizaras las operaciones. \n",
    "##### Ouput\n",
    "Como salidas mostraras los resultados de la operaciones pedidas, cada una en un renglón, con un texto que indique que operacion realizar."
   ]
  },
  {
   "cell_type": "markdown",
   "metadata": {
    "slideshow": {
     "slide_type": "subslide"
    }
   },
   "source": [
    "##### Input sample\n",
    "> 10  \n",
    "  5\n",
    "\n",
    "##### Ouput sample\n",
    "> Suma: 15  \n",
    "  Resta: 5  \n",
    "  Multiplicación: 50  \n",
    "  División: 2.0"
   ]
  },
  {
   "cell_type": "markdown",
   "metadata": {
    "slideshow": {
     "slide_type": "slide"
    }
   },
   "source": [
    "# Paso 2\n",
    "## Identificar lo que nos pide el problema\n",
    "___"
   ]
  },
  {
   "cell_type": "markdown",
   "metadata": {
    "slideshow": {
     "slide_type": "subslide"
    }
   },
   "source": [
    "### Imprimir los resultados de la suma, resta, multiplicación y división de `a` y `b`"
   ]
  },
  {
   "cell_type": "markdown",
   "metadata": {
    "slideshow": {
     "slide_type": "slide"
    }
   },
   "source": [
    "# Paso 3\n",
    "## Identificar las entradas y salidas\n",
    "___"
   ]
  },
  {
   "cell_type": "markdown",
   "metadata": {
    "slideshow": {
     "slide_type": "subslide"
    }
   },
   "source": [
    "### Entradas\n",
    "* cuantas valores vamos a recibir?"
   ]
  },
  {
   "cell_type": "markdown",
   "metadata": {
    "slideshow": {
     "slide_type": "fragment"
    }
   },
   "source": [
    "#### 2 entradas\n",
    "\n",
    "> Nota: las entradas se identifican por ser variables, las indicaciones las denotan con letras del alfabeto, pueden ser cantidades fijas, o indeterminadas"
   ]
  },
  {
   "cell_type": "markdown",
   "metadata": {
    "slideshow": {
     "slide_type": "subslide"
    }
   },
   "source": [
    "### Salidas\n",
    "* cuantos valores debemos mostrar en pantalla?"
   ]
  },
  {
   "cell_type": "markdown",
   "metadata": {
    "slideshow": {
     "slide_type": "fragment"
    }
   },
   "source": [
    "#### 4 salidas"
   ]
  },
  {
   "cell_type": "markdown",
   "metadata": {
    "slideshow": {
     "slide_type": "slide"
    }
   },
   "source": [
    "# Paso 4\n",
    "## Estructurar nuestro programa\n",
    "___"
   ]
  },
  {
   "cell_type": "code",
   "execution_count": null,
   "metadata": {
    "slideshow": {
     "slide_type": "subslide"
    }
   },
   "outputs": [],
   "source": [
    "# Aqui importamos nuestros modulos\n",
    "# Aqui definimos nuestras funciones y/o clases\n",
    "\n",
    "if __name__ == '__main__':  # inicio del programa \n",
    "    # las entradas siempre van al principio del programa\n",
    "    a = input()\n",
    "    b = input()\n",
    "    \"\"\" \n",
    "    input devuelve una cadena (str), por lo que debemos de convertir el tipo \n",
    "    de dato al solicitado por el problema, en este caso int\n",
    "    \"\"\"\n",
    "    a, b = int(a), int(b)\n",
    "    suma = a + b\n",
    "    resta = a - b\n",
    "    multiplicacion = a * b\n",
    "    division = a / b\n",
    "    # las salidas van al final del programa\n",
    "    print('Suma:', suma)\n",
    "    print('Resta:', resta)\n",
    "    print('Multiplicación:', multiplicacion)\n",
    "    print('División:',division)"
   ]
  },
  {
   "cell_type": "markdown",
   "metadata": {
    "slideshow": {
     "slide_type": "slide"
    }
   },
   "source": [
    "# Paso 5\n",
    "## Probar nuestro codigo, depurar, y enviar\n",
    "___"
   ]
  },
  {
   "cell_type": "markdown",
   "metadata": {
    "slideshow": {
     "slide_type": "subslide"
    }
   },
   "source": [
    "### Pruebas\n",
    "* Presionar Run Code"
   ]
  },
  {
   "cell_type": "markdown",
   "metadata": {
    "slideshow": {
     "slide_type": "subslide"
    }
   },
   "source": [
    "### Depurar\n",
    "* identificar el error mostrado\n",
    "* revisar notas y documentación\n",
    "* cambiar y volver a probar"
   ]
  },
  {
   "cell_type": "markdown",
   "metadata": {
    "slideshow": {
     "slide_type": "subslide"
    }
   },
   "source": [
    "### Enviar\n",
    "* Presionar Submit Code"
   ]
  }
 ],
 "metadata": {
  "celltoolbar": "Slideshow",
  "kernelspec": {
   "display_name": "Python 3",
   "language": "python",
   "name": "python3"
  },
  "language_info": {
   "codemirror_mode": {
    "name": "ipython",
    "version": 3
   },
   "file_extension": ".py",
   "mimetype": "text/x-python",
   "name": "python",
   "nbconvert_exporter": "python",
   "pygments_lexer": "ipython3",
   "version": "3.7.3"
  }
 },
 "nbformat": 4,
 "nbformat_minor": 2
}
