{
 "cells": [
  {
   "cell_type": "code",
   "execution_count": null,
   "metadata": {
    "slideshow": {
     "slide_type": "-"
    }
   },
   "outputs": [],
   "source": [
    "#  Esta celda es exclusivo para cuestiones de impresion dentro del notebook\n",
    "from IPython.core.interactiveshell import InteractiveShell\n",
    "InteractiveShell.ast_node_interactivity = 'all'"
   ]
  },
  {
   "cell_type": "markdown",
   "metadata": {
    "slideshow": {
     "slide_type": "slide"
    }
   },
   "source": [
    "# Tipos númericos en Python"
   ]
  },
  {
   "cell_type": "markdown",
   "metadata": {
    "slideshow": {
     "slide_type": "slide"
    }
   },
   "source": [
    "## Que vamos a aprender?\n",
    "\n",
    "* ### Clases numericas nativas (builtins)\n",
    "* ### Operaciones \n",
    "* ### Casos de usos\n",
    "* ### Tips"
   ]
  },
  {
   "cell_type": "markdown",
   "metadata": {
    "slideshow": {
     "slide_type": "slide"
    }
   },
   "source": [
    "## Enteros \n",
    "## clase `int()`\n",
    "___"
   ]
  },
  {
   "cell_type": "markdown",
   "metadata": {
    "slideshow": {
     "slide_type": "subslide"
    }
   },
   "source": [
    "### Tipos int en C/C++   \n",
    "<img style=\"float:right; margin:10px;\" src=\"imagenes/confundido.jfif\"> \n",
    "* `int`\n",
    "* `unsigned int`\n",
    "* `short int`\n",
    "* `long int`\n",
    "* `long long int`\n"
   ]
  },
  {
   "cell_type": "markdown",
   "metadata": {
    "slideshow": {
     "slide_type": "subslide"
    }
   },
   "source": [
    "### Representación literal"
   ]
  },
  {
   "cell_type": "code",
   "execution_count": null,
   "metadata": {
    "slideshow": {
     "slide_type": "fragment"
    }
   },
   "outputs": [],
   "source": [
    "#  numeros enteros\n",
    "a = 500\n",
    "b = -90\n",
    "a, b"
   ]
  },
  {
   "cell_type": "markdown",
   "metadata": {
    "slideshow": {
     "slide_type": "subslide"
    }
   },
   "source": [
    "### Representación para numeros muy grandes"
   ]
  },
  {
   "cell_type": "code",
   "execution_count": null,
   "metadata": {
    "slideshow": {
     "slide_type": "fragment"
    }
   },
   "outputs": [],
   "source": [
    "#  cien millones\n",
    "numero_grande = 100000000\n",
    "#  notacion con guion bajo\n",
    "otro_numero_grande = 100_000_000\n",
    "#  notacion cientifica\n",
    "notacion_cientifica = 1e8 \n",
    "numero_grande == otro_numero_grande == notacion_cientifica"
   ]
  },
  {
   "cell_type": "markdown",
   "metadata": {
    "slideshow": {
     "slide_type": "subslide"
    }
   },
   "source": [
    "### Operadores arimeticos y de asignación"
   ]
  },
  {
   "cell_type": "markdown",
   "metadata": {
    "slideshow": {
     "slide_type": "notes"
    }
   },
   "source": [
    "Las operaciones aritmeticas que permiten la clase `int` son:\n",
    "* suma (+)\n",
    "* resta (-)\n",
    "* multiplicacion (*)\n",
    "* division (/)\n",
    "* division entera (//)\n",
    "* modulo (%)\n",
    "* potencia (\\**)  \n",
    "\n",
    "Tambien podemos usar operadores de asignacion, los cuales se escriben con cualquiera de los operadores antes descrito, seguido del operador `=` , de la manera siguiente: `x += 5 # incrementar en 5 a x`\n",
    "\n",
    "Nota: La division devuelve un numero de tipo `float`, mientras que la division entera(//) devuelve un numero de tipo `int`"
   ]
  },
  {
   "cell_type": "code",
   "execution_count": null,
   "metadata": {
    "slideshow": {
     "slide_type": "fragment"
    }
   },
   "outputs": [],
   "source": [
    "x, y = 10, 5\n",
    "# suma\n",
    "x + y\n",
    "# resta\n",
    "x - y\n",
    "# multiplicacion\n",
    "x * y\n",
    "# division\n",
    "x / y"
   ]
  },
  {
   "cell_type": "code",
   "execution_count": null,
   "metadata": {
    "slideshow": {
     "slide_type": "subslide"
    }
   },
   "outputs": [],
   "source": [
    "# division entera\n",
    "x // y\n",
    "# modulo\n",
    "x % y\n",
    "# potencia\n",
    "x ** y\n",
    "# operadores de asignacion\n",
    "z = 0\n",
    "#z = z+1\n",
    "z+= 1\n",
    "z"
   ]
  },
  {
   "cell_type": "markdown",
   "metadata": {
    "slideshow": {
     "slide_type": "subslide"
    }
   },
   "source": [
    "### Operadores logicos"
   ]
  },
  {
   "cell_type": "markdown",
   "metadata": {
    "slideshow": {
     "slide_type": "notes"
    }
   },
   "source": [
    "Las operaciones logicas que permiten la clase `int` son:\n",
    "* menor que (<)\n",
    "* menor o igual que (<=)\n",
    "* mayor que (>)\n",
    "* mayor o igual que (>=)\n",
    "* igual que (==)\n",
    "* diferente que (!=)  "
   ]
  },
  {
   "cell_type": "code",
   "execution_count": null,
   "metadata": {
    "slideshow": {
     "slide_type": "fragment"
    }
   },
   "outputs": [],
   "source": [
    "# menor que\n",
    "x <= y\n",
    "# mayor que\n",
    "x >= y\n",
    "# igual que\n",
    "x == y\n",
    "# diferente que\n",
    "x != y\n",
    "# anidar operadores\n",
    "0 < x < 11"
   ]
  },
  {
   "cell_type": "markdown",
   "metadata": {
    "slideshow": {
     "slide_type": "subslide"
    }
   },
   "source": [
    "### Operadores de bits"
   ]
  },
  {
   "cell_type": "markdown",
   "metadata": {
    "slideshow": {
     "slide_type": "notes"
    }
   },
   "source": [
    "Las operaciones de bits que permiten la clase `int` son:\n",
    "* and (&)\n",
    "* or (|)\n",
    "* xor (^)\n",
    "* not (~)\n",
    "* desplazamiento a la derecha (>>)\n",
    "* desplazamiento a la izquierda (<<)  \n",
    "\n",
    ">Una operación bit a bit o bitwise opera sobre números binarios a nivel de sus bits individuales. Es una acción primitiva rápida, soportada directamente por los procesadores. En procesadores simples de bajo costo, las operaciones de bit a bit, junto con los de adición y sustracción, son típicamente sustancialmente más rápidas que la multiplicación y la división, mientras que en los modernos procesadores de alto rendimiento usualmente las operaciones se realizan a la misma velocidad. \n",
    "\n",
    "[Wikipedia](https://es.wikipedia.org/wiki/Operador_a_nivel_de_bits)"
   ]
  },
  {
   "cell_type": "code",
   "execution_count": null,
   "metadata": {
    "slideshow": {
     "slide_type": "fragment"
    }
   },
   "outputs": [],
   "source": [
    "# representacion en binario de 'x' y 'y'\n",
    "print(bin(x), bin(y))\n",
    "x & y  # and\n",
    "x | y  # or\n",
    "x ^ y  # xor\n",
    "# desplazamiento de bits\n",
    "x >> 2  # desplazar 2 bits a la derecha\n",
    "x << 2  # desplazar 2 bits a la izquierda"
   ]
  },
  {
   "cell_type": "markdown",
   "metadata": {
    "slideshow": {
     "slide_type": "subslide"
    }
   },
   "source": [
    "### Inspeccionando la clase `int()`"
   ]
  },
  {
   "cell_type": "code",
   "execution_count": null,
   "metadata": {
    "slideshow": {
     "slide_type": "fragment"
    }
   },
   "outputs": [],
   "source": [
    "help(int)"
   ]
  },
  {
   "cell_type": "markdown",
   "metadata": {
    "slideshow": {
     "slide_type": "subslide"
    }
   },
   "source": [
    "### `int(x)`\n",
    "> Convierte un numero o cadena a un entero, o retorna 0 si no recibe argumentos ...  \n",
    "... Para numeros flotantes, este trunca hacia cero ...  \n",
    "... El literal puede ser precedido por '+'  o '-' ...  "
   ]
  },
  {
   "cell_type": "code",
   "execution_count": null,
   "metadata": {
    "slideshow": {
     "slide_type": "fragment"
    }
   },
   "outputs": [],
   "source": [
    "int('+10')"
   ]
  },
  {
   "cell_type": "markdown",
   "metadata": {
    "slideshow": {
     "slide_type": "subslide"
    }
   },
   "source": [
    "### `int(x, base = 10)`\n",
    "> ... La base por defecto es 10. Las bases válidas son 0 y 2-36.    \n",
    "    Base 0 significa interpretar la base de la cadena como un entero literal."
   ]
  },
  {
   "cell_type": "code",
   "execution_count": null,
   "metadata": {
    "slideshow": {
     "slide_type": "fragment"
    }
   },
   "outputs": [],
   "source": [
    "#  el 2° argumento puede prescindir de la palabra clave \"base\"\n",
    "int('1010', 2)"
   ]
  },
  {
   "cell_type": "markdown",
   "metadata": {
    "slideshow": {
     "slide_type": "subslide"
    }
   },
   "source": [
    "### Métodos y atributos de la clase"
   ]
  },
  {
   "cell_type": "markdown",
   "metadata": {
    "slideshow": {
     "slide_type": "subslide"
    }
   },
   "source": [
    "#### `numerator` y `denominator`\n",
    ">Atributos del valor del numerador y denominador, en enteros siempre su mismo valor y 1 "
   ]
  },
  {
   "cell_type": "code",
   "execution_count": null,
   "metadata": {
    "slideshow": {
     "slide_type": "fragment"
    }
   },
   "outputs": [],
   "source": [
    "n = 32\n",
    "n.numerator  # 32\n",
    "n.denominator  # 1"
   ]
  },
  {
   "cell_type": "markdown",
   "metadata": {
    "slideshow": {
     "slide_type": "subslide"
    }
   },
   "source": [
    "#### `real` y `imag`\n",
    ">Atributo del valor de la parte real e imaginaria del número, en enteros siempre es el mismo numero y 0"
   ]
  },
  {
   "cell_type": "code",
   "execution_count": null,
   "metadata": {
    "slideshow": {
     "slide_type": "fragment"
    }
   },
   "outputs": [],
   "source": [
    "n.real  # 32  \n",
    "n.imag  # 0"
   ]
  },
  {
   "cell_type": "markdown",
   "metadata": {
    "slideshow": {
     "slide_type": "subslide"
    }
   },
   "source": [
    "#### `conjugate()`\n",
    ">Retorna el conjugado complejo del número "
   ]
  },
  {
   "cell_type": "markdown",
   "metadata": {
    "slideshow": {
     "slide_type": "notes"
    }
   },
   "source": [
    "El complejo conjugado es la operación que invierte la parte compleja de un número.   \n",
    "Algunas aplicaciones del conjugado son:\n",
    "> * La conjugación del denominador complejo juega el mismo papel que la racionalización de un denominador irracional. Se busca que el denominador sea real.\n",
    "> * Facilita la división de números complejos, pues al conjugar el denominador, el cociente se transforma en un producto del dividendo por el inverso multiplicativo del divisor.\n",
    "> * Permite calcular el módulo de cualquier número complejo\n",
    "\n",
    "[Wikipedia](https://es.wikipedia.org/wiki/Conjugado_(matem%C3%A1tica))"
   ]
  },
  {
   "cell_type": "code",
   "execution_count": null,
   "metadata": {
    "slideshow": {
     "slide_type": "fragment"
    }
   },
   "outputs": [],
   "source": [
    "n.conjugate()  # 32"
   ]
  },
  {
   "cell_type": "markdown",
   "metadata": {
    "slideshow": {
     "slide_type": "subslide"
    }
   },
   "source": [
    "#### `bit_length()`\n",
    ">Retorna la cantidad de bits que se necesitan para representar el número en binario"
   ]
  },
  {
   "cell_type": "code",
   "execution_count": null,
   "metadata": {
    "slideshow": {
     "slide_type": "fragment"
    }
   },
   "outputs": [],
   "source": [
    "bin(n)\n",
    "n.bit_length() #   "
   ]
  },
  {
   "cell_type": "markdown",
   "metadata": {
    "slideshow": {
     "slide_type": "subslide"
    }
   },
   "source": [
    "#### `int.from_bytes(bytes, byteorder, *, signed=False)`\n",
    ">Método de clase (classmethod) que retorna el entero de un arreglo de bytes"
   ]
  },
  {
   "cell_type": "markdown",
   "metadata": {
    "slideshow": {
     "slide_type": "notes"
    }
   },
   "source": [
    "* `bytes`: Recibe una cadena de bytes (b-string) o producirlo con un iterable\n",
    "* `byteorder`: Determina el orden de los bytes utilizado para representar el entero. Si el orden de bytes es \"big\", el byte más significativo se encuentra al principio de la matriz de bytes. Si el orden de bytes es \"little\", el byte más significativo se encuentra al final de la matriz de bytes. Para solicitar el orden de bytes nativo del sistema host, utilice sys.byteorder como valor del orden de bytes.  \n",
    "* `signed`: Indica si se utiliza el complemento de dos para representar el entero. El valor predeterminado es False.\n",
    "\n",
    "[Python Software Foundation (Docs)](https://docs.python.org/3/library/stdtypes.html#typesnumeric)"
   ]
  },
  {
   "cell_type": "code",
   "execution_count": null,
   "metadata": {
    "slideshow": {
     "slide_type": "fragment"
    }
   },
   "outputs": [],
   "source": [
    "y = int.from_bytes(b'\\x00\\x10', byteorder='big')\n",
    "y"
   ]
  },
  {
   "cell_type": "markdown",
   "metadata": {
    "slideshow": {
     "slide_type": "subslide"
    }
   },
   "source": [
    "#### `to_bytes(length, byteorder, *, signed=False)`\n",
    ">Método que retorna una cadena de bytes (b-string) de un número"
   ]
  },
  {
   "cell_type": "markdown",
   "metadata": {
    "slideshow": {
     "slide_type": "notes"
    }
   },
   "source": [
    "*`length`: Cantidad de bytes para representar el número. Se retorna un OverflowError si el entero no es representable con el número dado de bytes.\n",
    "\n",
    "*`byteorder`: Determina el orden de los bytes utilizado para representar el entero. Si el orden de bytes es \"big\", el byte más significativo se encuentra al principio de la matriz de bytes. Si el orden de bytes es \"little\", el byte más significativo se encuentra al final de la matriz de bytes. Para solicitar el orden de bytes nativo del sistema host, utilice sys.byteorder como valor del orden de bytes.\n",
    "\n",
    "*`signed`: Determina si se utiliza el complemento de dos para representar el entero. Si el signo es Falso y se da un número entero negativo, se retorna un OverflowError. El valor predeterminado es False.\n",
    "\n",
    "[Python Software Foundation (Docs)](https://docs.python.org/3/library/stdtypes.html#typesnumeric)"
   ]
  },
  {
   "cell_type": "code",
   "execution_count": null,
   "metadata": {
    "slideshow": {
     "slide_type": "fragment"
    }
   },
   "outputs": [],
   "source": [
    "n.to_bytes(2,\"little\")"
   ]
  },
  {
   "cell_type": "markdown",
   "metadata": {
    "slideshow": {
     "slide_type": "subslide"
    }
   },
   "source": [
    "### Conversión a otros sistemas numericos\n",
    "#### funciones `bin()`, `oct()`, `hex()`"
   ]
  },
  {
   "cell_type": "code",
   "execution_count": null,
   "metadata": {
    "slideshow": {
     "slide_type": "fragment"
    }
   },
   "outputs": [],
   "source": [
    "#  conversion a binario\n",
    "binario = bin(8)\n",
    "print(binario)\n",
    "#  conversion a octal\n",
    "octal = oct(16)\n",
    "print(octal)\n",
    "#  conversion a hexadecimal\n",
    "hexadecimal = hex(50)\n",
    "print(hexadecimal) "
   ]
  },
  {
   "cell_type": "markdown",
   "metadata": {
    "slideshow": {
     "slide_type": "slide"
    }
   },
   "source": [
    "## Flotantes \n",
    "## clase `float()`\n",
    "___"
   ]
  },
  {
   "cell_type": "markdown",
   "metadata": {
    "slideshow": {
     "slide_type": "subslide"
    }
   },
   "source": [
    "### Representación literal"
   ]
  },
  {
   "cell_type": "code",
   "execution_count": null,
   "metadata": {
    "slideshow": {
     "slide_type": "fragment"
    }
   },
   "outputs": [],
   "source": [
    "# numeros enteros\n",
    "a = 1.5\n",
    "b = -10.25\n",
    "a, b"
   ]
  },
  {
   "cell_type": "markdown",
   "metadata": {
    "slideshow": {
     "slide_type": "subslide"
    }
   },
   "source": [
    "### Otras representaciones"
   ]
  },
  {
   "cell_type": "code",
   "execution_count": null,
   "metadata": {
    "slideshow": {
     "slide_type": "fragment"
    }
   },
   "outputs": [],
   "source": [
    "# notacion cientifica\n",
    "notacion_cientifica = 1.234e10 \n",
    "# notacion con guiones bajos\n",
    "otra_representacion = 5.123_097 "
   ]
  },
  {
   "cell_type": "markdown",
   "metadata": {
    "slideshow": {
     "slide_type": "subslide"
    }
   },
   "source": [
    "### Representación para infinito"
   ]
  },
  {
   "cell_type": "code",
   "execution_count": null,
   "metadata": {
    "slideshow": {
     "slide_type": "fragment"
    }
   },
   "outputs": [],
   "source": [
    "# infinito\n",
    "INF = float('inf')\n",
    "# infinito negativo\n",
    "MENOS_INF = float('-inf')\n",
    "# comprobacion\n",
    "INF > 9.6e100\n",
    "\n",
    "#No es un numero\n",
    "NAN = float('NaN')\n",
    "NAN"
   ]
  },
  {
   "cell_type": "markdown",
   "metadata": {
    "slideshow": {
     "slide_type": "subslide"
    }
   },
   "source": [
    "### Operadores arimeticos y de asignación"
   ]
  },
  {
   "cell_type": "markdown",
   "metadata": {
    "slideshow": {
     "slide_type": "notes"
    }
   },
   "source": [
    "Las operaciones aritmeticas y de asignacion que permiten la clase `float` son iguales que en `int`:\n",
    "* suma (+)\n",
    "* resta (-)\n",
    "* multiplicacion (*)\n",
    "* division (/)\n",
    "* division entera (//)\n",
    "* modulo (%)\n",
    "* potencia (\\**)  "
   ]
  },
  {
   "cell_type": "code",
   "execution_count": null,
   "metadata": {
    "slideshow": {
     "slide_type": "fragment"
    }
   },
   "outputs": [],
   "source": [
    "x, y = 5.9, 9.1\n",
    "# suma\n",
    "x + y\n",
    "# resta\n",
    "x - y\n",
    "# multiplicacion\n",
    "x * y\n",
    "# division\n",
    "x / y"
   ]
  },
  {
   "cell_type": "code",
   "execution_count": null,
   "metadata": {
    "slideshow": {
     "slide_type": "subslide"
    }
   },
   "outputs": [],
   "source": [
    "# division entera\n",
    "x // y\n",
    "# modulo\n",
    "x % y \n",
    "# potencia\n",
    "x ** y\n",
    "# operaodres de asignacion\n",
    "z = 0\n",
    "z += 0.5\n",
    "z"
   ]
  },
  {
   "cell_type": "markdown",
   "metadata": {
    "slideshow": {
     "slide_type": "subslide"
    }
   },
   "source": [
    "### Operadores logicos"
   ]
  },
  {
   "cell_type": "markdown",
   "metadata": {
    "slideshow": {
     "slide_type": "notes"
    }
   },
   "source": [
    "Las operaciones logicas que permiten la clase `float` son iguales que en `int`:\n",
    "* menor que (<)\n",
    "* menor o igual que (<=)\n",
    "* mayor que (>)\n",
    "* mayor o igual que (>=)\n",
    "* igual que (==)\n",
    "* diferente que (!=)  "
   ]
  },
  {
   "cell_type": "code",
   "execution_count": null,
   "metadata": {
    "slideshow": {
     "slide_type": "fragment"
    }
   },
   "outputs": [],
   "source": [
    "# menor que\n",
    "x < y\n",
    "# mayor que\n",
    "x > y\n",
    "#  igual que\n",
    "x == y\n",
    "# diferente que\n",
    "x != y\n",
    "# anidando operadores\n",
    "5.5 < x < 6"
   ]
  },
  {
   "cell_type": "markdown",
   "metadata": {
    "slideshow": {
     "slide_type": "subslide"
    }
   },
   "source": [
    "### Inspeccionando la clase `float()`"
   ]
  },
  {
   "cell_type": "code",
   "execution_count": null,
   "metadata": {
    "slideshow": {
     "slide_type": "fragment"
    }
   },
   "outputs": [],
   "source": [
    "help(float)"
   ]
  },
  {
   "cell_type": "markdown",
   "metadata": {
    "slideshow": {
     "slide_type": "subslide"
    }
   },
   "source": [
    "### `float(x)`\n",
    "> Convierte una cadena o numero en punto flotante, si es posible"
   ]
  },
  {
   "cell_type": "code",
   "execution_count": null,
   "metadata": {
    "slideshow": {
     "slide_type": "fragment"
    }
   },
   "outputs": [],
   "source": [
    "float('24.09')"
   ]
  },
  {
   "cell_type": "markdown",
   "metadata": {
    "slideshow": {
     "slide_type": "subslide"
    }
   },
   "source": [
    "### Métodos y atributos de la clase"
   ]
  },
  {
   "cell_type": "markdown",
   "metadata": {
    "slideshow": {
     "slide_type": "subslide"
    }
   },
   "source": [
    "#### `as_integer_ratio()`\n",
    ">Devuelve un par de números enteros, cuya relación es exactamente igual al flotador original y con un denominador positivo(representación en fracción)."
   ]
  },
  {
   "cell_type": "code",
   "execution_count": null,
   "metadata": {
    "slideshow": {
     "slide_type": "fragment"
    }
   },
   "outputs": [],
   "source": [
    "n = 0.25\n",
    "n.as_integer_ratio()"
   ]
  },
  {
   "cell_type": "markdown",
   "metadata": {
    "slideshow": {
     "slide_type": "subslide"
    }
   },
   "source": [
    "#### `real` y `imag`\n",
    ">Atributo del valor de la parte real e imaginaria del número, en flotantes siempre es el mismo numero y 0"
   ]
  },
  {
   "cell_type": "code",
   "execution_count": null,
   "metadata": {
    "slideshow": {
     "slide_type": "fragment"
    }
   },
   "outputs": [],
   "source": [
    "n.real  # 0.25\n",
    "n.imag  # 0"
   ]
  },
  {
   "cell_type": "markdown",
   "metadata": {
    "slideshow": {
     "slide_type": "subslide"
    }
   },
   "source": [
    "#### `conjugate()`\n",
    ">Retorna el conjugado complejo del número "
   ]
  },
  {
   "cell_type": "code",
   "execution_count": null,
   "metadata": {
    "slideshow": {
     "slide_type": "fragment"
    }
   },
   "outputs": [],
   "source": [
    "n.conjugate()"
   ]
  },
  {
   "cell_type": "markdown",
   "metadata": {
    "slideshow": {
     "slide_type": "subslide"
    }
   },
   "source": [
    "#### `float.fromhex(string)`\n",
    ">Classmethod que crea un flotante a partir de una cadena hexadecimal"
   ]
  },
  {
   "cell_type": "code",
   "execution_count": null,
   "metadata": {
    "slideshow": {
     "slide_type": "fragment"
    }
   },
   "outputs": [],
   "source": [
    "float.fromhex('0x1.ffffp10')"
   ]
  },
  {
   "cell_type": "markdown",
   "metadata": {
    "slideshow": {
     "slide_type": "subslide"
    }
   },
   "source": [
    "#### `hex()`\n",
    ">Método que retorna una cadena de la representacion hexadecimal del numero"
   ]
  },
  {
   "cell_type": "code",
   "execution_count": null,
   "metadata": {
    "slideshow": {
     "slide_type": "fragment"
    }
   },
   "outputs": [],
   "source": [
    "n.hex()"
   ]
  },
  {
   "cell_type": "markdown",
   "metadata": {
    "slideshow": {
     "slide_type": "subslide"
    }
   },
   "source": [
    "#### `is_interger()`\n",
    ">Método que retorna si la variable es un numero entero o no"
   ]
  },
  {
   "cell_type": "code",
   "execution_count": null,
   "metadata": {
    "slideshow": {
     "slide_type": "fragment"
    }
   },
   "outputs": [],
   "source": [
    "n = 12.0\n",
    "n.is_integer()"
   ]
  },
  {
   "cell_type": "markdown",
   "metadata": {
    "slideshow": {
     "slide_type": "slide"
    }
   },
   "source": [
    "## Complejos \n",
    "## clase `complex()`\n",
    "___"
   ]
  },
  {
   "cell_type": "markdown",
   "metadata": {
    "slideshow": {
     "slide_type": "subslide"
    }
   },
   "source": [
    "<center><img src=\"imagenes/imaginario.jpg\" width=\"60%\" height=\"60%\"></center>"
   ]
  },
  {
   "cell_type": "markdown",
   "metadata": {
    "slideshow": {
     "slide_type": "subslide"
    }
   },
   "source": [
    ">Los números complejos son una extensión de los números reales... \n",
    "...Los números complejos incluyen todas las raíces de los polinomios, a diferencia de los reales. Todo número complejo puede representarse como la suma de un número real y un número imaginario (que es un múltiplo real de la unidad imaginaria, que se indica con la letra i o j), o en forma polar. \n",
    "\n",
    "[Wikipedia](https://es.wikipedia.org/wiki/N%C3%BAmero_complejo)"
   ]
  },
  {
   "cell_type": "markdown",
   "metadata": {
    "slideshow": {
     "slide_type": "subslide"
    }
   },
   "source": [
    "<center><img src=\"imagenes/complejo_plano.png\" width=\"40%\" height=\"40%\"></center>"
   ]
  },
  {
   "cell_type": "markdown",
   "metadata": {
    "slideshow": {
     "slide_type": "subslide"
    }
   },
   "source": [
    "### Aplicaciones\n",
    "\n",
    "* Matematicas puras\n",
    "* Fisica (cuantica y electromagnetismo)\n",
    "* Ingenieria (electronica y telecomunicaciones)\n",
    "\n",
    "Recomendacion: [Derivando: Que son los NUMEROS COMPLEJOS?](https://www.youtube.com/watch?v=LqyBrrgmIro)\n"
   ]
  },
  {
   "cell_type": "markdown",
   "metadata": {
    "slideshow": {
     "slide_type": "subslide"
    }
   },
   "source": [
    "### Representacion literal"
   ]
  },
  {
   "cell_type": "code",
   "execution_count": null,
   "metadata": {
    "slideshow": {
     "slide_type": "subslide"
    }
   },
   "outputs": [],
   "source": [
    "# numeros complejos\n",
    "complejo_1 = 2 + 3j\n",
    "complejo_2 = 3 - 5j"
   ]
  },
  {
   "cell_type": "markdown",
   "metadata": {
    "slideshow": {
     "slide_type": "subslide"
    }
   },
   "source": [
    "### Operadores aritmeticos, asignacion y logicos"
   ]
  },
  {
   "cell_type": "markdown",
   "metadata": {
    "slideshow": {
     "slide_type": "notes"
    }
   },
   "source": [
    "Las operaciones aritmeticas que acepta la clase `complex` son:\n",
    "* suma (+)\n",
    "* resta (-)\n",
    "* multiplicacion (*)[1]\n",
    "* division (/)[2]\n",
    "* potencia (\\**)\n",
    "\n",
    "Las operaciones de division entera y modulo no son validas en `complex`, y los operadores de asignacion vistos antes son validos para esta clase.\n",
    "\n",
    "[1] Multiplicacion: $$(ac - bd,ad + bc)$$ \n",
    "[2] Division: $$(\\frac{ac + bd}{c^2 + d^2}, \\frac{bc + ad}{c^2 + d^2})$$\n",
    "\n",
    "Debido a la naturaleza de los numeros complejos, solo pueden comparar su igualdad(y diferencia), los operadores de menor y mayor no son validos."
   ]
  },
  {
   "cell_type": "code",
   "execution_count": null,
   "metadata": {
    "slideshow": {
     "slide_type": "fragment"
    }
   },
   "outputs": [],
   "source": [
    "# suma\n",
    "complejo_1 + complejo_2\n",
    "# resta\n",
    "complejo_1 - complejo_2\n",
    "# multiplicacion\n",
    "complejo_1 * complejo_2\n",
    "# division\n",
    "complejo_1 / complejo_2"
   ]
  },
  {
   "cell_type": "code",
   "execution_count": null,
   "metadata": {
    "slideshow": {
     "slide_type": "subslide"
    }
   },
   "outputs": [],
   "source": [
    "# potencia\n",
    "complejo_1 ** complejo_2\n",
    "# asignacion\n",
    "z = 0\n",
    "z+= 0 + 1j\n",
    "z\n",
    "# comparacion\n",
    "complejo_1 == complejo_2\n",
    "complejo_1 != complejo_2\n",
    "complejo_1 > complejo_2"
   ]
  },
  {
   "cell_type": "markdown",
   "metadata": {
    "slideshow": {
     "slide_type": "subslide"
    }
   },
   "source": [
    "### Inspeccionando la clase `complex()`"
   ]
  },
  {
   "cell_type": "code",
   "execution_count": null,
   "metadata": {
    "slideshow": {
     "slide_type": "subslide"
    }
   },
   "outputs": [],
   "source": [
    "help(complex)"
   ]
  },
  {
   "cell_type": "markdown",
   "metadata": {
    "slideshow": {
     "slide_type": "subslide"
    }
   },
   "source": [
    "### `complex(real, imag)`/ `complex(string)`\n",
    "\n",
    ">Retorna un numero complejo con el valor real + imag*j o convertir una cadena en un numero complejo"
   ]
  },
  {
   "cell_type": "code",
   "execution_count": null,
   "metadata": {
    "slideshow": {
     "slide_type": "fragment"
    }
   },
   "outputs": [],
   "source": [
    "# con numeros\n",
    "complex(5,2)\n",
    "# con cadena\n",
    "complex('5+2j')  # evite los espacios entre el numero y el signo mas"
   ]
  },
  {
   "cell_type": "markdown",
   "metadata": {
    "slideshow": {
     "slide_type": "subslide"
    }
   },
   "source": [
    "### Metodos y atributos de la clase"
   ]
  },
  {
   "cell_type": "markdown",
   "metadata": {
    "slideshow": {
     "slide_type": "subslide"
    }
   },
   "source": [
    "#### `real` y `imag`\n",
    "> Retornan la parte real e imaginaria del numero"
   ]
  },
  {
   "cell_type": "code",
   "execution_count": null,
   "metadata": {
    "slideshow": {
     "slide_type": "fragment"
    }
   },
   "outputs": [],
   "source": [
    "n = 1 + 4j\n",
    "n.real\n",
    "n.imag\n",
    "# esto nos permite operar con las clases int y float\n",
    "n + 5 - 2.5  "
   ]
  },
  {
   "cell_type": "markdown",
   "metadata": {
    "slideshow": {
     "slide_type": "subslide"
    }
   },
   "source": [
    "#### `conjugate()`\n",
    "> Retorna el complejo conjugado del numero, que consiste en invertir el signo de la suma entre la parte real e imaginaria"
   ]
  },
  {
   "cell_type": "code",
   "execution_count": null,
   "metadata": {
    "slideshow": {
     "slide_type": "fragment"
    }
   },
   "outputs": [],
   "source": [
    "n\n",
    "n.conjugate()"
   ]
  },
  {
   "cell_type": "markdown",
   "metadata": {
    "slideshow": {
     "slide_type": "slide"
    }
   },
   "source": [
    "## Fracciones \n",
    "## módulo `fractions`\n",
    "___"
   ]
  },
  {
   "cell_type": "markdown",
   "metadata": {
    "slideshow": {
     "slide_type": "slide"
    }
   },
   "source": [
    "<center><img src=\"imagenes/interrupcion.jpg\"></center>"
   ]
  },
  {
   "cell_type": "markdown",
   "metadata": {
    "slideshow": {
     "slide_type": "subslide"
    }
   },
   "source": [
    "## ¿Como importar un módulo?\n",
    "___"
   ]
  },
  {
   "cell_type": "markdown",
   "metadata": {
    "slideshow": {
     "slide_type": "subslide"
    }
   },
   "source": [
    "### Usando `import`\n",
    "#### Sintaxis: \n",
    "~~~\n",
    "import <nombre_modulo>\n",
    "~~~\n",
    "Donde <nombre_modulo> es el módulo a importar "
   ]
  },
  {
   "cell_type": "code",
   "execution_count": null,
   "metadata": {
    "slideshow": {
     "slide_type": "fragment"
    }
   },
   "outputs": [],
   "source": [
    "# importando el modulo fractions\n",
    "import fractions"
   ]
  },
  {
   "cell_type": "markdown",
   "metadata": {
    "slideshow": {
     "slide_type": "subslide"
    }
   },
   "source": [
    "### Usando `from`\n",
    "#### Sintaxis: \n",
    "~~~\n",
    "from <nombre_modulo> import <nombre_clase/funcion>\n",
    "~~~\n",
    "podemos colocar un 'alias' a las clases/funciones: \n",
    "~~~\n",
    "from <nombre_modulo> import <nombre_clase/funcion> \n",
    "as <alias>\n",
    "~~~"
   ]
  },
  {
   "cell_type": "code",
   "execution_count": null,
   "metadata": {
    "slideshow": {
     "slide_type": "subslide"
    }
   },
   "outputs": [],
   "source": [
    "# importando la clase Fraction\n",
    "from fractions import Fraction\n",
    "# colocando un alias a la clase Fraction \n",
    "from fractions import Fraction as fraction"
   ]
  },
  {
   "cell_type": "markdown",
   "metadata": {
    "slideshow": {
     "slide_type": "subslide"
    }
   },
   "source": [
    "<center><img src=\"imagenes/advertencia.png\"></center>"
   ]
  },
  {
   "cell_type": "markdown",
   "metadata": {
    "slideshow": {
     "slide_type": "subslide"
    }
   },
   "source": [
    "### Advertencia\n",
    "La sintaxis `from` puede hacer uso del simbolo `*` para importar todo el contenido del módulo:\n",
    "~~~\n",
    "from <nombre_modulo> import *\n",
    "~~~\n",
    "Sin embargo, no se recomienda el uso de dicha sintaxis, ya que sobrecarga las variables del *namespace* principal, produciendo problemas del rendimiento de su código."
   ]
  },
  {
   "cell_type": "markdown",
   "metadata": {
    "slideshow": {
     "slide_type": "subslide"
    }
   },
   "source": [
    "<center><img src=\"imagenes/programacion_habitual.jpg\"></center>"
   ]
  },
  {
   "cell_type": "markdown",
   "metadata": {
    "slideshow": {
     "slide_type": "slide"
    }
   },
   "source": [
    "### Clase `Fraction()`"
   ]
  },
  {
   "cell_type": "markdown",
   "metadata": {
    "slideshow": {
     "slide_type": "subslide"
    }
   },
   "source": [
    "### `Fraction(numerador=0, denominator=1)` / `Fraction(value)`\n",
    ">Crea un numero de la clase Fraction, puede crearse a partir de un numerador y denominador, o un `float`, `Decimal` o `str`"
   ]
  },
  {
   "cell_type": "code",
   "execution_count": null,
   "metadata": {
    "slideshow": {
     "slide_type": "fragment"
    }
   },
   "outputs": [],
   "source": [
    "from fractions import Fraction\n",
    "fraccion = Fraction(1,5)\n",
    "fraccion"
   ]
  },
  {
   "cell_type": "markdown",
   "metadata": {
    "slideshow": {
     "slide_type": "subslide"
    }
   },
   "source": [
    "#### Operadores aritmeticos y de asignacion"
   ]
  },
  {
   "cell_type": "code",
   "execution_count": null,
   "metadata": {
    "slideshow": {
     "slide_type": "fragment"
    }
   },
   "outputs": [],
   "source": [
    "a, b = Fraction(2,5), Fraction(7,2)\n",
    "#  Suma\n",
    "a + b\n",
    "#  Resta\n",
    "a - b\n",
    "#  Multiplicacion\n",
    "a * b\n",
    "#  Division\n",
    "a / b"
   ]
  },
  {
   "cell_type": "code",
   "execution_count": null,
   "metadata": {
    "slideshow": {
     "slide_type": "subslide"
    }
   },
   "outputs": [],
   "source": [
    "#  Division entera\n",
    "a // b\n",
    "#  Modulo\n",
    "a % b\n",
    "#  Potencia\n",
    "a ** b\n",
    "#  operadores de asignacion\n",
    "c = Fraction()\n",
    "c+=a\n",
    "c"
   ]
  },
  {
   "cell_type": "markdown",
   "metadata": {
    "slideshow": {
     "slide_type": "subslide"
    }
   },
   "source": [
    "#### Operadores logicos"
   ]
  },
  {
   "cell_type": "code",
   "execution_count": null,
   "metadata": {
    "slideshow": {
     "slide_type": "fragment"
    }
   },
   "outputs": [],
   "source": [
    "#  Menor que\n",
    "a < b\n",
    "#  Mayor que\n",
    "a > b\n",
    "#  Igual que\n",
    "a == b\n",
    "#  Diferente que\n",
    "a != b "
   ]
  },
  {
   "cell_type": "markdown",
   "metadata": {
    "slideshow": {
     "slide_type": "subslide"
    }
   },
   "source": [
    "### Metodos y atributos"
   ]
  },
  {
   "cell_type": "markdown",
   "metadata": {
    "slideshow": {
     "slide_type": "subslide"
    }
   },
   "source": [
    "#### `numerator` y `denominator`\n",
    "> Atributos del numerador y denominador correspondiente a la fraccion"
   ]
  },
  {
   "cell_type": "code",
   "execution_count": null,
   "metadata": {
    "slideshow": {
     "slide_type": "fragment"
    }
   },
   "outputs": [],
   "source": [
    "fraccion.numerator\n",
    "fraccion.denominator\n",
    "fraccion + 45 * 3.5"
   ]
  },
  {
   "cell_type": "markdown",
   "metadata": {
    "slideshow": {
     "slide_type": "subslide"
    }
   },
   "source": [
    "#### `from_float(flt)` y `from_decimal(dec)`\n",
    "> classmethods para convertir un `float` y un `decimal` en fracciones"
   ]
  },
  {
   "cell_type": "code",
   "execution_count": null,
   "metadata": {
    "slideshow": {
     "slide_type": "fragment"
    }
   },
   "outputs": [],
   "source": [
    "Fraction.from_float(4.5)"
   ]
  },
  {
   "cell_type": "markdown",
   "metadata": {
    "slideshow": {
     "slide_type": "subslide"
    }
   },
   "source": [
    "#### `limit_denominator(max_denominator=1000000)`\n",
    ">Retorna la fraccion mas cerrada al maximo denominador"
   ]
  },
  {
   "cell_type": "code",
   "execution_count": null,
   "metadata": {
    "slideshow": {
     "slide_type": "fragment"
    }
   },
   "outputs": [],
   "source": [
    "fraccion.limit_denominator(8)\n",
    "fraccion "
   ]
  },
  {
   "cell_type": "markdown",
   "metadata": {
    "slideshow": {
     "slide_type": "subslide"
    }
   },
   "source": [
    "#### `fractions.gdc(a,b)`\n",
    "> Retorna el maximo comun divisor entre a y b"
   ]
  },
  {
   "cell_type": "code",
   "execution_count": null,
   "metadata": {
    "slideshow": {
     "slide_type": "fragment"
    }
   },
   "outputs": [],
   "source": [
    "from fractions import gcd\n",
    "gcd(8,2) # metodo obsoleto"
   ]
  },
  {
   "cell_type": "markdown",
   "metadata": {
    "slideshow": {
     "slide_type": "slide"
    }
   },
   "source": [
    "## Decimales \n",
    "## módulo `decimal`\n",
    "___"
   ]
  },
  {
   "cell_type": "markdown",
   "metadata": {
    "slideshow": {
     "slide_type": "subslide"
    }
   },
   "source": [
    "### IEEE 754 (Estandar coma flotante)\n",
    "[Wikipedia: IEEE coma flotante](https://es.wikipedia.org/wiki/IEEE_coma_flotante)\n",
    "<center><img src=\"imagenes/IEEE_754.png\"></center>"
   ]
  },
  {
   "cell_type": "markdown",
   "metadata": {
    "slideshow": {
     "slide_type": "subslide"
    }
   },
   "source": [
    "### Contextos"
   ]
  },
  {
   "cell_type": "code",
   "execution_count": null,
   "metadata": {
    "slideshow": {
     "slide_type": "fragment"
    }
   },
   "outputs": [],
   "source": [
    "from decimal import getcontext, Decimal\n",
    "contexto = getcontext()\n",
    "contexto"
   ]
  },
  {
   "cell_type": "markdown",
   "metadata": {
    "slideshow": {
     "slide_type": "subslide"
    }
   },
   "source": [
    "#### `prec`\n",
    "> `prec` permite especificar la cantidad de digitos a manejar para la precision del numero"
   ]
  },
  {
   "cell_type": "code",
   "execution_count": null,
   "metadata": {
    "slideshow": {
     "slide_type": "fragment"
    }
   },
   "outputs": [],
   "source": [
    "contexto.prec = 4\n",
    "Decimal(1)/Decimal(3)\n",
    "Decimal(1/3)"
   ]
  },
  {
   "cell_type": "markdown",
   "metadata": {
    "slideshow": {
     "slide_type": "subslide"
    }
   },
   "source": [
    "#### `rounding`\n",
    "> Especifica el tipo de redondeo que utiliza la clase Decimal, puede ser empleado los tipos: 'ROUND_05UP', 'ROUND_CEILING', 'ROUND_DOWN', 'ROUND_FLOOR', 'ROUND_HALF_DOWN', 'ROUND_HALF_EVEN', 'ROUND_HALF_UP' y 'ROUND_UP' "
   ]
  },
  {
   "cell_type": "markdown",
   "metadata": {
    "slideshow": {
     "slide_type": "notes"
    }
   },
   "source": [
    "Para conocer mas acerca del redondeo en los conocerntextos del modulo decimal, visite [Real Python.](https://realpython.com/python-rounding/#truncation)"
   ]
  },
  {
   "cell_type": "code",
   "execution_count": null,
   "metadata": {
    "slideshow": {
     "slide_type": "subslide"
    }
   },
   "outputs": [],
   "source": [
    "from decimal import ROUND_DOWN, ROUND_UP\n",
    "contexto.prec = 7\n",
    "Decimal('3.1415926535') + Decimal('2.7182818285')\n",
    "contexto.rounding = ROUND_DOWN\n",
    "Decimal('3.1415926535') + Decimal('2.7182818285')"
   ]
  },
  {
   "cell_type": "markdown",
   "metadata": {
    "slideshow": {
     "slide_type": "subslide"
    }
   },
   "source": [
    "#### `traps` y `flags`\n",
    ">Enlista las señales que se deben ajustar"
   ]
  },
  {
   "cell_type": "markdown",
   "metadata": {
    "slideshow": {
     "slide_type": "subslide"
    }
   },
   "source": [
    "#### `Emin` y `Emax`\n",
    "> Son enteros que especifican los límites externos permitidos para los exponentes."
   ]
  },
  {
   "cell_type": "markdown",
   "metadata": {
    "slideshow": {
     "slide_type": "subslide"
    }
   },
   "source": [
    "#### `capitals`\n",
    ">Es 0 o 1 (el valor por defecto). Si se ajusta a 1, los exponentes se imprimen con una E mayúscula; de lo contrario, se utiliza una e minúscula."
   ]
  },
  {
   "cell_type": "code",
   "execution_count": null,
   "metadata": {
    "slideshow": {
     "slide_type": "fragment"
    }
   },
   "outputs": [],
   "source": [
    "contexto.prec = 5\n",
    "contexto.capitals = 0\n",
    "Decimal('1e100')"
   ]
  },
  {
   "cell_type": "markdown",
   "metadata": {
    "slideshow": {
     "slide_type": "subslide"
    }
   },
   "source": [
    "#### Otros contextos"
   ]
  },
  {
   "cell_type": "code",
   "execution_count": null,
   "metadata": {
    "slideshow": {
     "slide_type": "fragment"
    }
   },
   "outputs": [],
   "source": [
    "from decimal import BasicContext, ExtendedContext, DefaultContext, setcontext\n",
    "BasicContext  # Contexto basico  \n",
    "ExtendedContext  # Contexto extendido\n",
    "DefaultContext  # Contexto por default para la clase\n",
    "setcontext(DefaultContext)"
   ]
  },
  {
   "cell_type": "markdown",
   "metadata": {
    "slideshow": {
     "slide_type": "subslide"
    }
   },
   "source": [
    "### clase `Decimal()`"
   ]
  },
  {
   "cell_type": "markdown",
   "metadata": {
    "slideshow": {
     "slide_type": "subslide"
    }
   },
   "source": [
    "#### `Decimal(value='0', context=None)`\n",
    "> Construye un numero de la clase decimal, a partir de un valor, que puede ser un `int`, `tuple`, `float`, `str` u otro `Decimal`\n"
   ]
  },
  {
   "cell_type": "code",
   "execution_count": null,
   "metadata": {
    "slideshow": {
     "slide_type": "fragment"
    }
   },
   "outputs": [],
   "source": [
    "Decimal(1)  # Usando un int\n",
    "Decimal((0, (1, 4, 1, 4), -3))  # Usando una tupla\n",
    "Decimal(1.1) # Usando un float  \n",
    "Decimal('1.1')  # Usando un str"
   ]
  },
  {
   "cell_type": "code",
   "execution_count": null,
   "metadata": {
    "slideshow": {
     "slide_type": "subslide"
    }
   },
   "outputs": [],
   "source": [
    "# Representacion de infinito\n",
    "Decimal('inf')\n",
    "Decimal('-inf')\n",
    "# Representacion de NaN\n",
    "Decimal('NaN')"
   ]
  },
  {
   "cell_type": "markdown",
   "metadata": {
    "slideshow": {
     "slide_type": "notes"
    }
   },
   "source": [
    "Si el valor es un `float`, el valor binario en coma flotante se convierte sin pérdidas a su equivalente decimal exacto. Esta conversión puede requerir a menudo 53 o más dígitos de precisión."
   ]
  },
  {
   "cell_type": "markdown",
   "metadata": {
    "slideshow": {
     "slide_type": "subslide"
    }
   },
   "source": [
    "### Operadores aritmeticos y de asignacion"
   ]
  },
  {
   "cell_type": "code",
   "execution_count": null,
   "metadata": {
    "slideshow": {
     "slide_type": "fragment"
    }
   },
   "outputs": [],
   "source": [
    "x, y = Decimal('2.25'), Decimal(1)\n",
    "# Suma\n",
    "x + y\n",
    "# Resta\n",
    "x - y\n",
    "# Multiplicacion\n",
    "x * y\n",
    "# Division\n",
    "x / y"
   ]
  },
  {
   "cell_type": "code",
   "execution_count": null,
   "metadata": {
    "slideshow": {
     "slide_type": "subslide"
    }
   },
   "outputs": [],
   "source": [
    "# Division entera\n",
    "x // y\n",
    "# Modulo\n",
    "x % y\n",
    "# Potencia\n",
    "x ** 2\n",
    "# operador de asigancion\n",
    "z = Decimal()\n",
    "z += x\n",
    "z"
   ]
  },
  {
   "cell_type": "markdown",
   "metadata": {
    "slideshow": {
     "slide_type": "subslide"
    }
   },
   "source": [
    "### Otras operaciones aritmeticas"
   ]
  },
  {
   "cell_type": "code",
   "execution_count": null,
   "metadata": {
    "slideshow": {
     "slide_type": "fragment"
    }
   },
   "outputs": [],
   "source": [
    "dec = Decimal('10.5')\n",
    "# digito mas significativo\n",
    "dec.adjusted() # retorna su posicion\n",
    "# conjugado del numero\n",
    "dec.conjugate()\n",
    "# exponencial: e**dec\n",
    "dec.exp()"
   ]
  },
  {
   "cell_type": "code",
   "execution_count": null,
   "metadata": {
    "slideshow": {
     "slide_type": "subslide"
    }
   },
   "outputs": [],
   "source": [
    "# fusion multiplicacion-suma: dec*a+b\n",
    "dec.fma(2,5)\n",
    "# logaritmos\n",
    "dec.ln()\n",
    "dec.log10()\n",
    "dec.logb()"
   ]
  },
  {
   "cell_type": "code",
   "execution_count": null,
   "metadata": {
    "slideshow": {
     "slide_type": "subslide"
    }
   },
   "outputs": [],
   "source": [
    "dec = Decimal('1.5')\n",
    "# siguiente mas pequeño\n",
    "dec.next_minus()\n",
    "# siguiente mas grande\n",
    "dec.next_plus()\n",
    "# siguiente hacia\n",
    "dec.next_toward(0)\n",
    "# resto mas cercano: dec-n*other \n",
    "# donde n es el entero mas cercano de dec/other\n",
    "dec.remainder_near(Decimal('10')) "
   ]
  },
  {
   "cell_type": "code",
   "execution_count": null,
   "metadata": {
    "slideshow": {
     "slide_type": "subslide"
    }
   },
   "outputs": [],
   "source": [
    "# rotacion ???\n",
    "dec.rotate(1)\n",
    "# dec*10**n\n",
    "dec.scaleb(2)\n",
    "# dezplazar (es similar a scaleb)\n",
    "dec.shift(3)\n",
    "# raiz cuadrada\n",
    "dec.sqrt()"
   ]
  },
  {
   "cell_type": "markdown",
   "metadata": {
    "slideshow": {
     "slide_type": "subslide"
    }
   },
   "source": [
    "### Operadores logicos"
   ]
  },
  {
   "cell_type": "code",
   "execution_count": null,
   "metadata": {
    "slideshow": {
     "slide_type": "fragment"
    }
   },
   "outputs": [],
   "source": [
    "# menor que\n",
    "x < y\n",
    "# mayor que\n",
    "x > y\n",
    "#  igual que\n",
    "x == y\n",
    "# diferente que\n",
    "x != y\n",
    "# anidando operadores\n",
    "5.5 < x < 6"
   ]
  },
  {
   "cell_type": "markdown",
   "metadata": {
    "slideshow": {
     "slide_type": "subslide"
    }
   },
   "source": [
    "### Otras comparaciones"
   ]
  },
  {
   "cell_type": "code",
   "execution_count": null,
   "metadata": {
    "slideshow": {
     "slide_type": "fragment"
    }
   },
   "outputs": [],
   "source": [
    "# comparaciones\n",
    "dec.compare(1) \n",
    "# Arroja un error si uno de los valores es Nan\n",
    "dec.compare_signal(10)\n",
    "# Marca que son distintos si usan diferentes representaciones\n",
    "dec = Decimal(10)\n",
    "dec.compare_total(Decimal('10.0'))\n",
    "# Compara valores absolutos\n",
    "dec.compare_total_mag(-10)"
   ]
  },
  {
   "cell_type": "code",
   "execution_count": null,
   "metadata": {
    "slideshow": {
     "slide_type": "subslide"
    }
   },
   "outputs": [],
   "source": [
    "# maximos y minimos\n",
    "dec.max(5)  # maximo  \n",
    "dec.max_mag(-11)  # maximo con valores absolutos\n",
    "dec.min(20)  # minimo\n",
    "dec.min_mag(-1)  # minimo con valores absolutos"
   ]
  },
  {
   "cell_type": "code",
   "execution_count": null,
   "metadata": {
    "slideshow": {
     "slide_type": "subslide"
    }
   },
   "outputs": [],
   "source": [
    "#Comprobaciones\n",
    "dec.is_canonical()\n",
    "dec.is_finite()\n",
    "dec.is_infinite()\n",
    "dec.is_nan()\n",
    "dec.is_normal()"
   ]
  },
  {
   "cell_type": "code",
   "execution_count": null,
   "metadata": {
    "slideshow": {
     "slide_type": "subslide"
    }
   },
   "outputs": [],
   "source": [
    "dec.is_qnan()\n",
    "dec.is_signed()\n",
    "dec.is_snan()\n",
    "dec.is_subnormal()\n",
    "dec.is_zero()"
   ]
  },
  {
   "cell_type": "code",
   "execution_count": null,
   "metadata": {
    "slideshow": {
     "slide_type": "subslide"
    }
   },
   "outputs": [],
   "source": [
    "# Comaparaciones logicas\n",
    "setcontext(ExtendedContext) #Debe usarse este contexto para evitar la InvalidOperation \n",
    "dec.logical_and(2)\n",
    "dec.logical_invert()\n",
    "dec.logical_or(3)\n",
    "dec.logical_xor(9)"
   ]
  },
  {
   "cell_type": "markdown",
   "metadata": {
    "slideshow": {
     "slide_type": "subslide"
    }
   },
   "source": [
    "### Otros metodos y argumentos"
   ]
  },
  {
   "cell_type": "code",
   "execution_count": null,
   "metadata": {
    "slideshow": {
     "slide_type": "fragment"
    }
   },
   "outputs": [],
   "source": [
    "dec.real\n",
    "dec.imag"
   ]
  },
  {
   "cell_type": "code",
   "execution_count": null,
   "metadata": {
    "slideshow": {
     "slide_type": "subslide"
    }
   },
   "outputs": [],
   "source": [
    "dec.adjusted()\n",
    "#  represantacion en fraccion\n",
    "dec.as_integer_ratio()\n",
    "#  representacion como tupla\n",
    "dec.as_tuple()\n",
    "# representacion canonica\n",
    "dec.canonical()"
   ]
  },
  {
   "cell_type": "code",
   "execution_count": null,
   "metadata": {
    "slideshow": {
     "slide_type": "subslide"
    }
   },
   "outputs": [],
   "source": [
    "# copias\n",
    "dec.copy_abs()  # valor absoluto\n",
    "dec.copy_negate()  # valor negado\n",
    "dec.copy_sign(-1)  # signo\n",
    "# conversion decimal - float\n",
    "Decimal.from_float(3.1)"
   ]
  },
  {
   "cell_type": "code",
   "execution_count": null,
   "metadata": {
    "slideshow": {
     "slide_type": "subslide"
    }
   },
   "outputs": [],
   "source": [
    "# normalizar la notacion\n",
    "Decimal('2.0300').normalize()\n",
    "# tipo de representacion\n",
    "dec.number_class()\n",
    "# redondear\n",
    "Decimal('1.324577').quantize(Decimal('1.00'))\n",
    "# Base numerica\n",
    "dec.radix()\n",
    "# Comprobar mismo exponente\n",
    "dec.same_quantum(Decimal('20'))"
   ]
  },
  {
   "cell_type": "code",
   "execution_count": null,
   "metadata": {
    "slideshow": {
     "slide_type": "subslide"
    }
   },
   "outputs": [],
   "source": [
    "# conversion a string\n",
    "dec.to_eng_string()\n",
    "# entero redondeado\n",
    "dec.to_integral()\n",
    "# entero exacto\n",
    "dec.to_integral_exact()\n",
    "# entero mas cercano\n",
    "dec.to_integral_value()"
   ]
  }
 ],
 "metadata": {
  "celltoolbar": "Slideshow",
  "kernelspec": {
   "display_name": "Python 3",
   "language": "python",
   "name": "python3"
  },
  "language_info": {
   "codemirror_mode": {
    "name": "ipython",
    "version": 3
   },
   "file_extension": ".py",
   "mimetype": "text/x-python",
   "name": "python",
   "nbconvert_exporter": "python",
   "pygments_lexer": "ipython3",
   "version": "3.7.4"
  }
 },
 "nbformat": 4,
 "nbformat_minor": 2
}
