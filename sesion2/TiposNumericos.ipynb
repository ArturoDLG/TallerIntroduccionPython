{
 "cells": [
  {
   "cell_type": "markdown",
   "metadata": {
    "slideshow": {
     "slide_type": "slide"
    }
   },
   "source": [
    "# Tipos númericos en Python"
   ]
  },
  {
   "cell_type": "markdown",
   "metadata": {
    "slideshow": {
     "slide_type": "slide"
    }
   },
   "source": [
    "## Que vamos a aprender?\n",
    "\n",
    "* ### Clases numericas nativas (builtins)\n",
    "* ### Operaciones \n",
    "* ### Casos de usos\n",
    "* ### Tips"
   ]
  },
  {
   "cell_type": "markdown",
   "metadata": {
    "slideshow": {
     "slide_type": "slide"
    }
   },
   "source": [
    "## Enteros \n",
    "## clase `int()`\n",
    "___"
   ]
  },
  {
   "cell_type": "markdown",
   "metadata": {
    "slideshow": {
     "slide_type": "subslide"
    }
   },
   "source": [
    "### Tipos int en C/C++   \n",
    "<img style=\"float:right; margin:10px;\" src=\"imagenes/confundido.jfif\"> \n",
    "* `int`\n",
    "* `unsigned int`\n",
    "* `short int`\n",
    "* `long int`\n",
    "* `long long int`\n"
   ]
  },
  {
   "cell_type": "markdown",
   "metadata": {
    "slideshow": {
     "slide_type": "subslide"
    }
   },
   "source": [
    "### Representación literal"
   ]
  },
  {
   "cell_type": "code",
   "execution_count": null,
   "metadata": {
    "slideshow": {
     "slide_type": "fragment"
    }
   },
   "outputs": [],
   "source": [
    "#  numeros enteros\n",
    "a = 500\n",
    "b = -90\n",
    "a, b"
   ]
  },
  {
   "cell_type": "markdown",
   "metadata": {
    "slideshow": {
     "slide_type": "subslide"
    }
   },
   "source": [
    "### Representación para numeros muy grandes"
   ]
  },
  {
   "cell_type": "code",
   "execution_count": null,
   "metadata": {
    "slideshow": {
     "slide_type": "fragment"
    }
   },
   "outputs": [],
   "source": [
    "#  cien millones\n",
    "numero_grande = 100000000\n",
    "#  notacion con guion bajo\n",
    "otro_numero_grande = 100_000_000\n",
    "#  notacion cientifica\n",
    "notacion_cientifica = 1e8 "
   ]
  },
  {
   "cell_type": "markdown",
   "metadata": {
    "slideshow": {
     "slide_type": "subslide"
    }
   },
   "source": [
    "### Operadores arimeticos y de asignación"
   ]
  },
  {
   "cell_type": "markdown",
   "metadata": {
    "slideshow": {
     "slide_type": "notes"
    }
   },
   "source": [
    "Las operaciones matematicas que permiten la clase `int` son:\n",
    "* suma (+)\n",
    "* resta (-)\n",
    "* multiplicacion (*)\n",
    "* division (/)\n",
    "* division entera (//)\n",
    "* modulo (%)\n",
    "* potencia (\\**)  \n",
    "\n",
    "Tambien podemos usar operadores de asignacion, los cuales se escriben con cualquiera de los operadores antes descrito, seguido del operador `=` , de la manera siguiente: `x += 5 # incrementar en 5 a x`\n",
    "\n",
    "Nota: La division devuelve un numero de tipo `float`, mientras que la division entera(//) devuelve un numero de tipo `int`"
   ]
  },
  {
   "cell_type": "code",
   "execution_count": null,
   "metadata": {
    "slideshow": {
     "slide_type": "fragment"
    }
   },
   "outputs": [],
   "source": [
    "x, y = 10, 5\n",
    "#  suma\n",
    "print(x + y)\n",
    "#  resta\n",
    "print(x - y)\n",
    "#  multiplicacion\n",
    "print(x * y)\n",
    "#  division\n",
    "print(x / y)"
   ]
  },
  {
   "cell_type": "markdown",
   "metadata": {
    "slideshow": {
     "slide_type": "subslide"
    }
   },
   "source": [
    "### Operaciones logicas y booleanas"
   ]
  },
  {
   "cell_type": "markdown",
   "metadata": {
    "slideshow": {
     "slide_type": "notes"
    }
   },
   "source": [
    "Las operaciones logicas que permiten la clase `int` son:\n",
    "* menor que (<)\n",
    "* menor o igual que (<=)\n",
    "* mayor que (>)\n",
    "* mayor o igual que (>=)\n",
    "* igual que (==)\n",
    "* diferente que (!=)  \n",
    "\n",
    "Mientras que las booleanas son:\n",
    "* `and` \n",
    "* `or` \n",
    "* `not`\n",
    "\n",
    "Los operadores booleanos antes mencionados, son palabras reservadas (keywords) de Python  "
   ]
  },
  {
   "cell_type": "code",
   "execution_count": null,
   "metadata": {
    "slideshow": {
     "slide_type": "fragment"
    }
   },
   "outputs": [],
   "source": [
    "#  menor que\n",
    "print(x < y)\n",
    "#  mayor que\n",
    "print(x > y)\n",
    "#  igual que\n",
    "print(x == y)\n",
    "#  diferente que\n",
    "print(x != y)"
   ]
  },
  {
   "cell_type": "markdown",
   "metadata": {
    "slideshow": {
     "slide_type": "subslide"
    }
   },
   "source": [
    "### Operaciones de bits"
   ]
  },
  {
   "cell_type": "markdown",
   "metadata": {
    "slideshow": {
     "slide_type": "notes"
    }
   },
   "source": [
    "Las operaciones de bits que permiten la clase `int` son:\n",
    "* and (&)\n",
    "* or (|)\n",
    "* xor (^)\n",
    "* not (~)\n",
    "* desplazamiento a la derecha (>>)\n",
    "* desplazamiento a la izquierda (<<)  \n",
    "\n",
    ">Una operación bit a bit o bitwise opera sobre números binarios a nivel de sus bits individuales. Es una acción primitiva rápida, soportada directamente por los procesadores. En procesadores simples de bajo costo, las operaciones de bit a bit, junto con los de adición y sustracción, son típicamente sustancialmente más rápidas que la multiplicación y la división, mientras que en los modernos procesadores de alto rendimiento usualmente las operaciones se realizan a la misma velocidad. \n",
    "\n",
    "[Wikipedia](https://es.wikipedia.org/wiki/Operador_a_nivel_de_bits)"
   ]
  },
  {
   "cell_type": "code",
   "execution_count": null,
   "metadata": {
    "slideshow": {
     "slide_type": "fragment"
    }
   },
   "outputs": [],
   "source": [
    "#  representacion en binario de 'x' y 'y'\n",
    "print(bin(x), bin(y))\n",
    "print(x & y) #  and\n",
    "print(x | y) #  or\n",
    "print(x ^ y) #  xor\n",
    "#  desplazamiento de bits\n",
    "print(x >> 2) #  desplazar 2 bits a la derecha\n",
    "print(x << 2) # desplazar 2 bits a la izquierda"
   ]
  },
  {
   "cell_type": "markdown",
   "metadata": {
    "slideshow": {
     "slide_type": "subslide"
    }
   },
   "source": [
    "### Inspeccionando la clase `int()`"
   ]
  },
  {
   "cell_type": "code",
   "execution_count": null,
   "metadata": {
    "slideshow": {
     "slide_type": "fragment"
    }
   },
   "outputs": [],
   "source": [
    "help(int)"
   ]
  },
  {
   "cell_type": "markdown",
   "metadata": {
    "slideshow": {
     "slide_type": "subslide"
    }
   },
   "source": [
    "### `int(x)`\n",
    "> Convierte un numero o cadena a un entero, o retorna 0 si no recibe argumentos ...  \n",
    "... Para numeros flotantes, este trunca hacia cero ...  \n",
    "... El literal puede ser precedido por '+'  o '-' ...  "
   ]
  },
  {
   "cell_type": "code",
   "execution_count": null,
   "metadata": {
    "slideshow": {
     "slide_type": "fragment"
    }
   },
   "outputs": [],
   "source": [
    "int('100')"
   ]
  },
  {
   "cell_type": "markdown",
   "metadata": {
    "slideshow": {
     "slide_type": "subslide"
    }
   },
   "source": [
    "### `int(x, base = 10)`\n",
    "> ... La base por defecto es 10. Las bases válidas son 0 y 2-36.    \n",
    "    Base 0 significa interpretar la base de la cadena como un entero literal."
   ]
  },
  {
   "cell_type": "code",
   "execution_count": null,
   "metadata": {
    "slideshow": {
     "slide_type": "fragment"
    }
   },
   "outputs": [],
   "source": [
    "#  el 2° argumento puede prescindir de la palabra clave \"base\"\n",
    "int('1010', 2)"
   ]
  },
  {
   "cell_type": "markdown",
   "metadata": {
    "slideshow": {
     "slide_type": "subslide"
    }
   },
   "source": [
    "### Métodos y atributos de la clase"
   ]
  },
  {
   "cell_type": "markdown",
   "metadata": {
    "slideshow": {
     "slide_type": "subslide"
    }
   },
   "source": [
    "#### `bit_length()`\n",
    ">Retorna la cantidad de bits que se necesitan para representar el número en binario"
   ]
  },
  {
   "cell_type": "code",
   "execution_count": null,
   "metadata": {
    "slideshow": {
     "slide_type": "fragment"
    }
   },
   "outputs": [],
   "source": [
    "n = 32\n",
    "n.bit_length() #  100000"
   ]
  },
  {
   "cell_type": "markdown",
   "metadata": {
    "slideshow": {
     "slide_type": "subslide"
    }
   },
   "source": [
    "#### `conjugate()`\n",
    ">Retorna el conjugado complejo del número "
   ]
  },
  {
   "cell_type": "markdown",
   "metadata": {
    "slideshow": {
     "slide_type": "notes"
    }
   },
   "source": [
    "El complejo conjugado es la operación que invierte la parte compleja de un número.   \n",
    "Algunas aplicaciones del conjugado son:\n",
    "> * La conjugación del denominador complejo juega el mismo papel que la racionalización de un denominador irracional. Se busca que el denominador sea real.\n",
    "> * Facilita la división de números complejos, pues al conjugar el denominador, el cociente se transforma en un producto del dividendo por el inverso multiplicativo del divisor.\n",
    "> * Permite calcular el módulo de cualquier número complejo\n",
    "\n",
    "[Wikipedia](https://es.wikipedia.org/wiki/Conjugado_(matem%C3%A1tica))"
   ]
  },
  {
   "cell_type": "code",
   "execution_count": null,
   "metadata": {
    "slideshow": {
     "slide_type": "fragment"
    }
   },
   "outputs": [],
   "source": [
    "n.conjugate() #  32"
   ]
  },
  {
   "cell_type": "markdown",
   "metadata": {
    "slideshow": {
     "slide_type": "subslide"
    }
   },
   "source": [
    "#### `denominator`\n",
    ">Atributo del valor del denominador, en enteros siempre 1 "
   ]
  },
  {
   "cell_type": "code",
   "execution_count": null,
   "metadata": {
    "slideshow": {
     "slide_type": "fragment"
    }
   },
   "outputs": [],
   "source": [
    "n.denominator #  1"
   ]
  },
  {
   "cell_type": "markdown",
   "metadata": {
    "slideshow": {
     "slide_type": "subslide"
    }
   },
   "source": [
    "#### `int.from_bytes(bytes, byteorder, *, signed=False)`\n",
    ">Método de clase (classmethod) que retorna el entero de un arreglo de bytes"
   ]
  },
  {
   "cell_type": "markdown",
   "metadata": {
    "slideshow": {
     "slide_type": "notes"
    }
   },
   "source": [
    "* `bytes`: Recibe una cadena de bytes (b-string) o producirlo con un iterable\n",
    "* `byteorder`: Determina el orden de los bytes utilizado para representar el entero. Si el orden de bytes es \"big\", el byte más significativo se encuentra al principio de la matriz de bytes. Si el orden de bytes es \"little\", el byte más significativo se encuentra al final de la matriz de bytes. Para solicitar el orden de bytes nativo del sistema host, utilice sys.byteorder como valor del orden de bytes.  \n",
    "* `signed`: Indica si se utiliza el complemento de dos para representar el entero. El valor predeterminado es False.\n",
    "\n",
    "[Python Software Foundation (Docs)](https://docs.python.org/3/library/stdtypes.html#typesnumeric)"
   ]
  },
  {
   "cell_type": "code",
   "execution_count": null,
   "metadata": {
    "slideshow": {
     "slide_type": "fragment"
    }
   },
   "outputs": [],
   "source": [
    "y = int.from_bytes(b'\\x00\\x10', byteorder='big')\n",
    "print(y)"
   ]
  },
  {
   "cell_type": "markdown",
   "metadata": {
    "slideshow": {
     "slide_type": "subslide"
    }
   },
   "source": [
    "#### `imag`\n",
    ">Atributo del valor de la parte imaginaria del número, en enteros siempre es 0"
   ]
  },
  {
   "cell_type": "code",
   "execution_count": null,
   "metadata": {
    "slideshow": {
     "slide_type": "fragment"
    }
   },
   "outputs": [],
   "source": [
    "n.imag #  0"
   ]
  },
  {
   "cell_type": "markdown",
   "metadata": {
    "slideshow": {
     "slide_type": "subslide"
    }
   },
   "source": [
    "#### `numerator`\n",
    ">Atributo del valor del numerador del número, que corresponde al valor del propio entero"
   ]
  },
  {
   "cell_type": "code",
   "execution_count": null,
   "metadata": {
    "slideshow": {
     "slide_type": "fragment"
    }
   },
   "outputs": [],
   "source": [
    "n.numerator #  32"
   ]
  },
  {
   "cell_type": "markdown",
   "metadata": {
    "slideshow": {
     "slide_type": "subslide"
    }
   },
   "source": [
    "#### `real`\n",
    ">Atributo del valor de la parte real del número, que corresponde al valor del propio entero"
   ]
  },
  {
   "cell_type": "code",
   "execution_count": null,
   "metadata": {
    "slideshow": {
     "slide_type": "fragment"
    }
   },
   "outputs": [],
   "source": [
    "n.real #  32"
   ]
  },
  {
   "cell_type": "markdown",
   "metadata": {
    "slideshow": {
     "slide_type": "subslide"
    }
   },
   "source": [
    "#### `to_bytes(length, byteorder, *, signed=False)`\n",
    ">Método que retorna una cadena de bytes (b-string) de un número"
   ]
  },
  {
   "cell_type": "markdown",
   "metadata": {
    "slideshow": {
     "slide_type": "notes"
    }
   },
   "source": [
    "*`length`: Cantidad de bytes para representar el número. Se retorna un OverflowError si el entero no es representable con el número dado de bytes.\n",
    "\n",
    "*`byteorder`: EDetermina el orden de los bytes utilizado para representar el entero. Si el orden de bytes es \"big\", el byte más significativo se encuentra al principio de la matriz de bytes. Si el orden de bytes es \"little\", el byte más significativo se encuentra al final de la matriz de bytes. Para solicitar el orden de bytes nativo del sistema host, utilice sys.byteorder como valor del orden de bytes.\n",
    "\n",
    "*`signed`: Determina si se utiliza el complemento de dos para representar el entero. Si el signo es Falso y se da un número entero negativo, se retorna un OverflowError. El valor predeterminado es False.\n",
    "\n",
    "[Python Software Foundation (Docs)](https://docs.python.org/3/library/stdtypes.html#typesnumeric)"
   ]
  },
  {
   "cell_type": "code",
   "execution_count": null,
   "metadata": {
    "slideshow": {
     "slide_type": "fragment"
    }
   },
   "outputs": [],
   "source": [
    "n.to_bytes(2,\"big\")"
   ]
  },
  {
   "cell_type": "markdown",
   "metadata": {
    "slideshow": {
     "slide_type": "subslide"
    }
   },
   "source": [
    "### Conversión a otros sistemas numericos\n",
    "#### funciones `bin()`, `oct()`, `hex()`"
   ]
  },
  {
   "cell_type": "code",
   "execution_count": null,
   "metadata": {
    "slideshow": {
     "slide_type": "fragment"
    }
   },
   "outputs": [],
   "source": [
    "#  conversion a binario\n",
    "binario = bin(8)\n",
    "print(binario)\n",
    "#  conversion a octal\n",
    "octal = oct(16)\n",
    "print(octal)\n",
    "#  conversion a hexadecimal\n",
    "hexadecimal = hex(50)\n",
    "print(hexadecimal)"
   ]
  },
  {
   "cell_type": "markdown",
   "metadata": {
    "slideshow": {
     "slide_type": "slide"
    }
   },
   "source": [
    "## Flotantes \n",
    "## clase `float()`\n",
    "___"
   ]
  },
  {
   "cell_type": "markdown",
   "metadata": {
    "slideshow": {
     "slide_type": "subslide"
    }
   },
   "source": [
    "### Representación literal"
   ]
  },
  {
   "cell_type": "code",
   "execution_count": null,
   "metadata": {
    "slideshow": {
     "slide_type": "fragment"
    }
   },
   "outputs": [],
   "source": [
    "#  numeros enteros\n",
    "a = 1.5\n",
    "b = -10.25\n",
    "a, b"
   ]
  },
  {
   "cell_type": "markdown",
   "metadata": {
    "slideshow": {
     "slide_type": "subslide"
    }
   },
   "source": [
    "### Representación para infinito"
   ]
  },
  {
   "cell_type": "code",
   "execution_count": null,
   "metadata": {
    "slideshow": {
     "slide_type": "fragment"
    }
   },
   "outputs": [],
   "source": [
    "#  infinito\n",
    "INF = float('inf')\n",
    "#  infinito negativo\n",
    "MENOS_INF = float('-inf')\n",
    "#  comprobacion\n",
    "INF > 1e10"
   ]
  },
  {
   "cell_type": "markdown",
   "metadata": {
    "slideshow": {
     "slide_type": "subslide"
    }
   },
   "source": [
    "### Operadores arimeticos y de asignación"
   ]
  },
  {
   "cell_type": "markdown",
   "metadata": {
    "slideshow": {
     "slide_type": "notes"
    }
   },
   "source": [
    "Las operaciones aritmeticas y de asignacion que permiten la clase `float` son iguales que en `int`:\n",
    "* suma (+)\n",
    "* resta (-)\n",
    "* multiplicacion (*)\n",
    "* division (/)\n",
    "* division entera (//)\n",
    "* modulo (%)\n",
    "* potencia (\\**)  "
   ]
  },
  {
   "cell_type": "code",
   "execution_count": null,
   "metadata": {
    "slideshow": {
     "slide_type": "fragment"
    }
   },
   "outputs": [],
   "source": [
    "x, y = 5.9, 9.1\n",
    "#  suma\n",
    "print(x + y)\n",
    "#  resta\n",
    "print(x + y)\n",
    "#  multiplicacion\n",
    "print(x + y)\n",
    "#  division\n",
    "print(x + y)"
   ]
  },
  {
   "cell_type": "markdown",
   "metadata": {
    "slideshow": {
     "slide_type": "subslide"
    }
   },
   "source": [
    "### Operaciones logicas y booleanas"
   ]
  },
  {
   "cell_type": "markdown",
   "metadata": {
    "slideshow": {
     "slide_type": "notes"
    }
   },
   "source": [
    "Las operaciones logicas que permiten la clase `float` son iguales que en `int`:\n",
    "* menor que (<)\n",
    "* menor o igual que (<=)\n",
    "* mayor que (>)\n",
    "* mayor o igual que (>=)\n",
    "* igual que (==)\n",
    "* diferente que (!=)  \n",
    "* `and` \n",
    "* `or` \n",
    "* `not` "
   ]
  },
  {
   "cell_type": "code",
   "execution_count": null,
   "metadata": {
    "slideshow": {
     "slide_type": "fragment"
    }
   },
   "outputs": [],
   "source": [
    "#  menor que\n",
    "print(x < y)\n",
    "#  mayor que\n",
    "print(x > y)\n",
    "#  igual que\n",
    "print(x == y)\n",
    "#  diferente que\n",
    "print(x != y)"
   ]
  },
  {
   "cell_type": "markdown",
   "metadata": {
    "slideshow": {
     "slide_type": "subslide"
    }
   },
   "source": [
    "### Inspeccionando la clase `float()`"
   ]
  },
  {
   "cell_type": "code",
   "execution_count": null,
   "metadata": {
    "slideshow": {
     "slide_type": "fragment"
    }
   },
   "outputs": [],
   "source": [
    "help(float)"
   ]
  },
  {
   "cell_type": "markdown",
   "metadata": {
    "slideshow": {
     "slide_type": "subslide"
    }
   },
   "source": [
    "### `float(x)`\n",
    "> Convierte una cadena o numero en punto flotante, si es posible"
   ]
  },
  {
   "cell_type": "code",
   "execution_count": null,
   "metadata": {
    "slideshow": {
     "slide_type": "fragment"
    }
   },
   "outputs": [],
   "source": [
    "float('24.42')"
   ]
  },
  {
   "cell_type": "markdown",
   "metadata": {
    "slideshow": {
     "slide_type": "subslide"
    }
   },
   "source": [
    "### Métodos y atributos de la clase"
   ]
  },
  {
   "cell_type": "markdown",
   "metadata": {
    "slideshow": {
     "slide_type": "subslide"
    }
   },
   "source": [
    "#### `as_integer_ratio()`\n",
    ">Devuelve un par de números enteros, cuya relación es exactamente igual al flotador original y con un denominador positivo(representación en fracción)."
   ]
  },
  {
   "cell_type": "code",
   "execution_count": null,
   "metadata": {
    "slideshow": {
     "slide_type": "fragment"
    }
   },
   "outputs": [],
   "source": [
    "n.as_integer_radio()"
   ]
  },
  {
   "cell_type": "markdown",
   "metadata": {
    "slideshow": {
     "slide_type": "subslide"
    }
   },
   "source": [
    "#### `conjugate`\n",
    ">Retorna el conjugado complejo del número "
   ]
  },
  {
   "cell_type": "code",
   "execution_count": null,
   "metadata": {
    "slideshow": {
     "slide_type": "fragment"
    }
   },
   "outputs": [],
   "source": [
    "n.conjugate"
   ]
  },
  {
   "cell_type": "markdown",
   "metadata": {
    "slideshow": {
     "slide_type": "subslide"
    }
   },
   "source": [
    "#### `float.fromhex(string)`\n",
    ">Classmethod que crea un flotante a partir de una cadena hexadecimal"
   ]
  },
  {
   "cell_type": "code",
   "execution_count": null,
   "metadata": {
    "slideshow": {
     "slide_type": "fragment"
    }
   },
   "outputs": [],
   "source": [
    "float.fromhex('0x1.ffffp10')"
   ]
  },
  {
   "cell_type": "markdown",
   "metadata": {
    "slideshow": {
     "slide_type": "subslide"
    }
   },
   "source": [
    "#### `hex()`\n",
    ">Método que retorna una cadena de la representacion hexadecimal del numero"
   ]
  },
  {
   "cell_type": "code",
   "execution_count": null,
   "metadata": {
    "slideshow": {
     "slide_type": "fragment"
    }
   },
   "outputs": [],
   "source": [
    "n.hex()"
   ]
  },
  {
   "cell_type": "markdown",
   "metadata": {
    "slideshow": {
     "slide_type": "subslide"
    }
   },
   "source": [
    "#### `imag`\n",
    ">Atributo del valor de la parte imaginaria del número, en flotantes siempre es 0"
   ]
  },
  {
   "cell_type": "code",
   "execution_count": null,
   "metadata": {
    "slideshow": {
     "slide_type": "fragment"
    }
   },
   "outputs": [],
   "source": [
    "n.imag"
   ]
  },
  {
   "cell_type": "markdown",
   "metadata": {
    "slideshow": {
     "slide_type": "subslide"
    }
   },
   "source": [
    "#### `is_interger()`\n",
    ">Método que retorna si la variable es un numero entero o no"
   ]
  },
  {
   "cell_type": "code",
   "execution_count": null,
   "metadata": {
    "slideshow": {
     "slide_type": "fragment"
    }
   },
   "outputs": [],
   "source": [
    "n.is_integer()"
   ]
  },
  {
   "cell_type": "markdown",
   "metadata": {
    "slideshow": {
     "slide_type": "subslide"
    }
   },
   "source": [
    "#### `real`\n",
    ">Atributo del valor de la parte real del número, que corresponde al valor del propio flotante"
   ]
  },
  {
   "cell_type": "code",
   "execution_count": null,
   "metadata": {
    "slideshow": {
     "slide_type": "fragment"
    }
   },
   "outputs": [],
   "source": [
    "n.real"
   ]
  },
  {
   "cell_type": "markdown",
   "metadata": {
    "slideshow": {
     "slide_type": "slide"
    }
   },
   "source": [
    "## Complejos \n",
    "## clase `complex()`\n",
    "___"
   ]
  },
  {
   "cell_type": "markdown",
   "metadata": {
    "slideshow": {
     "slide_type": "slide"
    }
   },
   "source": [
    "## Decimales \n",
    "## módulo `decimal`\n",
    "___"
   ]
  },
  {
   "cell_type": "markdown",
   "metadata": {
    "slideshow": {
     "slide_type": "subslide"
    }
   },
   "source": [
    "### IEEE 754 (Estandar coma flotante)\n",
    "[Wikipedia: IEEE coma flotante](https://es.wikipedia.org/wiki/IEEE_coma_flotante)\n",
    "<center><img src=\"imagenes/IEEE_754.png\"></center>"
   ]
  },
  {
   "cell_type": "markdown",
   "metadata": {
    "slideshow": {
     "slide_type": "subslide"
    }
   },
   "source": [
    "<center><img src=\"imagenes/interrupcion.jpg\"></center>"
   ]
  },
  {
   "cell_type": "markdown",
   "metadata": {
    "slideshow": {
     "slide_type": "subslide"
    }
   },
   "source": [
    "## ¿Como importar un módulo?\n",
    "___"
   ]
  },
  {
   "cell_type": "markdown",
   "metadata": {
    "slideshow": {
     "slide_type": "subslide"
    }
   },
   "source": [
    "### Usando `import`\n",
    "#### Sintaxis: \n",
    "~~~\n",
    "import <nombre_modulo>\n",
    "~~~\n",
    "Donde <nombre_modulo> es el módulo a importar "
   ]
  },
  {
   "cell_type": "code",
   "execution_count": null,
   "metadata": {
    "slideshow": {
     "slide_type": "fragment"
    }
   },
   "outputs": [],
   "source": [
    "#  importando el modulo decimal\n",
    "import decimal"
   ]
  },
  {
   "cell_type": "markdown",
   "metadata": {
    "slideshow": {
     "slide_type": "subslide"
    }
   },
   "source": [
    "### Usando `from`\n",
    "#### Sintaxis: \n",
    "~~~\n",
    "from <nombre_modulo> import <nombre_clase/funcion>\n",
    "~~~\n",
    "podemos colocar un 'alias' a las clases/funciones: \n",
    "~~~\n",
    "from <nombre_modulo> import <nombre_clase/funcion> \n",
    "as <alias>\n",
    "~~~"
   ]
  },
  {
   "cell_type": "code",
   "execution_count": null,
   "metadata": {
    "slideshow": {
     "slide_type": "subslide"
    }
   },
   "outputs": [],
   "source": [
    "#  importando la clase decimal\n",
    "from decimal import Decimal\n",
    "#  colocando un alias a la funcion getxontext\n",
    "from decimal import getcontext as context"
   ]
  },
  {
   "cell_type": "markdown",
   "metadata": {
    "slideshow": {
     "slide_type": "subslide"
    }
   },
   "source": [
    "<center><img src=\"imagenes/advertencia.png\"></center>"
   ]
  },
  {
   "cell_type": "markdown",
   "metadata": {
    "slideshow": {
     "slide_type": "subslide"
    }
   },
   "source": [
    "### Advertencia\n",
    "La sintaxis `from` puede hacer uso del simbolo `*` para importar todo el contenido del módulo:\n",
    "~~~\n",
    "from <nombre_modulo> import *\n",
    "~~~\n",
    "Sin embargo, no se recomienda el uso de dicha sintaxis, ya que sobrecarga las variables del *namespace* principal, produciendo problemas del rendimiento de su código."
   ]
  },
  {
   "cell_type": "markdown",
   "metadata": {
    "slideshow": {
     "slide_type": "subslide"
    }
   },
   "source": [
    "<center><img src=\"imagenes/programacion_habitual.jpg\"></center>"
   ]
  },
  {
   "cell_type": "markdown",
   "metadata": {
    "slideshow": {
     "slide_type": "subslide"
    }
   },
   "source": []
  },
  {
   "cell_type": "markdown",
   "metadata": {
    "slideshow": {
     "slide_type": "slide"
    }
   },
   "source": [
    "## Fracciones \n",
    "## módulo `fractions`\n",
    "___"
   ]
  }
 ],
 "metadata": {
  "celltoolbar": "Slideshow",
  "kernelspec": {
   "display_name": "Python 3",
   "language": "python",
   "name": "python3"
  },
  "language_info": {
   "codemirror_mode": {
    "name": "ipython",
    "version": 3
   },
   "file_extension": ".py",
   "mimetype": "text/x-python",
   "name": "python",
   "nbconvert_exporter": "python",
   "pygments_lexer": "ipython3",
   "version": "3.7.3"
  }
 },
 "nbformat": 4,
 "nbformat_minor": 2
}
