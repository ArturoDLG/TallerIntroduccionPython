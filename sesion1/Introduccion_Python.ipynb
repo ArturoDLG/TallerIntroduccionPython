{
 "cells": [
  {
   "cell_type": "code",
   "execution_count": null,
   "metadata": {
    "slideshow": {
     "slide_type": "-"
    }
   },
   "outputs": [],
   "source": [
    "#  Esta celda es exclusivo para cuestiones de impresion dentro del notebook\n",
    "from IPython.core.interactiveshell import InteractiveShell\n",
    "InteractiveShell.ast_node_interactivity = 'all'"
   ]
  },
  {
   "cell_type": "markdown",
   "metadata": {
    "slideshow": {
     "slide_type": "slide"
    }
   },
   "source": [
    "# Introducción a Python \n",
    "___\n",
    "\n",
    "<center><img src=\"imagenes/pylogo.png\" width=\"80%\" height=\"80%\"></center>"
   ]
  },
  {
   "cell_type": "markdown",
   "metadata": {
    "slideshow": {
     "slide_type": "slide"
    }
   },
   "source": [
    "## CPython 3.7 \n",
    "## 3.8 finales de Octubre 2019"
   ]
  },
  {
   "cell_type": "markdown",
   "metadata": {
    "slideshow": {
     "slide_type": "subslide"
    }
   },
   "source": [
    "[PEP 373](https://www.python.org/dev/peps/pep-0373/)\n",
    "<center><img src=\"imagenes/py27.png\"></center>"
   ]
  },
  {
   "cell_type": "markdown",
   "metadata": {
    "slideshow": {
     "slide_type": "subslide"
    }
   },
   "source": [
    "<center><img src=\"imagenes/meme_c_to_py.png\" width='45%' heigth='45%'></center>"
   ]
  },
  {
   "cell_type": "markdown",
   "metadata": {
    "slideshow": {
     "slide_type": "subslide"
    }
   },
   "source": [
    "## Indice TIOBE\n",
    "[TIOBE programming Community Index](https://www.tiobe.com/tiobe-index/)\n",
    "<center><img src=\"imagenes/tiobe.png\" width=\"95%\" height=\"95%\"></center>"
   ]
  },
  {
   "cell_type": "markdown",
   "metadata": {
    "slideshow": {
     "slide_type": "subslide"
    }
   },
   "source": [
    "<center><img src=\"imagenes/tiobe_python.png\"></center>"
   ]
  },
  {
   "cell_type": "markdown",
   "metadata": {
    "slideshow": {
     "slide_type": "subslide"
    }
   },
   "source": [
    "## StackOverflow \n",
    "[Stack Overflow Developer Survey 2019](https://insights.stackoverflow.com/survey/2019#most-loved-dreaded-and-wanted)\n",
    "<center><img src=\"imagenes/mas_pedido.png\" width=\"75%\" height=\"75%\"></center>"
   ]
  },
  {
   "cell_type": "markdown",
   "metadata": {
    "slideshow": {
     "slide_type": "subslide"
    }
   },
   "source": [
    "<center><img src=\"imagenes/mas_querido.png\" width=\"80%\" height=\"80%\"></center>"
   ]
  },
  {
   "cell_type": "markdown",
   "metadata": {
    "slideshow": {
     "slide_type": "slide"
    }
   },
   "source": [
    "## Por qué Python?\n",
    "___"
   ]
  },
  {
   "cell_type": "markdown",
   "metadata": {
    "slideshow": {
     "slide_type": "subslide"
    }
   },
   "source": [
    "## Sintaxis sencilla\n",
    "<center><img src=\"imagenes/PythonvsJava.png\" ></center>"
   ]
  },
  {
   "cell_type": "markdown",
   "metadata": {
    "slideshow": {
     "slide_type": "subslide"
    }
   },
   "source": [
    "## Baterias incluidas"
   ]
  },
  {
   "cell_type": "markdown",
   "metadata": {
    "slideshow": {
     "slide_type": "subslide"
    }
   },
   "source": [
    "## Open Source\n",
    "<center><img src=\"imagenes/packages.jpg\"></center>"
   ]
  },
  {
   "cell_type": "markdown",
   "metadata": {
    "slideshow": {
     "slide_type": "subslide"
    }
   },
   "source": [
    "## Compañias que usan Python\n",
    "<center><img src=\"imagenes/Top-companies-using-Python-01.jpg\" width=\"80%\" height=\"80%\"></center>"
   ]
  },
  {
   "cell_type": "markdown",
   "metadata": {
    "slideshow": {
     "slide_type": "slide"
    }
   },
   "source": [
    "## Qué es Python?\n",
    "___"
   ]
  },
  {
   "cell_type": "markdown",
   "metadata": {
    "slideshow": {
     "slide_type": "subslide"
    }
   },
   "source": [
    ">Python es un lenguaje de programación interpretado cuya filosofía hace hincapié en una sintaxis que favorezca un código legible. Se trata de un lenguaje de programación multiparadigma...  \n",
    "...Es un lenguaje interpretado, de tipado fuerte y dinámico y multiplataforma.   \n",
    "\n",
    "[Wikipedia](https://es.wikipedia.org/wiki/Python)"
   ]
  },
  {
   "cell_type": "markdown",
   "metadata": {
    "slideshow": {
     "slide_type": "subslide"
    }
   },
   "source": [
    "## Interpretado\n",
    "<center><img src=\"imagenes/compilado-vs-interpretados.jpg\" width=\"55%\" height=\"55%\"></center>"
   ]
  },
  {
   "cell_type": "markdown",
   "metadata": {
    "slideshow": {
     "slide_type": "subslide"
    }
   },
   "source": [
    "### Multiparadigma\n",
    "* Orientado a Objetos\n",
    "* Imperativa\n",
    "* Funcional"
   ]
  },
  {
   "cell_type": "markdown",
   "metadata": {
    "slideshow": {
     "slide_type": "subslide"
    }
   },
   "source": [
    "### Multifuncional \n",
    "* Web\n",
    "* Data Science\n",
    "* Machine Learning\n",
    "* Aplicaciones GUI\n",
    "* Robotica\n",
    "* IOT\n",
    "* etc"
   ]
  },
  {
   "cell_type": "markdown",
   "metadata": {
    "slideshow": {
     "slide_type": "subslide"
    }
   },
   "source": [
    "### Multiplataforma\n",
    "\n",
    "* Windows\n",
    "* Linux\n",
    "* Mac OS\n",
    "* etc"
   ]
  },
  {
   "cell_type": "markdown",
   "metadata": {
    "slideshow": {
     "slide_type": "slide"
    }
   },
   "source": [
    "## PEP 8\n",
    "___"
   ]
  },
  {
   "cell_type": "markdown",
   "metadata": {
    "slideshow": {
     "slide_type": "subslide"
    }
   },
   "source": [
    "### Que es el PEP 8?\n",
    "Python Enhancement Proposals(Propuesta de Mejora de Python)  \n",
    "Guia de estilo para codigo \n",
    "    1. Estilo de codigo\n",
    "    2. Nombre de variables, metodos y clases\n",
    "    3. Comentarios y documentacion\n",
    "    4. etc."
   ]
  },
  {
   "cell_type": "markdown",
   "metadata": {
    "slideshow": {
     "slide_type": "notes"
    }
   },
   "source": [
    "Consulte el [PEP 8](https://www.python.org/dev/peps/pep-0008/) para conocer todos los aspectos que abarca."
   ]
  },
  {
   "cell_type": "code",
   "execution_count": null,
   "metadata": {
    "slideshow": {
     "slide_type": "subslide"
    }
   },
   "outputs": [],
   "source": [
    "import this"
   ]
  },
  {
   "cell_type": "markdown",
   "metadata": {
    "slideshow": {
     "slide_type": "subslide"
    }
   },
   "source": [
    "> Bello es mejor que feo.  \n",
    "> Explícito es mejor que implícito.  \n",
    "> Simple es mejor que complejo.  \n",
    "> Complejo es mejor que complicado.  \n",
    "> Plano es mejor que anidado.  \n",
    "> Disperso es mejor que denso. \n",
    "> La legibilidad cuenta.  \n",
    "> Los casos especiales no son tan especiales como para quebrantar las reglas.  \n",
    "> Lo práctico gana a lo puro.  "
   ]
  },
  {
   "cell_type": "markdown",
   "metadata": {
    "slideshow": {
     "slide_type": "subslide"
    }
   },
   "source": [
    "> Los errores nunca deberían dejarse pasar silenciosamente.  \n",
    "> A menos que hayan sido silenciados explícitamente.  \n",
    "> Frente a la ambigüedad, rechaza la tentación de adivinar.  \n",
    "> Debería haber una -y preferiblemente sólo una- manera obvia de hacerlo.  \n",
    "> Aunque esa manera puede no ser obvia al principio a menos que usted sea holandés.  \n",
    "> Ahora es mejor que nunca.  \n",
    "> Aunque nunca es a menudo mejor que ya mismo.  "
   ]
  },
  {
   "cell_type": "markdown",
   "metadata": {
    "slideshow": {
     "slide_type": "subslide"
    }
   },
   "source": [
    "> Si la implementación es difícil de explicar, es una mala idea.  \n",
    "> Si la implementación es fácil de explicar, puede que sea una buena idea.  \n",
    "> Los espacios de nombres (namespaces) son una gran idea ¡Hagamos más de esas cosas!.\n",
    "\n",
    "Tim Peters, El Zen de Python"
   ]
  },
  {
   "cell_type": "markdown",
   "metadata": {
    "slideshow": {
     "slide_type": "slide"
    }
   },
   "source": [
    "## Instalación\n",
    "___"
   ]
  },
  {
   "cell_type": "markdown",
   "metadata": {
    "slideshow": {
     "slide_type": "subslide"
    }
   },
   "source": [
    "### Windows\n",
    "![consola](imagenes/py37-instalacion.png)"
   ]
  },
  {
   "cell_type": "markdown",
   "metadata": {
    "slideshow": {
     "slide_type": "subslide"
    }
   },
   "source": [
    "### Unix (Linux/Mac OS)\n",
    "~~~\n",
    "sudo apt update\n",
    "sudo apt install software-properties-common\n",
    "sudo apt install python3.7\n",
    "~~~"
   ]
  },
  {
   "cell_type": "markdown",
   "metadata": {
    "slideshow": {
     "slide_type": "slide"
    }
   },
   "source": [
    "## Interprete (REPL) \n",
    "___\n",
    "<center><img src=\"imagenes/consola.png\" width=\"30%\" height=\"30%\"></center>"
   ]
  },
  {
   "cell_type": "markdown",
   "metadata": {
    "slideshow": {
     "slide_type": "subslide"
    }
   },
   "source": [
    "`>>> python`\n",
    "\n",
    "`>>> python3`\n",
    "\n",
    "`>>> python3.7`"
   ]
  },
  {
   "cell_type": "markdown",
   "metadata": {
    "slideshow": {
     "slide_type": "subslide"
    }
   },
   "source": [
    "### función `help()`\n",
    "\n",
    "La función help devuelve la documentación (docstring) de clases, funciones y metódos que pasen por argumento"
   ]
  },
  {
   "cell_type": "code",
   "execution_count": null,
   "metadata": {
    "slideshow": {
     "slide_type": "subslide"
    }
   },
   "outputs": [],
   "source": [
    "help(int)"
   ]
  },
  {
   "cell_type": "markdown",
   "metadata": {
    "slideshow": {
     "slide_type": "subslide"
    }
   },
   "source": [
    "### función `dir()`\n",
    "la función dir devuelve el nombre de las variables del entorno, si no tiene argumento devuelve las variables del entorno (namespace) de donde se llama, como argumento puede recibir clases, funciones/metodos o módulos, y devuelve las variables que componen a estas"
   ]
  },
  {
   "cell_type": "code",
   "execution_count": null,
   "metadata": {
    "slideshow": {
     "slide_type": "subslide"
    }
   },
   "outputs": [],
   "source": [
    "print(dir(str))"
   ]
  },
  {
   "cell_type": "markdown",
   "metadata": {
    "slideshow": {
     "slide_type": "subslide"
    }
   },
   "source": [
    "### Hola Mundo"
   ]
  },
  {
   "cell_type": "code",
   "execution_count": null,
   "metadata": {
    "slideshow": {
     "slide_type": "fragment"
    }
   },
   "outputs": [],
   "source": [
    "print(\"Hola Mundo\")"
   ]
  },
  {
   "cell_type": "markdown",
   "metadata": {
    "slideshow": {
     "slide_type": "subslide"
    }
   },
   "source": [
    "### `print(value,..., sep=' ', end='\\n',  file=sys.stdout, flush=False)`\n",
    "la función imprime *n* valores separados por default \n",
    "por un espacio y al final del renglón terminado por un \n",
    "salto de linea. La salida se imprime en consola y el \n",
    "buffer se conserva."
   ]
  },
  {
   "cell_type": "code",
   "execution_count": null,
   "metadata": {
    "slideshow": {
     "slide_type": "fragment"
    }
   },
   "outputs": [],
   "source": [
    "saludo = 'Hola'\n",
    "nombre = 'Arturo'\n",
    "complemento = 'como estas?'\n",
    "print(saludo, nombre, complemento, sep='#', end='***')   "
   ]
  },
  {
   "cell_type": "markdown",
   "metadata": {
    "slideshow": {
     "slide_type": "notes"
    }
   },
   "source": [
    "El parametro file no suele ser modificado para escribir en archivos, existen otros modulos y funciones en Python que son ampliamente usados para dicha tarea.  \n",
    "  \n",
    "El parametro flush no suele ser modificado salvo ocasiones especiales."
   ]
  },
  {
   "cell_type": "markdown",
   "metadata": {
    "slideshow": {
     "slide_type": "subslide"
    }
   },
   "source": [
    "### `input(prompt=None)`\n",
    "\n",
    "Lee una cadena de texto desde la linea de comando, podemos agregar una cadena la cual saldra en la linea de comandos."
   ]
  },
  {
   "cell_type": "code",
   "execution_count": null,
   "metadata": {
    "slideshow": {
     "slide_type": "fragment"
    }
   },
   "outputs": [],
   "source": [
    "edad = int(input('Cual es tu edad? '))\n",
    "edad\n",
    "type(edad)"
   ]
  },
  {
   "cell_type": "markdown",
   "metadata": {
    "slideshow": {
     "slide_type": "notes"
    }
   },
   "source": [
    "La funcion input ha diferencia de las funciones empleadas para leer datos en otros lenguajes, solo devuelve cadenas,por lo que se debe \"truncar\"/\"castear\" para forzar a que los datos sean de otros tipos.  \n",
    "\n",
    "Para comprobar el tipo de dato de cualquier variable u objeto en Python, se emplea la funcion type, donde eñ argumento es la variable de la cual queremos conocer su tipo."
   ]
  },
  {
   "cell_type": "markdown",
   "metadata": {
    "slideshow": {
     "slide_type": "subslide"
    }
   },
   "source": [
    "## Variables y constantes\n",
    "___"
   ]
  },
  {
   "cell_type": "markdown",
   "metadata": {
    "slideshow": {
     "slide_type": "notes"
    }
   },
   "source": [
    "Las variables en Python no requieren de especificar el tipo de dato que se va a emplear, pero es posible usar notaciones (typing) como guia, estas no se infieren en tiempo de ejecucion en Cpython; si desea que los tipos de datos sean inferidos puede usar herramientas como mypy.\n",
    "\n",
    "Para que el identificador de la variable sea valida debe iniciar con un caracter minusculo o mayusculo, o un guion bajo, seguido de estos mismos caracteres o numeros, de lo contrario se arrogara un SyntaxisError. Por convención en el PEP 8, las variables se escriben con minusculas, separados por guiones bajos; el nombre debe ser alusivo al uso que se le debe dar.\n",
    "\n",
    "Las constantes en Python no existen, sin embargo, por conveción se escriben en mayusculas, separados por guión bajo, para indicar a los desarrolladores de la intención de uso."
   ]
  },
  {
   "cell_type": "code",
   "execution_count": null,
   "metadata": {
    "slideshow": {
     "slide_type": "fragment"
    }
   },
   "outputs": [],
   "source": [
    "#  Buenos ejemplos de variables\n",
    "entero = 10\n",
    "flotante = 29.87\n",
    "numeros_pares = [2, 4, 6, 8, 10]\n",
    "directorio_locales = {'pizzeria': '5 de Mayo 210',\n",
    "                      'abarrotes': 'Revolucion 70 B'}\n",
    "\n",
    "#  Malos ejemplos de variables\n",
    "variable_buena = False  # ???\n",
    "\n",
    "#  Ejemplos de constantes\n",
    "PI = 3.1416\n",
    "PI = 4\n",
    "PI"
   ]
  },
  {
   "cell_type": "code",
   "execution_count": null,
   "metadata": {
    "slideshow": {
     "slide_type": "subslide"
    }
   },
   "outputs": [],
   "source": [
    "#  Uso de typing 3.6+\n",
    "contador_eventos: int = 0\n",
    "correo_electronico: str = 'curso.python@correos.com'\n",
    "\n",
    "#  No infiere tipo de dato\n",
    "promedio: int = 89.6\n",
    "promedio\n",
    "    \n",
    "#  Para tipos mas complejos\n",
    "from typing import List\n",
    "\n",
    "calificaciones: List[float]= [90.7, 60.6, 74.23, 100.0]\n",
    "calificaciones "
   ]
  },
  {
   "cell_type": "markdown",
   "metadata": {
    "slideshow": {
     "slide_type": "notes"
    }
   },
   "source": [
    "Nota, existen 2 tipos de comentarios en Python, los comentarios cortos, que son denotados por un el simbolo de (#):\n",
    "`# esto es un comentario`\n",
    "PEP 8 recomienda dejar un espacio entre el # y el comentario, para comentarios a un costado del codigo, se recomienda 2 espacios despues de la linea del codigo, sin rebasar los 80 caracteres por linea:\n",
    "~~~\n",
    "# Ejemplo de comentario\n",
    "variable = object()  # Este es un ejemplo de comentario al costado del codigo\n",
    "~~~\n",
    "\n",
    "Y los comentarios largos que se denotan con triple comillas que pueden ser simples o dobles, se emplean para comentarios en multiples lineas y documentacion en funciones/clases:\n",
    "\n",
    "~~~\n",
    "'''Ejemplo de comentario largo, las lineas \n",
    "deben estar contenidas entre las comillas'''\n",
    "\n",
    "\"\"\" Otro ejemplo de comentario\"\"\"\n",
    "\n",
    "''' \n",
    "Otra manera de escribir comentarios largos es \n",
    "dejando el renglon blanco como se muestra en el ejemplo\n",
    "'''\n",
    "~~~"
   ]
  },
  {
   "cell_type": "markdown",
   "metadata": {
    "slideshow": {
     "slide_type": "subslide"
    }
   },
   "source": [
    "### Función main"
   ]
  },
  {
   "cell_type": "markdown",
   "metadata": {
    "slideshow": {
     "slide_type": "notes"
    }
   },
   "source": [
    "Python carece de una función main, el cual en diferentes lenguajes indica el inicio del codigo al sistema, en su lugar, Python ejecuta sus codigos desde el primer renglon, siguiendo el flujo del codigo definido, pero para definir un inicio, usamos la variable definida por el interprete llamada __name__, la cual indica que nuestro archivo se esta ejecutando en este momento con el valor \"__main__\""
   ]
  },
  {
   "cell_type": "markdown",
   "metadata": {
    "slideshow": {
     "slide_type": "subslide"
    }
   },
   "source": [
    "<center><img src=\"imagenes/main.jpg\" width=\"60%\" height=\"60%\"></center>"
   ]
  },
  {
   "cell_type": "markdown",
   "metadata": {
    "slideshow": {
     "slide_type": "subslide"
    }
   },
   "source": [
    "### Que usamos como main?\n",
    "\n",
    "`if __name__ == '__main__':`"
   ]
  },
  {
   "cell_type": "markdown",
   "metadata": {
    "slideshow": {
     "slide_type": "subslide"
    }
   },
   "source": [
    "Nosotros podemos usar un archivo de Python como:\n",
    "\n",
    "> 1. Archivo: Típicamente, un archivo Python es cualquier archivo que contenga código. La mayoría de los archivos Python tienen la extensión.py."
   ]
  },
  {
   "cell_type": "markdown",
   "metadata": {
    "slideshow": {
     "slide_type": "subslide"
    }
   },
   "source": [
    "> 2. Script: Un script Python es un archivo que intenta ejecutar desde la línea de comandos para realizar una tarea.  "
   ]
  },
  {
   "cell_type": "markdown",
   "metadata": {
    "slideshow": {
     "slide_type": "subslide"
    }
   },
   "source": [
    "> 3. Módulo: Un módulo Python es un archivo que desea importar desde otro módulo o script, o desde el intérprete interactivo. Puede leer más sobre los módulos en la documentación de Python.\n",
    "\n",
    "[Real Python](https://realpython.com/python-main-function/)"
   ]
  },
  {
   "cell_type": "markdown",
   "metadata": {
    "slideshow": {
     "slide_type": "subslide"
    }
   },
   "source": [
    "### Que es  `__name__`?\n",
    "\n",
    "Respuesta corta: una variable del namespace principal  \n",
    "  \n",
    "Respuesta larga: una variable del namespace principal que indica si el archivo .py es el que se esta ejecutando"
   ]
  },
  {
   "cell_type": "code",
   "execution_count": null,
   "metadata": {
    "slideshow": {
     "slide_type": "fragment"
    }
   },
   "outputs": [],
   "source": [
    "__name__"
   ]
  },
  {
   "cell_type": "markdown",
   "metadata": {
    "slideshow": {
     "slide_type": "subslide"
    }
   },
   "source": [
    "### Usos de `if __name__ == '__main__:'`\n",
    "\n",
    "* Indicar el inicio de nuestro codigo\n",
    "* Realizar casos de prueba en nuestros modulos\n",
    "* Optimizar codigo*"
   ]
  },
  {
   "cell_type": "markdown",
   "metadata": {
    "slideshow": {
     "slide_type": "subslide"
    }
   },
   "source": [
    "###  Estructura de un archivo de Python\n",
    "~~~\n",
    "#  En la parte superior se importan modulos y se definen clases/funciones/variables globales\n",
    "\n",
    "if __name__ == '__main__':\n",
    "    #  Aqui inicia su codigo\n",
    "~~~"
   ]
  },
  {
   "cell_type": "markdown",
   "metadata": {
    "slideshow": {
     "slide_type": "notes"
    }
   },
   "source": [
    "En python, los bloques de codigo no se identifican con llaves(como C/C++ o Java)o palabras claves (como Fortran o Ruby), si no que el codigo debe estar indentado o sangrado despues de los 2 puntos, todo el contenido dentro de ese bloque pertenecera a la condicion/bucle a ejecutar.\n",
    "\n",
    "Ejemplo:\n",
    "\n",
    "~~~\n",
    "# Bucle for\n",
    "\n",
    "for numero in range(10):\n",
    "    # inicio del bloque de codigo\n",
    "    print(numero)\n",
    "    \n",
    "# inicio de un nuevo bloque\n",
    "print('fin del bucle for')\n",
    "~~~\n",
    "\n",
    "El PEP 8 indica que la identacion debe hacerce con 4 espacios en blancos, aunque muchas IDEs y editores de texto pueden configurar el boton de tabulacion para esta configuracion; procure utilizar siempre el mismo metodo de identacion en todo el codigo, inclusive los editores e IDEs ofrecen la posibilidad de que su codigo se idente al presionar enter; de caso contrario su codigo arrojara un IndetationError"
   ]
  },
  {
   "cell_type": "markdown",
   "metadata": {
    "slideshow": {
     "slide_type": "slide"
    }
   },
   "source": [
    "## Actividades"
   ]
  },
  {
   "cell_type": "markdown",
   "metadata": {
    "slideshow": {
     "slide_type": "notes"
    }
   },
   "source": [
    "Durante las siguientes sesiones, se participara en pequeñas competencias usando la plataforma HackerRank, donde el instructor propondra 5 ejercicios a resolver, relacionado a los temas que se vayan tomando, los cuales se deberan realizar en un tiempo de 30 minutos*, las instrucciones del concurso vendran indicadas tanto en la liga que se compartira, y antes de iniciar el concurso.\n",
    "\n",
    "*El tiempo podra variar, dependiendo el avance de la clase "
   ]
  },
  {
   "cell_type": "markdown",
   "metadata": {
    "slideshow": {
     "slide_type": "subslide"
    }
   },
   "source": [
    "<center><img src=\"imagenes/hackerrank.png\"></center>"
   ]
  },
  {
   "cell_type": "markdown",
   "metadata": {
    "slideshow": {
     "slide_type": "subslide"
    }
   },
   "source": [
    "[hackerrank.com](https://es.wikipedia.org/wiki/Python)\n",
    "<center><img src=\"imagenes/inicio.png\"></center>"
   ]
  },
  {
   "cell_type": "markdown",
   "metadata": {
    "slideshow": {
     "slide_type": "subslide"
    }
   },
   "source": [
    "<center><img src=\"imagenes/login.png\"></center>"
   ]
  }
 ],
 "metadata": {
  "celltoolbar": "Slideshow",
  "kernelspec": {
   "display_name": "Python 3",
   "language": "python",
   "name": "python3"
  },
  "language_info": {
   "codemirror_mode": {
    "name": "ipython",
    "version": 3
   },
   "file_extension": ".py",
   "mimetype": "text/x-python",
   "name": "python",
   "nbconvert_exporter": "python",
   "pygments_lexer": "ipython3",
   "version": "3.7.3"
  }
 },
 "nbformat": 4,
 "nbformat_minor": 2
}
