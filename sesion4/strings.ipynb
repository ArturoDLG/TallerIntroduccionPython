{
 "cells": [
  {
   "cell_type": "code",
   "execution_count": null,
   "metadata": {
    "slideshow": {
     "slide_type": "-"
    }
   },
   "outputs": [],
   "source": [
    "#  Esta celda es exclusivo para cuestiones de impresion dentro del notebook\n",
    "from IPython.core.interactiveshell import InteractiveShell\n",
    "InteractiveShell.ast_node_interactivity = 'all'"
   ]
  },
  {
   "cell_type": "markdown",
   "metadata": {
    "slideshow": {
     "slide_type": "slide"
    }
   },
   "source": [
    "# Strings \n",
    "___"
   ]
  },
  {
   "cell_type": "markdown",
   "metadata": {
    "slideshow": {
     "slide_type": "slide"
    }
   },
   "source": [
    "## Que aprenderemos?\n",
    "* Clase `str`\n",
    "* Metodos (por clasificacion)\n",
    "* Tips y otros modulos"
   ]
  },
  {
   "cell_type": "markdown",
   "metadata": {
    "slideshow": {
     "slide_type": "slide"
    }
   },
   "source": [
    "## Clase `str`\n",
    "___"
   ]
  },
  {
   "cell_type": "markdown",
   "metadata": {
    "slideshow": {
     "slide_type": "subslide"
    }
   },
   "source": [
    "### Representacion literal"
   ]
  },
  {
   "cell_type": "code",
   "execution_count": null,
   "metadata": {
    "slideshow": {
     "slide_type": "fragment"
    }
   },
   "outputs": [],
   "source": [
    "cadena = 'Esto es una cadena'\n",
    "cadena2 = \"Esto es una cadena tambien\"\n",
    "cadena3 = '''Esta tambien es una cadena,\n",
    "pero multilinea (que guarda salto de linea)'''\n",
    "cadena4 =  'Esto tambien es' ' posible'\n",
    "cadena\n",
    "cadena2\n",
    "print(cadena3)\n",
    "cadena4"
   ]
  },
  {
   "cell_type": "markdown",
   "metadata": {
    "slideshow": {
     "slide_type": "subslide"
    }
   },
   "source": [
    "### Operadores"
   ]
  },
  {
   "cell_type": "code",
   "execution_count": null,
   "metadata": {
    "slideshow": {
     "slide_type": "fragment"
    }
   },
   "outputs": [],
   "source": [
    "s1, s2 = 'a', 'b'\n",
    "#  Concatenacion\n",
    "s1 + s2\n",
    "s1 * 3\n",
    "s3 = ''\n",
    "s3 += s1\n",
    "s3"
   ]
  },
  {
   "cell_type": "markdown",
   "metadata": {
    "slideshow": {
     "slide_type": "subslide"
    }
   },
   "source": [
    "<center><img src=\"Imagenes/advertencia.png\"></center>"
   ]
  },
  {
   "cell_type": "markdown",
   "metadata": {
    "slideshow": {
     "slide_type": "subslide"
    }
   },
   "source": [
    "## Advertencia\n",
    "Evite el uso del operador `+` para concatenar grandes cantidades de cadenas, ya que resulta demasiado costoso computacionalmente hablando: $$O(n^2)$$"
   ]
  },
  {
   "cell_type": "code",
   "execution_count": null,
   "metadata": {
    "slideshow": {
     "slide_type": "subslide"
    }
   },
   "outputs": [],
   "source": [
    "s = ''\n",
    "for n in range(1000): #  No lo intente\n",
    "    s += str(n)"
   ]
  },
  {
   "cell_type": "code",
   "execution_count": null,
   "metadata": {
    "slideshow": {
     "slide_type": "subslide"
    }
   },
   "outputs": [],
   "source": [
    "#  Comparacion\n",
    "s1, s2\n",
    "s1 < s2\n",
    "s1 > s2\n",
    "s1 == s2\n",
    "s1 != s2\n",
    "#  Tambien podemos usar min, max\n",
    "min('arbol', 'barco', 'casa')\n",
    "max('arbol', 'barco', 'casa')\n",
    "min('4','2','13', key=int)"
   ]
  },
  {
   "cell_type": "markdown",
   "metadata": {
    "slideshow": {
     "slide_type": "subslide"
    }
   },
   "source": [
    "### Otras operaciones"
   ]
  },
  {
   "cell_type": "markdown",
   "metadata": {
    "slideshow": {
     "slide_type": "subslide"
    }
   },
   "source": [
    "#### Longitud"
   ]
  },
  {
   "cell_type": "code",
   "execution_count": null,
   "metadata": {
    "slideshow": {
     "slide_type": "fragment"
    }
   },
   "outputs": [],
   "source": [
    "len('longitud')"
   ]
  },
  {
   "cell_type": "markdown",
   "metadata": {
    "slideshow": {
     "slide_type": "subslide"
    }
   },
   "source": [
    "#### Indices y  secciones (slices)"
   ]
  },
  {
   "cell_type": "code",
   "execution_count": null,
   "metadata": {
    "slideshow": {
     "slide_type": "fragment"
    }
   },
   "outputs": [],
   "source": [
    "taller = 'Introduccion a Python'\n",
    "taller[0] #  Acceder al i-esimo elemento\n",
    "taller[-1] #  Los indices negativos acceden a los ultimos elementos\n",
    "taller[0] = 't' #  Esto no es una operacion valida dado que los str son inmutables"
   ]
  },
  {
   "cell_type": "code",
   "execution_count": null,
   "metadata": {
    "slideshow": {
     "slide_type": "subslide"
    }
   },
   "outputs": [],
   "source": [
    "taller[1:12] #  Slice: rebanada de una cadena\n",
    "taller[15:] #  Se puede omitir el inicio o final del rango\n",
    "taller[2:20:2] #  Se puede especificar pasos como 3er argumento\n",
    "taller[::-1] #  Invertir una cadena usando slices"
   ]
  },
  {
   "cell_type": "markdown",
   "metadata": {
    "slideshow": {
     "slide_type": "subslide"
    }
   },
   "source": [
    "#### Busqueda"
   ]
  },
  {
   "cell_type": "code",
   "execution_count": null,
   "metadata": {
    "slideshow": {
     "slide_type": "fragment"
    }
   },
   "outputs": [],
   "source": [
    "'P' in taller #  Busqueda de caracteres\n",
    "'Python' in taller #  Busqueda de subcadenas"
   ]
  },
  {
   "cell_type": "markdown",
   "metadata": {
    "slideshow": {
     "slide_type": "slide"
    }
   },
   "source": [
    "## Inspeccionando la clase `str()`\n",
    "___"
   ]
  },
  {
   "cell_type": "code",
   "execution_count": null,
   "metadata": {
    "slideshow": {
     "slide_type": "subslide"
    }
   },
   "outputs": [],
   "source": [
    "help(str)"
   ]
  },
  {
   "cell_type": "markdown",
   "metadata": {
    "slideshow": {
     "slide_type": "subslide"
    }
   },
   "source": [
    "### `str(objet = '')`\n",
    "> convierte a los objetos a su representacion de cadena, si es que tiene una"
   ]
  },
  {
   "cell_type": "code",
   "execution_count": null,
   "metadata": {
    "slideshow": {
     "slide_type": "fragment"
    }
   },
   "outputs": [],
   "source": [
    "str([1,2,3])"
   ]
  },
  {
   "cell_type": "markdown",
   "metadata": {
    "slideshow": {
     "slide_type": "subslide"
    }
   },
   "source": [
    "### `str(objet = b'', encoding = 'utf-8', errors = 'strict')`\n",
    "> convierte una cadena de bytes a una cadena de texto cifrada a utf-8 "
   ]
  },
  {
   "cell_type": "code",
   "execution_count": null,
   "metadata": {
    "slideshow": {
     "slide_type": "fragment"
    }
   },
   "outputs": [],
   "source": [
    "str(b'Algo', encoding='ascii')"
   ]
  },
  {
   "cell_type": "markdown",
   "metadata": {
    "slideshow": {
     "slide_type": "subslide"
    }
   },
   "source": [
    "### Conversion y remplazo"
   ]
  },
  {
   "cell_type": "code",
   "execution_count": null,
   "metadata": {
    "slideshow": {
     "slide_type": "fragment"
    }
   },
   "outputs": [],
   "source": [
    "'manzana'.capitalize() #  Convierte la 1ra letra en mayuscula\n",
    "'PERA'.lower() #  Convierte una cadena a minusculas\n",
    "'ß'.casefold() #  Similar a lower, pero mas agresivo con otros caracteres \n",
    "'uva'.upper() #  Convierte una cadena a mayusculas\n",
    "'python zen'.title() #  Convierte la cadena a titulo\n",
    "'CaMbIo'.swapcase() #  Intercambia mayusculas y minusculas"
   ]
  },
  {
   "cell_type": "code",
   "execution_count": null,
   "metadata": {
    "slideshow": {
     "slide_type": "subslide"
    }
   },
   "outputs": [],
   "source": [
    "'Cursos'.center(10) #  Centra una cadena dado un ancho\n",
    "'\\tInicio'.expandtabs() #  Sustituye los tabs por espacios\n",
    "'Justificar'.ljust(15) #  Justificar en un ancho hacia la izquierda\n",
    "'Justificar'.rjust(15) #  Justificar en un ancho hacia la derecha\n",
    "'45'.zfill(4) #  Coloca ceros a la izquierda dado a un ancho"
   ]
  },
  {
   "cell_type": "code",
   "execution_count": null,
   "metadata": {
    "slideshow": {
     "slide_type": "subslide"
    }
   },
   "outputs": [],
   "source": [
    "espacios = '  espacios  '\n",
    "espacios.strip() #  elimina los caracteres del argumento a los costados\n",
    "espacios.lstrip() #  elimina los caracteres a la derecha\n",
    "espacios.rstrip() #  elimina los caracteres a la izquierda"
   ]
  },
  {
   "cell_type": "code",
   "execution_count": null,
   "metadata": {
    "slideshow": {
     "slide_type": "subslide"
    }
   },
   "outputs": [],
   "source": [
    "'bolante'.replace('b','v') #  remplaza un caracter, por otro\n",
    "'osola'.replace('o','a', 1) #  se puede espesificar cuantas ocurrencias cambiar "
   ]
  },
  {
   "cell_type": "code",
   "execution_count": null,
   "metadata": {
    "slideshow": {
     "slide_type": "subslide"
    }
   },
   "outputs": [],
   "source": [
    "#  Maketrans retorna un diccionario para translate\n",
    "diccionario = str.maketrans('Diconar','Bezumyw')\n",
    "diccionario\n",
    "#  Traslate hace los cambios donde sustituye el valor de la correspondiente\n",
    "#  llave (Keyword)\n",
    "'Diccionario'.translate(diccionario)"
   ]
  },
  {
   "cell_type": "markdown",
   "metadata": {
    "slideshow": {
     "slide_type": "subslide"
    }
   },
   "source": [
    "### Clasificacion"
   ]
  },
  {
   "cell_type": "code",
   "execution_count": null,
   "metadata": {
    "slideshow": {
     "slide_type": "fragment"
    }
   },
   "outputs": [],
   "source": [
    "'Admin123'.isalnum() #  Alfanumericos\n",
    "'Python'.isalpha() #  Alfabetico\n",
    "'Excepción'.isascii() #  ASCII"
   ]
  },
  {
   "cell_type": "code",
   "execution_count": null,
   "metadata": {
    "slideshow": {
     "slide_type": "subslide"
    }
   },
   "outputs": [],
   "source": [
    "'minusculas'.islower() #  Minusculas\n",
    "'MAYUSCULAS'.isupper() #  Mayusculas\n",
    "'Strings En Python'.istitle() # Titulo"
   ]
  },
  {
   "cell_type": "code",
   "execution_count": null,
   "metadata": {
    "slideshow": {
     "slide_type": "subslide"
    }
   },
   "outputs": [],
   "source": [
    "'12345'.isdecimal() #  Digitos base 10\n",
    "'٠١٢٣٤٥٦٧٨٩'.isdigit() #  Numero indo arabigos\n",
    "'½'.isnumeric() #  Fraccion"
   ]
  },
  {
   "cell_type": "code",
   "execution_count": null,
   "metadata": {
    "slideshow": {
     "slide_type": "subslide"
    }
   },
   "outputs": [],
   "source": [
    "'\\n'.isprintable() #  Caracter imprimible\n",
    "'nombre_variable'.isidentifier() #  Identifcador valido de Python\n",
    "' '.isspace() #  Caracter de espacio"
   ]
  },
  {
   "cell_type": "markdown",
   "metadata": {
    "slideshow": {
     "slide_type": "subslide"
    }
   },
   "source": [
    "### Busqueda de subcadenas"
   ]
  },
  {
   "cell_type": "code",
   "execution_count": null,
   "metadata": {
    "slideshow": {
     "slide_type": "fragment"
    }
   },
   "outputs": [],
   "source": [
    "texto = 'Anita lava la tina'\n",
    "patron = 'a'\n",
    "texto.find(patron) #  Indice de la 1ra aparcion a la izquierda\n",
    "texto.rfind(patron) #  Indice de la 1ra aparicion a la derecha \n",
    "#  Podemos buscar en una seccion del texto\n",
    "texto.find(patron, 5, 10) # sub, start, end"
   ]
  },
  {
   "cell_type": "code",
   "execution_count": null,
   "metadata": {
    "slideshow": {
     "slide_type": "subslide"
    }
   },
   "outputs": [],
   "source": [
    "texto.index(patron)\n",
    "texto.rindex(patron)\n",
    "#La diferencia entre index y find, esta en que index devuelve un ValueError si el\n",
    "#partron no es encontrado\n",
    "texto.find('o')\n",
    "texto.index('o')"
   ]
  },
  {
   "cell_type": "code",
   "execution_count": null,
   "metadata": {
    "slideshow": {
     "slide_type": "subslide"
    }
   },
   "outputs": [],
   "source": [
    "texto.startswith('Anita') #  Inicia con\n",
    "texto.endswith('tina') #  Termina con"
   ]
  },
  {
   "cell_type": "code",
   "execution_count": null,
   "metadata": {
    "slideshow": {
     "slide_type": "subslide"
    }
   },
   "outputs": [],
   "source": [
    "texto.count(patron) #  cantidad de ocurrencias de la subcadena en la cadena\n",
    "texto, patron"
   ]
  },
  {
   "cell_type": "markdown",
   "metadata": {
    "slideshow": {
     "slide_type": "subslide"
    }
   },
   "source": [
    "### De concatenacion y particion"
   ]
  },
  {
   "cell_type": "code",
   "execution_count": null,
   "metadata": {
    "slideshow": {
     "slide_type": "fragment"
    }
   },
   "outputs": [],
   "source": [
    "numero_telefonico = ['331', '1234', '0987']\n",
    "#  Concatena un iterable de strings \n",
    "'-'.join(numero_telefonico)"
   ]
  },
  {
   "cell_type": "code",
   "execution_count": null,
   "metadata": {
    "slideshow": {
     "slide_type": "subslide"
    }
   },
   "outputs": [],
   "source": [
    "frase = 'Hola Mundo, como estan?'\n",
    "a, b, c = frase.partition(' ') \n",
    "a, b, c #  Retorna una 3-tupla con una division de la primera aparicion del separador\n",
    "a, b, c = frase.rpartition(' ')\n",
    "a, b, c #  Retorna una 3-tupla con una division de la primera aparicion a la derecha del separador"
   ]
  },
  {
   "cell_type": "code",
   "execution_count": null,
   "metadata": {
    "slideshow": {
     "slide_type": "subslide"
    }
   },
   "outputs": [],
   "source": [
    "serie_numerica = '1 2 3 4 5 6'\n",
    "#  Separa a una cadena por un separador, por default, por un espacio en blanco\n",
    "serie_numerica.split() \n",
    "#  Separa a una cadena por un separador hacia la derecha\n",
    "serie_numerica.rsplit(maxsplit= 3) # split y rsplit pueden definir el maximo de divisiones de la cadena\n",
    "#  Podemos separar por otros separadores\n",
    "'10/09/2017'.split('/')\n",
    "#  Splitlines separa cadenas por separadores de renglones\n",
    "'Esto es un ejemplo\\nde un texto largo'.splitlines()"
   ]
  },
  {
   "cell_type": "markdown",
   "metadata": {
    "slideshow": {
     "slide_type": "slide"
    }
   },
   "source": [
    "## Formateo de cadenas\n",
    "___"
   ]
  },
  {
   "cell_type": "markdown",
   "metadata": {
    "slideshow": {
     "slide_type": "subslide"
    }
   },
   "source": [
    "### Existen 5 maneras de formatear cadenas!"
   ]
  },
  {
   "cell_type": "code",
   "execution_count": null,
   "metadata": {
    "slideshow": {
     "slide_type": "fragment"
    }
   },
   "outputs": [],
   "source": [
    "nombre = 'Arturo'\n",
    "edad = 21\n",
    "#  Estilo C\n",
    "print('Estilo C: %s %d'%(nombre, edad))\n",
    "#  Metodo format\n",
    "print('Metodo format: {} {}'.format(nombre, edad))\n",
    "#  Metodo format map\n",
    "print('Metodo format_map: {nombre} {edad}'.format_map({'nombre': nombre, 'edad': edad}))\n",
    "#  string.template\n",
    "from string import Template\n",
    "texto = Template('Template: $nombre $edad')\n",
    "print(texto.substitute(nombre = nombre, edad = edad))"
   ]
  },
  {
   "cell_type": "code",
   "execution_count": null,
   "metadata": {
    "slideshow": {
     "slide_type": "subslide"
    }
   },
   "outputs": [],
   "source": [
    "# f-string (3.6+), es la forma mas aceptada de dar formato a una cadena\n",
    "print(f'f-string: {nombre} {edad}')"
   ]
  },
  {
   "cell_type": "code",
   "execution_count": null,
   "metadata": {
    "slideshow": {
     "slide_type": "subslide"
    }
   },
   "outputs": [],
   "source": [
    "#  Podemos ejecutar operaciones\n",
    "f'{2 * 7}'\n",
    "#  Incluso podemos ejecutar funciones\n",
    "linea = 'Grande'\n",
    "f'{linea.lower()}'\n",
    "#  Tambien podemos acceder a los miembros de la clase\n",
    "n = 32 + 5j\n",
    "f'{n.real}, {n.imag}'"
   ]
  },
  {
   "cell_type": "code",
   "execution_count": null,
   "metadata": {
    "slideshow": {
     "slide_type": "subslide"
    }
   },
   "outputs": [],
   "source": [
    "f'{5.025:<10}' #  Alineado a la izquierda\n",
    "f'{5.025:>10}' #  Alineado a la derecha\n",
    "f'{5.025:^10}' #  Centrado"
   ]
  },
  {
   "cell_type": "code",
   "execution_count": null,
   "metadata": {
    "slideshow": {
     "slide_type": "subslide"
    }
   },
   "outputs": [],
   "source": [
    "from decimal import Decimal\n",
    "valor = Decimal(\"12.34567\")\n",
    "f'Resultado: {valor:10}' #  Ancho\n",
    "f'Resultado: {valor:.4}' #  Precision\n",
    "f'Resultado: {valor:{10}.{4}}' #  Podemos combinar notaciones"
   ]
  },
  {
   "cell_type": "code",
   "execution_count": null,
   "metadata": {
    "slideshow": {
     "slide_type": "subslide"
    }
   },
   "outputs": [],
   "source": [
    "f'Binario: {2:b}' #  Representacion binaria\n",
    "f'Octal: {14:o}' #  Representacion octal\n",
    "f'Hexadecimal: {15:x}' #  Representacion hexadecimal\n",
    "f'Caracter: {49:c}' #  Representacion del valor numerico del caracter ascii"
   ]
  },
  {
   "cell_type": "markdown",
   "metadata": {
    "slideshow": {
     "slide_type": "subslide"
    }
   },
   "source": [
    "[Mini Guia de especificacion de formato](https://docs.python.org/3.7/library/string.html#formatspec)"
   ]
  },
  {
   "cell_type": "markdown",
   "metadata": {
    "slideshow": {
     "slide_type": "slide"
    }
   },
   "source": [
    "## Otras cosas de las strings\n",
    "___"
   ]
  },
  {
   "cell_type": "code",
   "execution_count": null,
   "metadata": {
    "slideshow": {
     "slide_type": "subslide"
    }
   },
   "outputs": [],
   "source": [
    "ord('a') #  Funcion que retorna el valor ascii de un solo caracter\n",
    "chr(50) #  Funcion que retorna el caracter dado su valor ascii numerica"
   ]
  },
  {
   "cell_type": "code",
   "execution_count": null,
   "metadata": {
    "slideshow": {
     "slide_type": "subslide"
    }
   },
   "outputs": [],
   "source": [
    "#  Modulo string\n",
    "import string \n",
    "string.ascii_letters #  Letras ascii\n",
    "string.ascii_lowercase #  Letras minusculas\n",
    "string.ascii_uppercase #  Letras mayusculas"
   ]
  },
  {
   "cell_type": "code",
   "execution_count": null,
   "metadata": {
    "slideshow": {
     "slide_type": "subslide"
    }
   },
   "outputs": [],
   "source": [
    "string.digits #  Digitos\n",
    "string.hexdigits #  Digitos hexadecimales\n",
    "string.octdigits #  Digitos octales"
   ]
  },
  {
   "cell_type": "code",
   "execution_count": null,
   "metadata": {
    "slideshow": {
     "slide_type": "subslide"
    }
   },
   "outputs": [],
   "source": [
    "string.punctuation #  Caracteres especiales\n",
    "string.printable #  Imprimibles\n",
    "string.whitespace #  Espacios en blanco"
   ]
  },
  {
   "cell_type": "markdown",
   "metadata": {
    "slideshow": {
     "slide_type": "subslide"
    }
   },
   "source": [
    "### Menciones\n",
    "* raw strings\n",
    "* bytes\n",
    "* re (expresiones regulares)"
   ]
  }
 ],
 "metadata": {
  "celltoolbar": "Slideshow",
  "kernelspec": {
   "display_name": "Python 3",
   "language": "python",
   "name": "python3"
  },
  "language_info": {
   "codemirror_mode": {
    "name": "ipython",
    "version": 3
   },
   "file_extension": ".py",
   "mimetype": "text/x-python",
   "name": "python",
   "nbconvert_exporter": "python",
   "pygments_lexer": "ipython3",
   "version": "3.7.3"
  }
 },
 "nbformat": 4,
 "nbformat_minor": 2
}
