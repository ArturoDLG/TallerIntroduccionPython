{
 "cells": [
  {
   "cell_type": "code",
   "execution_count": 1,
   "metadata": {
    "slideshow": {
     "slide_type": "-"
    }
   },
   "outputs": [],
   "source": [
    "#  Esta celda es exclusivo para cuestiones de impresion dentro del notebook\n",
    "from IPython.core.interactiveshell import InteractiveShell\n",
    "InteractiveShell.ast_node_interactivity = 'all'"
   ]
  },
  {
   "cell_type": "markdown",
   "metadata": {
    "slideshow": {
     "slide_type": "slide"
    }
   },
   "source": [
    "# Busqueda y Ordenamiento\n",
    "___"
   ]
  },
  {
   "cell_type": "markdown",
   "metadata": {
    "slideshow": {
     "slide_type": "slide"
    }
   },
   "source": [
    "## Que aprenderemos?\n",
    "* funciones y estructuras para busquedas\n",
    "* modulos `heapq` y `bisect` para busquedas\n",
    "* funciones para ordenamiento\n",
    "* modulos `heapq` y `bisect` para ordenamiento\n",
    "* Busquedas y ordenamientos personalizadas"
   ]
  },
  {
   "cell_type": "markdown",
   "metadata": {
    "slideshow": {
     "slide_type": "slide"
    }
   },
   "source": [
    "## Busquedas\n",
    "___"
   ]
  },
  {
   "cell_type": "markdown",
   "metadata": {
    "slideshow": {
     "slide_type": "subslide"
    }
   },
   "source": [
    "## `in`\n",
    "* Buscar si un elemento existe o no en una coleccion\n",
    "* `list`, `tuple`y `str` >> $O(n)$\n",
    "* `dict` y `set` >> $O(1)$"
   ]
  },
  {
   "cell_type": "code",
   "execution_count": 2,
   "metadata": {
    "slideshow": {
     "slide_type": "fragment"
    }
   },
   "outputs": [
    {
     "data": {
      "text/plain": [
       "True"
      ]
     },
     "execution_count": 2,
     "metadata": {},
     "output_type": "execute_result"
    },
    {
     "data": {
      "text/plain": [
       "False"
      ]
     },
     "execution_count": 2,
     "metadata": {},
     "output_type": "execute_result"
    }
   ],
   "source": [
    "5 in list(range(10))\n",
    "10 in set(range(1,21, 2))"
   ]
  },
  {
   "cell_type": "markdown",
   "metadata": {
    "slideshow": {
     "slide_type": "subslide"
    }
   },
   "source": [
    "## `index(x)`\n",
    "* `index(x)`  >>  1ra posicion a la izquierda de x (indice) / `ValueError`\n",
    "* `list`, `tuple`, `str` >> $O(n)$\n",
    "* `str`: rindex() >> 1ra posicion a la derecha de x (indice)"
   ]
  },
  {
   "cell_type": "code",
   "execution_count": 3,
   "metadata": {
    "slideshow": {
     "slide_type": "fragment"
    }
   },
   "outputs": [
    {
     "data": {
      "text/plain": [
       "7"
      ]
     },
     "execution_count": 3,
     "metadata": {},
     "output_type": "execute_result"
    },
    {
     "ename": "ValueError",
     "evalue": "substring not found",
     "output_type": "error",
     "traceback": [
      "\u001b[0;31m---------------------------------------------------------------------------\u001b[0m",
      "\u001b[0;31mValueError\u001b[0m                                Traceback (most recent call last)",
      "\u001b[0;32m<ipython-input-3-dc2c31f6497b>\u001b[0m in \u001b[0;36m<module>\u001b[0;34m\u001b[0m\n\u001b[1;32m      1\u001b[0m \u001b[0msesion\u001b[0m \u001b[0;34m=\u001b[0m \u001b[0;34m'Busquedas Y Ordenamientos'\u001b[0m\u001b[0;34m\u001b[0m\u001b[0;34m\u001b[0m\u001b[0m\n\u001b[1;32m      2\u001b[0m \u001b[0msesion\u001b[0m\u001b[0;34m.\u001b[0m\u001b[0mindex\u001b[0m\u001b[0;34m(\u001b[0m\u001b[0;34m'a'\u001b[0m\u001b[0;34m)\u001b[0m\u001b[0;34m\u001b[0m\u001b[0;34m\u001b[0m\u001b[0m\n\u001b[0;32m----> 3\u001b[0;31m \u001b[0msesion\u001b[0m\u001b[0;34m.\u001b[0m\u001b[0mindex\u001b[0m\u001b[0;34m(\u001b[0m\u001b[0;34m'x'\u001b[0m\u001b[0;34m)\u001b[0m\u001b[0;34m\u001b[0m\u001b[0;34m\u001b[0m\u001b[0m\n\u001b[0m",
      "\u001b[0;31mValueError\u001b[0m: substring not found"
     ]
    }
   ],
   "source": [
    "sesion = 'Busquedas Y Ordenamientos'\n",
    "sesion.index('a')\n",
    "sesion.index('x')"
   ]
  },
  {
   "cell_type": "markdown",
   "metadata": {
    "slideshow": {
     "slide_type": "subslide"
    }
   },
   "source": [
    "## `find(x)` \n",
    "* `find(x)` -> 1ra posicion a la izquierda de x (indice) / -1\n",
    "* `str`\n",
    "* `rfind(x)` -> 1ra posicion a la derecha de x (indice) / -1"
   ]
  },
  {
   "cell_type": "code",
   "execution_count": 2,
   "metadata": {
    "slideshow": {
     "slide_type": "fragment"
    }
   },
   "outputs": [
    {
     "data": {
      "text/plain": [
       "7"
      ]
     },
     "execution_count": 2,
     "metadata": {},
     "output_type": "execute_result"
    },
    {
     "data": {
      "text/plain": [
       "-1"
      ]
     },
     "execution_count": 2,
     "metadata": {},
     "output_type": "execute_result"
    }
   ],
   "source": [
    "sesion = 'Busquedas Y Ordenamientos' \n",
    "\n",
    "sesion.find('a')\n",
    "sesion.find('x')"
   ]
  },
  {
   "cell_type": "markdown",
   "metadata": {
    "slideshow": {
     "slide_type": "subslide"
    }
   },
   "source": [
    "## `in`, `index()`, `find()`  \n",
    "* `list`, `tuple`, `str` >> $O(n)$ \n",
    "* pros: \n",
    "> * no es necesario ordenar elementos  \n",
    "  * se pueden repetir elementos\n",
    "  * se puede obtener la posicion del elemento buscado\n",
    "* contras:\n",
    "> * para conjuntos muy grandes resulta muy lento"
   ]
  },
  {
   "cell_type": "markdown",
   "metadata": {
    "slideshow": {
     "slide_type": "subslide"
    }
   },
   "source": [
    "## `in`\n",
    "* `dict` y `set` >> $O(1)$\n",
    "* pros:\n",
    "> * es bastante rapido a comparacion de otros metodos\n",
    "\n",
    "* contras:\n",
    "> * solo es util cuando no se requiere conservar elementos repetidos o posiciones"
   ]
  },
  {
   "cell_type": "markdown",
   "metadata": {
    "slideshow": {
     "slide_type": "slide"
    }
   },
   "source": [
    "## Tip\n",
    "usando un `dict` para busqueda del indice de un elemento"
   ]
  },
  {
   "cell_type": "code",
   "execution_count": 4,
   "metadata": {
    "slideshow": {
     "slide_type": "subslide"
    }
   },
   "outputs": [
    {
     "data": {
      "text/plain": [
       "'Busquedas Y Ordenamientos'"
      ]
     },
     "execution_count": 4,
     "metadata": {},
     "output_type": "execute_result"
    },
    {
     "name": "stdout",
     "output_type": "stream",
     "text": [
      "defaultdict(<class 'list'>, {'B': [0], 'u': [1, 4], 's': [2, 8, 24], 'q': [3], 'e': [5, 15, 20], 'd': [6, 14], 'a': [7, 17], ' ': [9, 11], 'Y': [10], 'O': [12], 'r': [13], 'n': [16, 21], 'm': [18], 'i': [19], 't': [22], 'o': [23]})\n"
     ]
    }
   ],
   "source": [
    "sesion\n",
    "\n",
    "from collections import defaultdict\n",
    "\n",
    "posiciones = defaultdict(list)\n",
    "for pos, letra in enumerate(sesion):\n",
    "    posiciones[letra].append(pos)\n",
    "\n",
    "print(posiciones)"
   ]
  },
  {
   "cell_type": "markdown",
   "metadata": {
    "slideshow": {
     "slide_type": "subslide"
    }
   },
   "source": [
    "## modulo `bisect`\n",
    "<center><img src=\"imagenes/busqueda_binaria.gif\"></center>"
   ]
  },
  {
   "cell_type": "code",
   "execution_count": 6,
   "metadata": {
    "slideshow": {
     "slide_type": "subslide"
    }
   },
   "outputs": [
    {
     "name": "stdout",
     "output_type": "stream",
     "text": [
      "[1, 3, 5, 7, 9, 11, 13, 15, 17, 19, 21, 23, 25, 27, 29, 31, 33, 35, 37, 39, 41, 43, 45, 47, 49, 51, 53, 55, 57, 59]\n"
     ]
    },
    {
     "data": {
      "text/plain": [
       "(18, 37)"
      ]
     },
     "execution_count": 6,
     "metadata": {},
     "output_type": "execute_result"
    }
   ],
   "source": [
    "import bisect\n",
    "lista = list(range(1,60,2))\n",
    "print(lista)\n",
    "# buscar el punto de inserccion a la izquierda\n",
    "i = bisect.bisect_left(lista, 37)\n",
    "i, lista[i]"
   ]
  },
  {
   "cell_type": "code",
   "execution_count": 7,
   "metadata": {
    "slideshow": {
     "slide_type": "subslide"
    }
   },
   "outputs": [
    {
     "data": {
      "text/plain": [
       "39"
      ]
     },
     "execution_count": 7,
     "metadata": {},
     "output_type": "execute_result"
    }
   ],
   "source": [
    "# busca el punto de inserccion a la derecha\n",
    "# similar a bisect.bisect\n",
    "i = bisect.bisect_right(lista, 37)\n",
    "lista[i]"
   ]
  },
  {
   "cell_type": "code",
   "execution_count": 8,
   "metadata": {
    "slideshow": {
     "slide_type": "subslide"
    }
   },
   "outputs": [
    {
     "data": {
      "text/plain": [
       "['F', 'A', 'C', 'C', 'B', 'A', 'A']"
      ]
     },
     "execution_count": 8,
     "metadata": {},
     "output_type": "execute_result"
    }
   ],
   "source": [
    "def grade(score, breakpoints=[60, 70, 80, 90], grades='FDCBA'):\n",
    "    \"\"\"Retorna la nota obtenida dado un puntaje\"\"\"\n",
    "    i = bisect.bisect(breakpoints, score)\n",
    "    return grades[i]\n",
    "\n",
    "[grade(score) for score in [33, 99, 77, 70, 89, 90, 100]]"
   ]
  },
  {
   "cell_type": "code",
   "execution_count": 11,
   "metadata": {
    "slideshow": {
     "slide_type": "subslide"
    }
   },
   "outputs": [
    {
     "data": {
      "text/plain": [
       "('black', 0)"
      ]
     },
     "execution_count": 11,
     "metadata": {},
     "output_type": "execute_result"
    },
    {
     "data": {
      "text/plain": [
       "('blue', 1)"
      ]
     },
     "execution_count": 11,
     "metadata": {},
     "output_type": "execute_result"
    },
    {
     "data": {
      "text/plain": [
       "('red', 5)"
      ]
     },
     "execution_count": 11,
     "metadata": {},
     "output_type": "execute_result"
    },
    {
     "data": {
      "text/plain": [
       "('yellow', 8)"
      ]
     },
     "execution_count": 11,
     "metadata": {},
     "output_type": "execute_result"
    }
   ],
   "source": [
    "data = [('red', 5), ('blue', 1), ('yellow', 8), ('black', 0)]\n",
    "data.sort(key=lambda r: r[1])\n",
    "keys = [r[1] for r in data] # precomputar la lista de llaves\n",
    "data[bisect.bisect_left(keys, 0)]\n",
    "data[bisect.bisect_left(keys, 1)]\n",
    "data[bisect.bisect_left(keys, 5)]\n",
    "data[bisect.bisect_left(keys, 8)]"
   ]
  },
  {
   "cell_type": "markdown",
   "metadata": {
    "slideshow": {
     "slide_type": "subslide"
    }
   },
   "source": [
    "## `biscet`\n",
    "* $O(log n)$\n",
    "* funciona en `list`, `tuple` y `str`\n",
    "* los datos deben escontrarse previamente ordenados"
   ]
  },
  {
   "cell_type": "markdown",
   "metadata": {
    "slideshow": {
     "slide_type": "slide"
    }
   },
   "source": [
    "## modulo `heapq`\n",
    "<center><img src=\"imagenes/Heap.gif\"></center>"
   ]
  },
  {
   "cell_type": "code",
   "execution_count": 12,
   "metadata": {
    "slideshow": {
     "slide_type": "subslide"
    }
   },
   "outputs": [
    {
     "name": "stdout",
     "output_type": "stream",
     "text": [
      "[1, 3, 5, 7, 9, 11, 13, 15, 17, 19, 21, 23, 25, 27, 29, 31, 33, 35, 37, 39, 41, 43, 45, 47, 49, 51, 53, 55, 57, 59]\n"
     ]
    },
    {
     "data": {
      "text/plain": [
       "1"
      ]
     },
     "execution_count": 12,
     "metadata": {},
     "output_type": "execute_result"
    },
    {
     "name": "stdout",
     "output_type": "stream",
     "text": [
      "[3, 7, 5, 15, 9, 11, 13, 31, 17, 19, 21, 23, 25, 27, 29, 59, 33, 35, 37, 39, 41, 43, 45, 47, 49, 51, 53, 55, 57]\n"
     ]
    }
   ],
   "source": [
    "import heapq \n",
    "print(lista)\n",
    "# ordenar una lista a manera de heap (de no encontrase ordenado)\n",
    "# heapq.heapify(lista)\n",
    "heapq.heappop(lista) # nos devuelve el menor de los elementos\n",
    "print(lista)"
   ]
  },
  {
   "cell_type": "code",
   "execution_count": 13,
   "metadata": {
    "slideshow": {
     "slide_type": "subslide"
    }
   },
   "outputs": [
    {
     "data": {
      "text/plain": [
       "[3, 5, 7, 9, 11]"
      ]
     },
     "execution_count": 13,
     "metadata": {},
     "output_type": "execute_result"
    },
    {
     "data": {
      "text/plain": [
       "[59, 57, 55, 53, 51, 49, 47, 45]"
      ]
     },
     "execution_count": 13,
     "metadata": {},
     "output_type": "execute_result"
    }
   ],
   "source": [
    "# obtienes los n elementos mas pequeños\n",
    "heapq.nsmallest(5, lista)\n",
    "# obtienes los n elementos mas grandes\n",
    "heapq.nlargest(8, lista)"
   ]
  },
  {
   "cell_type": "markdown",
   "metadata": {
    "slideshow": {
     "slide_type": "subslide"
    }
   },
   "source": [
    "## Y para obtener el mas grande?"
   ]
  },
  {
   "cell_type": "code",
   "execution_count": 14,
   "metadata": {
    "slideshow": {
     "slide_type": "fragment"
    }
   },
   "outputs": [
    {
     "data": {
      "text/plain": [
       "1"
      ]
     },
     "execution_count": 14,
     "metadata": {},
     "output_type": "execute_result"
    },
    {
     "data": {
      "text/plain": [
       "59"
      ]
     },
     "execution_count": 14,
     "metadata": {},
     "output_type": "execute_result"
    }
   ],
   "source": [
    "# para obtener los mas grandes, se invierte el signo\n",
    "lista_2 = [-n for n in range(1,60,2)] \n",
    "-heapq.heappop(lista_2)\n",
    "# o se puede usar un metodo protegido\n",
    "heapq._heapify_max(lista)\n",
    "heapq._heappop_max(lista)"
   ]
  },
  {
   "cell_type": "markdown",
   "metadata": {
    "slideshow": {
     "slide_type": "subslide"
    }
   },
   "source": [
    "## `heapq`\n",
    "* $O(log n)$\n",
    "* solo funciona en listas\n",
    "* tiene la ventaja de tener una funcion que ordena (a manera de Heap)"
   ]
  },
  {
   "cell_type": "markdown",
   "metadata": {
    "slideshow": {
     "slide_type": "slide"
    }
   },
   "source": [
    "## Ordenamiento\n",
    "___"
   ]
  },
  {
   "cell_type": "markdown",
   "metadata": {
    "slideshow": {
     "slide_type": "subslide"
    }
   },
   "source": [
    "## `sort()`, `sorted()`\n",
    "* `sort()`: Metodo de `list`\n",
    "* `sorted()`: Funcion builtin (nativa)\n",
    "* Algoritmo Timsort $O(n log n)$\n",
    "* parametro key para ordenamiento personalizado"
   ]
  },
  {
   "cell_type": "code",
   "execution_count": 6,
   "metadata": {
    "slideshow": {
     "slide_type": "subslide"
    }
   },
   "outputs": [
    {
     "data": {
      "text/plain": [
       "[(5.4, -174.774, -20.155, 122.8),\n",
       " (5.0, -174.593, -21.141, 11.2),\n",
       " (4.8, -174.54, -20.615, 10.0),\n",
       " (4.6, -174.19, 51.547, 35.0),\n",
       " (3.9, -174.107, 51.476, 40.4),\n",
       " (4.9, -174.089, -19.946, 35.0),\n",
       " (3.2, -173.957, 51.361, 17.3),\n",
       " (2.6, -173.946, 51.341, 20.0),\n",
       " (2.5, -173.941, 51.432, 41.3),\n",
       " (5.3, -173.446, -16.904, 39.9),\n",
       " (3.0, -171.426, 51.787, 40.0),\n",
       " (2.5, -169.73, 52.874, 7.9),\n",
       " (3.0, -169.608, 52.763, 13.1),\n",
       " (3.4, -169.451, 52.748, 3.3),\n",
       " (3.2, -169.375, 52.714, 4.8),\n",
       " (2.6, -169.218, 52.71, 1.0),\n",
       " (3.3, -168.183, 53.554, 170.2),\n",
       " (2.9, -166.489, 67.466, 18.1),\n",
       " (3.0, -164.959, 53.491, 25.6),\n",
       " (2.5, -164.666, 54.302, 84.9),\n",
       " (2.8, -163.499, 54.165, 42.7),\n",
       " (2.7, -162.908, 53.657, 61.1),\n",
       " (2.5, -162.903, 53.595, 38.6),\n",
       " (3.3, -162.872, 53.599, 11.8),\n",
       " (3.3, -162.858, 53.543, 39.0),\n",
       " (2.5, -162.852, 53.607, 37.5),\n",
       " (3.0, -162.838, 53.583, 34.3),\n",
       " (3.3, -162.831, 53.578, 40.6),\n",
       " (2.5, -162.796, 53.531, 34.5),\n",
       " (3.3, -162.755, 53.553, 42.6),\n",
       " (2.6, -162.725, 53.677, 9.5),\n",
       " (3.3, -162.619, 65.372, 20.0),\n",
       " (2.9, -157.889, 55.237, 70.4),\n",
       " (2.6, -156.753, 58.017, 193.4),\n",
       " (2.6, -156.49, 56.408, 17.3),\n",
       " (4.2, -156.485, 56.075, 32.8),\n",
       " (2.8, -156.197, 57.48, 95.9),\n",
       " (2.6, -155.98, 20.3, 33.6),\n",
       " (2.8, -155.759, 56.96, 41.8),\n",
       " (3.0, -155.478, 18.941, 37.1),\n",
       " (3.0, -154.875, 58.103, 85.5),\n",
       " (2.8, -154.328, 62.262, 98.6),\n",
       " (3.2, -153.597, 59.895, 127.3),\n",
       " (2.5, -153.49, 59.767, 125.8),\n",
       " (2.6, -153.297, 60.137, 134.3),\n",
       " (4.1, -153.292, 59.978, 129.0),\n",
       " (2.8, -152.948, 60.117, 129.8),\n",
       " (3.0, -152.806, 56.957, 5.1),\n",
       " (2.8, -152.656, 59.685, 90.6),\n",
       " (2.6, -152.551, 61.039, 131.9),\n",
       " (2.9, -152.384, 60.214, 86.3),\n",
       " (3.2, -152.255, 61.223, 127.3),\n",
       " (2.5, -152.107, 59.841, 79.6),\n",
       " (2.7, -151.972, 59.745, 44.6),\n",
       " (2.5, -151.822, 59.898, 59.4),\n",
       " (2.6, -151.602, 63.211, 12.4),\n",
       " (2.9, -150.981, 63.075, 126.6),\n",
       " (2.7, -150.895, 61.678, 58.5),\n",
       " (3.6, -150.694, 63.195, 126.8),\n",
       " (3.9, -150.639, 62.732, 87.4),\n",
       " (2.7, -150.382, 61.396, 12.3),\n",
       " (3.2, -149.35, 63.103, 81.5),\n",
       " (3.8, -147.088, 57.105, 12.0),\n",
       " (3.4, -146.717, 61.37, 28.0),\n",
       " (2.6, -146.415, 61.577, 25.8),\n",
       " (3.2, -144.167, 63.045, 8.1),\n",
       " (3.4, -127.057, 40.528, 5.0),\n",
       " (3.0, -125.432, 40.357, 15.0),\n",
       " (2.7, -124.838, 40.724, 0.0),\n",
       " (2.8, -124.083, 40.33, 21.1),\n",
       " (2.7, -122.802, 38.833, 2.0),\n",
       " (3.0, -122.792, 38.809, 1.8),\n",
       " (2.9, -122.689, 38.958, 4.1),\n",
       " (2.9, -121.637, 37.257, 6.3),\n",
       " (2.7, -121.637, 37.258, 7.8),\n",
       " (3.0, -121.147, 35.694, 5.9),\n",
       " (2.6, -121.121, 36.556, 4.8),\n",
       " (2.5, -121.12, 36.536, 3.6),\n",
       " (3.7, -121.118, 36.558, 5.6),\n",
       " (2.5, -120.475, 49.335, 0.0),\n",
       " (2.7, -120.023, 33.786, 15.0),\n",
       " (3.0, -119.136, 33.691, 11.4),\n",
       " (3.0, -118.831, 34.006, 12.2),\n",
       " (2.8, -116.881, 33.305, 14.6),\n",
       " (3.3, -116.879, 33.304, 15.1),\n",
       " (3.0, -116.853, 33.379, 8.0),\n",
       " (2.5, -116.848, 33.377, 8.1),\n",
       " (2.7, -116.594, 34.02, 11.7),\n",
       " (2.8, -116.166, 33.856, 4.8),\n",
       " (2.6, -116.164, 33.856, 5.0),\n",
       " (2.5, -116.162, 33.855, 6.9),\n",
       " (3.5, -116.157, 33.858, 2.4),\n",
       " (3.0, -116.156, 33.854, 3.6),\n",
       " (2.7, -116.156, 33.86, 3.5),\n",
       " (3.5, -116.156, 33.858, 1.9),\n",
       " (2.5, -116.155, 33.85, 5.3),\n",
       " (2.7, -116.155, 33.856, 3.3),\n",
       " (2.8, -116.154, 33.858, 5.8),\n",
       " (3.0, -115.816, 32.615, 8.9),\n",
       " (2.9, -115.533, 32.993, 12.8),\n",
       " (2.5, -115.408, 32.298, 20.2),\n",
       " (2.8, -115.28, 32.206, 0.0),\n",
       " (2.7, -115.255, 32.178, 10.0),\n",
       " (2.6, -114.976, 37.261, 0.0),\n",
       " (4.7, -107.642, 18.929, 10.0),\n",
       " (2.9, -106.054, 31.54, 4.9),\n",
       " (4.4, -103.406, 19.014, 83.1),\n",
       " (5.0, -101.487, -35.943, 9.9),\n",
       " (4.9, -98.576, 16.423, 56.4),\n",
       " (5.3, -98.335, 16.697, 20.8),\n",
       " (4.8, -98.297, 16.571, 10.0),\n",
       " (6.0, -98.296, 16.456, 9.1),\n",
       " (4.7, -98.244, 16.739, 42.8),\n",
       " (4.5, -98.235, 16.435, 10.1),\n",
       " (4.6, -98.215, 16.622, 10.3),\n",
       " (4.4, -97.901, 16.346, 20.1),\n",
       " (3.3, -96.59, 35.451, 5.0),\n",
       " (4.0, -95.828, 34.689, 4.9),\n",
       " (4.6, -94.256, 17.553, 136.7),\n",
       " (4.3, -93.024, 20.473, 15.2),\n",
       " (5.4, -93.012, 14.518, 40.4),\n",
       " (4.1, -92.985, 19.52, 15.2),\n",
       " (4.4, -92.801, 14.536, 53.1),\n",
       " (4.4, -92.361, 14.174, 70.2),\n",
       " (4.5, -90.275, 12.758, 61.9),\n",
       " (4.5, -87.8, 12.188, 48.7),\n",
       " (4.5, -86.802, 11.675, 47.2),\n",
       " (4.3, -82.702, 6.231, 10.0),\n",
       " (4.5, -82.553, 6.243, 11.5),\n",
       " (5.4, -80.597, -5.206, 74.5),\n",
       " (2.5, -77.996, 37.91, 6.3),\n",
       " (4.7, -76.591, -5.23, 29.3),\n",
       " (4.7, -72.187, -35.196, 38.3),\n",
       " (5.1, -72.178, -33.844, 8.3),\n",
       " (4.4, -72.141, -35.253, 40.7),\n",
       " (4.8, -71.445, -29.076, 34.1),\n",
       " (4.9, -71.106, -31.903, 72.6),\n",
       " (4.9, -69.133, -23.127, 87.4),\n",
       " (5.2, -69.093, -19.638, 117.0),\n",
       " (3.3, -69.01, 19.095, 105.0),\n",
       " (3.1, -68.278, 18.079, 79.9),\n",
       " (2.9, -67.877, 18.339, 109.0),\n",
       " (3.1, -67.767, 19.058, 87.9),\n",
       " (3.0, -67.743, 19.073, 30.4),\n",
       " (2.6, -67.367, 18.176, 15.0),\n",
       " (2.7, -67.263, 18.83, 11.6),\n",
       " (3.1, -67.2, 19.535, 33.6),\n",
       " (2.7, -66.899, 18.032, 7.0),\n",
       " (4.6, -66.781, -23.222, 200.1),\n",
       " (2.7, -66.647, 17.858, 5.7),\n",
       " (4.4, -66.528, -22.715, 220.8),\n",
       " (2.6, -66.15, 19.161, 8.0),\n",
       " (2.8, -66.011, 19.376, 58.2),\n",
       " (2.5, -65.959, 17.636, 23.1),\n",
       " (3.2, -65.213, 19.7, 64.5),\n",
       " (3.2, -65.071, 19.142, 90.0),\n",
       " (3.7, -64.914, 17.942, 8.0),\n",
       " (3.4, -64.486, 19.695, 75.0),\n",
       " (2.5, -64.395, 18.892, 34.8),\n",
       " (2.9, -64.325, 18.812, 42.7),\n",
       " (2.9, -64.151, 19.047, 53.2),\n",
       " (3.4, -63.764, 18.103, 78.7),\n",
       " (4.9, -63.168, 10.438, 9.8),\n",
       " (4.9, -34.59, 7.4, 10.2),\n",
       " (5.4, -14.898, -35.158, 6.8),\n",
       " (4.9, 0.001, 79.942, 9.9),\n",
       " (4.6, 4.564, 36.189, 10.1),\n",
       " (4.5, 15.786, 39.756, 274.8),\n",
       " (3.3, 23.74, 38.13, 5.0),\n",
       " (4.1, 29.431, 37.9, 8.8),\n",
       " (4.2, 36.97, 36.963, 9.9),\n",
       " (4.3, 41.072, 39.234, 35.0),\n",
       " (4.5, 43.569, 38.884, 2.6),\n",
       " (4.1, 43.776, 39.078, 5.0),\n",
       " (4.9, 71.251, 36.505, 221.2),\n",
       " (4.3, 71.402, 36.647, 150.1),\n",
       " (4.6, 71.936, 37.562, 109.9),\n",
       " (4.2, 73.523, 34.448, 38.2),\n",
       " (4.9, 94.63, 5.337, 35.2),\n",
       " (5.1, 95.071, 4.592, 43.7),\n",
       " (4.5, 96.118, 4.877, 14.3),\n",
       " (4.6, 101.437, 0.001, 35.0),\n",
       " (4.8, 122.477, 20.328, 22.1),\n",
       " (4.7, 123.768, -10.323, 15.7),\n",
       " (4.6, 125.132, -7.072, 519.4),\n",
       " (5.0, 125.39, -7.065, 477.4),\n",
       " (4.8, 126.449, 24.471, 31.6),\n",
       " (4.5, 126.578, 25.622, 42.5),\n",
       " (5.0, 126.59, 8.3, 79.2),\n",
       " (4.7, 127.248, 5.145, 109.3),\n",
       " (4.5, 127.442, -2.809, 49.9),\n",
       " (4.6, 127.53, 2.725, 72.7),\n",
       " (5.7, 133.894, -5.63, 10.1),\n",
       " (4.1, 134.195, 37.774, 393.4),\n",
       " (4.0, 136.951, 33.733, 358.9),\n",
       " (4.3, 138.755, 29.875, 412.6),\n",
       " (4.9, 139.775, 35.91, 88.9),\n",
       " (4.8, 139.778, -3.131, 124.8),\n",
       " (5.8, 140.943, 37.117, 57.1),\n",
       " (4.1, 141.988, 45.629, 301.4),\n",
       " (4.7, 142.125, 36.817, 38.9),\n",
       " (4.6, 142.363, 39.76, 35.3),\n",
       " (5.0, 142.456, 40.36, 28.1),\n",
       " (4.5, 142.515, 37.901, 34.3),\n",
       " (4.7, 142.57, 38.697, 23.1),\n",
       " (4.9, 144.082, 12.132, 8.8),\n",
       " (4.9, 144.126, 12.302, 51.9),\n",
       " (4.8, 144.73, 39.05, 35.3),\n",
       " (5.1, 144.777, 40.843, 9.9),\n",
       " (4.5, 144.795, 40.859, 10.3),\n",
       " (4.8, 145.71, 17.642, 175.1),\n",
       " (4.8, 147.739, -5.837, 12.5),\n",
       " (5.5, 152.091, -4.03, 16.7),\n",
       " (5.1, 153.454, -4.351, 109.5),\n",
       " (5.7, 153.47, -4.498, 97.5),\n",
       " (4.8, 153.526, -4.425, 112.9),\n",
       " (5.2, 154.582, -6.608, 45.7),\n",
       " (4.4, 160.28, 53.132, 62.3),\n",
       " (4.6, 162.47, 55.824, 39.1),\n",
       " (4.9, 167.497, -14.748, 125.8),\n",
       " (4.8, 168.071, -18.39, 71.8)]"
      ]
     },
     "execution_count": 6,
     "metadata": {},
     "output_type": "execute_result"
    }
   ],
   "source": [
    "import csv\n",
    "datos = None # se declara una variable a None para tener referencia a ella posteriormente\n",
    "with open('practica_sesion10.csv', newline='') as archivo:\n",
    "    lector = csv.DictReader(archivo)\n",
    "    datos = [tuple(map(float,fila.values())) for fila in lector]\n",
    "    \n",
    "datos"
   ]
  },
  {
   "cell_type": "code",
   "execution_count": 7,
   "metadata": {
    "slideshow": {
     "slide_type": "subslide"
    }
   },
   "outputs": [
    {
     "name": "stdout",
     "output_type": "stream",
     "text": [
      "[(2.5, -173.941, 51.432, 41.3), (2.5, -169.73, 52.874, 7.9), (2.5, -164.666, 54.302, 84.9), (2.5, -162.903, 53.595, 38.6), (2.5, -162.852, 53.607, 37.5), (2.5, -162.796, 53.531, 34.5), (2.5, -153.49, 59.767, 125.8), (2.5, -152.107, 59.841, 79.6), (2.5, -151.822, 59.898, 59.4), (2.5, -121.12, 36.536, 3.6)]\n"
     ]
    }
   ],
   "source": [
    "datos.sort()\n",
    "print(datos[:10])"
   ]
  },
  {
   "cell_type": "code",
   "execution_count": 8,
   "metadata": {
    "slideshow": {
     "slide_type": "subslide"
    }
   },
   "outputs": [
    {
     "name": "stdout",
     "output_type": "stream",
     "text": [
      "datos: [(5.4, -174.774, -20.155, 122.8), (5.0, -174.593, -21.141, 11.2), (4.8, -174.54, -20.615, 10.0), (4.6, -174.19, 51.547, 35.0), (3.9, -174.107, 51.476, 40.4), (4.9, -174.089, -19.946, 35.0), (3.2, -173.957, 51.361, 17.3), (2.6, -173.946, 51.341, 20.0), (2.5, -173.941, 51.432, 41.3), (5.3, -173.446, -16.904, 39.9)]\n",
      "datos: [(4.8, 168.071, -18.39, 71.8), (4.9, 167.497, -14.748, 125.8), (4.6, 162.47, 55.824, 39.1), (4.4, 160.28, 53.132, 62.3), (5.2, 154.582, -6.608, 45.7), (4.8, 153.526, -4.425, 112.9), (5.7, 153.47, -4.498, 97.5), (5.1, 153.454, -4.351, 109.5), (5.5, 152.091, -4.03, 16.7), (4.8, 147.739, -5.837, 12.5)]\n"
     ]
    }
   ],
   "source": [
    "from operator import itemgetter\n",
    "datos.sort(key = itemgetter(1))\n",
    "print(f'datos: {datos[:10]}')\n",
    "datos.sort(key = itemgetter(1), reverse=True)\n",
    "print(f'datos: {datos[:10]}')"
   ]
  },
  {
   "cell_type": "markdown",
   "metadata": {
    "slideshow": {
     "slide_type": "slide"
    }
   },
   "source": [
    "## modulo `bisect`"
   ]
  },
  {
   "cell_type": "code",
   "execution_count": 19,
   "metadata": {
    "slideshow": {
     "slide_type": "subslide"
    }
   },
   "outputs": [
    {
     "name": "stdout",
     "output_type": "stream",
     "text": [
      "[3]\n",
      "[3, 3]\n",
      "[3, 3, 62]\n",
      "[3, 3, 62, 64]\n",
      "[3, 3, 45, 62, 64]\n",
      "[3, 3, 45, 58, 62, 64]\n",
      "[3, 3, 21, 45, 58, 62, 64]\n",
      "[3, 3, 6, 21, 45, 58, 62, 64]\n",
      "[2, 3, 3, 6, 21, 45, 58, 62, 64]\n",
      "[2, 3, 3, 6, 20, 21, 45, 58, 62, 64]\n",
      "[2, 3, 3, 6, 9, 20, 21, 45, 58, 62, 64]\n",
      "[2, 3, 3, 6, 9, 20, 21, 32, 45, 58, 62, 64]\n",
      "[2, 3, 3, 6, 9, 20, 21, 32, 45, 58, 62, 64, 64]\n",
      "[2, 3, 3, 6, 9, 20, 21, 32, 43, 45, 58, 62, 64, 64]\n",
      "[2, 3, 3, 6, 9, 20, 21, 32, 40, 43, 45, 58, 62, 64, 64]\n"
     ]
    }
   ],
   "source": [
    "from random import randint\n",
    "numeros_random = [randint(1, 70) for _ in range(15)]\n",
    "numeros_ordenados = []\n",
    "for numero in numeros_random:\n",
    "    bisect.insort_left(numeros_ordenados, numero)\n",
    "    print(numeros_ordenados)"
   ]
  },
  {
   "cell_type": "code",
   "execution_count": 20,
   "metadata": {
    "slideshow": {
     "slide_type": "subslide"
    }
   },
   "outputs": [
    {
     "name": "stdout",
     "output_type": "stream",
     "text": [
      "[40]\n",
      "[29, 40]\n",
      "[25, 29, 40]\n",
      "[12, 25, 29, 40]\n",
      "[12, 12, 25, 29, 40]\n",
      "[12, 12, 25, 29, 40, 64]\n",
      "[12, 12, 18, 25, 29, 40, 64]\n",
      "[12, 12, 18, 25, 29, 40, 59, 64]\n",
      "[12, 12, 18, 25, 29, 40, 59, 64, 65]\n",
      "[12, 12, 18, 25, 29, 35, 40, 59, 64, 65]\n",
      "[3, 12, 12, 18, 25, 29, 35, 40, 59, 64, 65]\n",
      "[3, 12, 12, 18, 20, 25, 29, 35, 40, 59, 64, 65]\n",
      "[1, 3, 12, 12, 18, 20, 25, 29, 35, 40, 59, 64, 65]\n",
      "[1, 3, 12, 12, 18, 20, 25, 29, 35, 40, 51, 59, 64, 65]\n",
      "[1, 3, 12, 12, 18, 20, 25, 29, 35, 40, 51, 59, 60, 64, 65]\n"
     ]
    }
   ],
   "source": [
    "numeros_random = [randint(1, 70) for _ in range(15)]\n",
    "numeros_ordenados = []\n",
    "for numero in numeros_random:\n",
    "    bisect.insort(numeros_ordenados, numero) # insort_rigth()\n",
    "    print(numeros_ordenados)"
   ]
  },
  {
   "cell_type": "markdown",
   "metadata": {
    "slideshow": {
     "slide_type": "slide"
    }
   },
   "source": [
    "## Modulo `heapq`"
   ]
  },
  {
   "cell_type": "code",
   "execution_count": 22,
   "metadata": {
    "slideshow": {
     "slide_type": "subslide"
    }
   },
   "outputs": [
    {
     "name": "stdout",
     "output_type": "stream",
     "text": [
      "[4, 15, 17, 17, 37, 39, 43, 55, 55, 55, 56, 58, 61, 61, 70]\n"
     ]
    }
   ],
   "source": [
    "def heapsort(iterable):\n",
    "    \"\"\"Ordenamiento mediente heap sort\"\"\"\n",
    "    h = []\n",
    "    for value in iterable:\n",
    "        heapq.heappush(h, value) # inserta un valor en el heap\n",
    "    return [heapq.heappop(h) for i in range(len(h))]\n",
    "\n",
    "numeros_random = [randint(1, 70) for _ in range(15)]\n",
    "print(heapsort(numeros_random))"
   ]
  }
 ],
 "metadata": {
  "celltoolbar": "Slideshow",
  "kernelspec": {
   "display_name": "Python 3",
   "language": "python",
   "name": "python3"
  },
  "language_info": {
   "codemirror_mode": {
    "name": "ipython",
    "version": 3
   },
   "file_extension": ".py",
   "mimetype": "text/x-python",
   "name": "python",
   "nbconvert_exporter": "python",
   "pygments_lexer": "ipython3",
   "version": "3.7.4"
  }
 },
 "nbformat": 4,
 "nbformat_minor": 2
}
