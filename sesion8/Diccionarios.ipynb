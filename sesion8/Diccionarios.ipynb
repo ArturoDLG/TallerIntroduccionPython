{
 "cells": [
  {
   "cell_type": "code",
   "execution_count": 1,
   "metadata": {
    "slideshow": {
     "slide_type": "-"
    }
   },
   "outputs": [],
   "source": [
    "#  Esta celda es exclusivo para cuestiones de impresion dentro del notebook\n",
    "from IPython.core.interactiveshell import InteractiveShell\n",
    "InteractiveShell.ast_node_interactivity = 'all'"
   ]
  },
  {
   "cell_type": "markdown",
   "metadata": {
    "slideshow": {
     "slide_type": "slide"
    }
   },
   "source": [
    "# Diccionarios"
   ]
  },
  {
   "cell_type": "markdown",
   "metadata": {
    "slideshow": {
     "slide_type": "slide"
    }
   },
   "source": [
    "## Que aprenderemos?\n",
    "* clase `dict`\n",
    "* metodos\n",
    "* subclases\n",
    "* usos y tips"
   ]
  },
  {
   "cell_type": "markdown",
   "metadata": {
    "slideshow": {
     "slide_type": "slide"
    }
   },
   "source": [
    "## clase `dict`"
   ]
  },
  {
   "cell_type": "markdown",
   "metadata": {
    "slideshow": {
     "slide_type": "subslide"
    }
   },
   "source": [
    "### Representacion literal"
   ]
  },
  {
   "cell_type": "code",
   "execution_count": null,
   "metadata": {
    "slideshow": {
     "slide_type": "subslide"
    }
   },
   "outputs": [],
   "source": [
    "# LLave : Valor\n",
    "colores = {'Rojo':'Red', 'Azul':'Blue', 'Verde':'Green'}\n",
    "colores\n",
    "\n",
    "# usando el constructor\n",
    "colores = dict(Rojo='Red', Azul='Blue', Verde='Green')  # Con keywords\n",
    "colores = dict([('Rojo','Red'), ('Azul','Blue'), ('Verde','Green')])  # con una lista de tuplas"
   ]
  },
  {
   "cell_type": "markdown",
   "metadata": {
    "slideshow": {
     "slide_type": "subslide"
    }
   },
   "source": [
    "### Operadores y metodos"
   ]
  },
  {
   "cell_type": "code",
   "execution_count": 4,
   "metadata": {
    "slideshow": {
     "slide_type": "fragment"
    }
   },
   "outputs": [
    {
     "data": {
      "text/plain": [
       "False"
      ]
     },
     "execution_count": 4,
     "metadata": {},
     "output_type": "execute_result"
    },
    {
     "data": {
      "text/plain": [
       "True"
      ]
     },
     "execution_count": 4,
     "metadata": {},
     "output_type": "execute_result"
    },
    {
     "data": {
      "text/plain": [
       "3"
      ]
     },
     "execution_count": 4,
     "metadata": {},
     "output_type": "execute_result"
    }
   ],
   "source": [
    "# comparadores\n",
    "a = {'uno':1, 'dos':2, 'tres':3}\n",
    "b = {'dos':1, 'cuatro':4, 'seis':6}\n",
    "\n",
    "a == b  # igual que \n",
    "a != b  # diferente que\n",
    "\n",
    "len(a) # longitud de un dict"
   ]
  },
  {
   "cell_type": "code",
   "execution_count": 5,
   "metadata": {
    "slideshow": {
     "slide_type": "subslide"
    }
   },
   "outputs": [
    {
     "data": {
      "text/plain": [
       "{'Mexico': 'Ciudad de Mexico',\n",
       " 'Brasil': 'Brasilia',\n",
       " 'Chile': 'Santiago de Chile',\n",
       " 'Ecuador': 'Quito'}"
      ]
     },
     "execution_count": 5,
     "metadata": {},
     "output_type": "execute_result"
    },
    {
     "data": {
      "text/plain": [
       "'Ciudad de Mexico'"
      ]
     },
     "execution_count": 5,
     "metadata": {},
     "output_type": "execute_result"
    },
    {
     "data": {
      "text/plain": [
       "'Santiago de Chile'"
      ]
     },
     "execution_count": 5,
     "metadata": {},
     "output_type": "execute_result"
    }
   ],
   "source": [
    "# llaves\n",
    "capitales = {'Mexico':'Ciudad de Mexico', 'Brasil':'Brasilia'}\n",
    "# Agregar un nuevo elemento\n",
    "capitales['Chile'] = 'Santiago de Chile' \n",
    "capitales.update(Ecuador='Quito')\n",
    "capitales\n",
    "# Obtener el valor de una llave \n",
    "capitales['Mexico']  \n",
    "capitales.get('Chile')"
   ]
  },
  {
   "cell_type": "code",
   "execution_count": 6,
   "metadata": {
    "slideshow": {
     "slide_type": "subslide"
    }
   },
   "outputs": [
    {
     "data": {
      "text/plain": [
       "'Capital no disponible'"
      ]
     },
     "execution_count": 6,
     "metadata": {},
     "output_type": "execute_result"
    },
    {
     "data": {
      "text/plain": [
       "'Montevideo'"
      ]
     },
     "execution_count": 6,
     "metadata": {},
     "output_type": "execute_result"
    },
    {
     "data": {
      "text/plain": [
       "{'Mexico': 'Ciudad de Mexico',\n",
       " 'Brasil': 'Brasilia',\n",
       " 'Chile': 'Santiago de Chile',\n",
       " 'Ecuador': 'Quito',\n",
       " 'Uruguay': 'Montevideo'}"
      ]
     },
     "execution_count": 6,
     "metadata": {},
     "output_type": "execute_result"
    },
    {
     "ename": "KeyError",
     "evalue": "'Canada'",
     "output_type": "error",
     "traceback": [
      "\u001b[0;31m---------------------------------------------------------------------------\u001b[0m",
      "\u001b[0;31mKeyError\u001b[0m                                  Traceback (most recent call last)",
      "\u001b[0;32m<ipython-input-6-4c796d22eeb0>\u001b[0m in \u001b[0;36m<module>\u001b[0;34m\u001b[0m\n\u001b[1;32m      5\u001b[0m \u001b[0mcapitales\u001b[0m\u001b[0;34m\u001b[0m\u001b[0;34m\u001b[0m\u001b[0m\n\u001b[1;32m      6\u001b[0m \u001b[0;31m# La diferencia con la notacion [], es que esta devuelve un KeyError\u001b[0m\u001b[0;34m\u001b[0m\u001b[0;34m\u001b[0m\u001b[0;34m\u001b[0m\u001b[0m\n\u001b[0;32m----> 7\u001b[0;31m \u001b[0mcapitales\u001b[0m\u001b[0;34m[\u001b[0m\u001b[0;34m'Canada'\u001b[0m\u001b[0;34m]\u001b[0m\u001b[0;34m\u001b[0m\u001b[0;34m\u001b[0m\u001b[0m\n\u001b[0m",
      "\u001b[0;31mKeyError\u001b[0m: 'Canada'"
     ]
    }
   ],
   "source": [
    "# podemos devolver un valor para una llave no existente\n",
    "capitales.get('Argentina', 'Capital no disponible') \n",
    "# O insertar el valor a la llave inexistente\n",
    "capitales.setdefault('Uruguay','Montevideo')\n",
    "capitales\n",
    "# La diferencia con la notacion [], es que esta devuelve un KeyError\n",
    "capitales['Canada']"
   ]
  },
  {
   "cell_type": "code",
   "execution_count": 7,
   "metadata": {
    "slideshow": {
     "slide_type": "subslide"
    }
   },
   "outputs": [
    {
     "data": {
      "text/plain": [
       "'Brasilia'"
      ]
     },
     "execution_count": 7,
     "metadata": {},
     "output_type": "execute_result"
    },
    {
     "data": {
      "text/plain": [
       "{'Mexico': 'Ciudad de Mexico',\n",
       " 'Chile': 'Santiago de Chile',\n",
       " 'Ecuador': 'Quito',\n",
       " 'Uruguay': 'Montevideo'}"
      ]
     },
     "execution_count": 7,
     "metadata": {},
     "output_type": "execute_result"
    },
    {
     "data": {
      "text/plain": [
       "'Pais no encontrado'"
      ]
     },
     "execution_count": 7,
     "metadata": {},
     "output_type": "execute_result"
    },
    {
     "data": {
      "text/plain": [
       "('Uruguay', 'Montevideo')"
      ]
     },
     "execution_count": 7,
     "metadata": {},
     "output_type": "execute_result"
    }
   ],
   "source": [
    "# Eliminar elementos\n",
    "capitales.pop('Brasil')  # Eliminar por llave\n",
    "capitales\n",
    "capitales.pop('Italia','Pais no encontrado')\n",
    "capitales.popitem()  # Elimina el ultimo item del dict\n",
    "capitales.clear() # limpia todo el diccionario"
   ]
  },
  {
   "cell_type": "code",
   "execution_count": 8,
   "metadata": {
    "slideshow": {
     "slide_type": "subslide"
    }
   },
   "outputs": [
    {
     "name": "stdout",
     "output_type": "stream",
     "text": [
      "Quito es la capital de Ecuador\n",
      "La capital de Marruecos no se encuentra disponible\n"
     ]
    }
   ],
   "source": [
    "# Busquedas\n",
    "capitales = {'Mexico': 'Ciudad de Mexico',\n",
    "             'Brasil': 'Brasilia',\n",
    "             'Chile': 'Santiago de Chile',\n",
    "             'Ecuador': 'Quito',\n",
    "             'Uruguay': 'Montevideo'}\n",
    "\n",
    "if 'Ecuador' in capitales:\n",
    "    print(f\"{capitales['Ecuador']} es la capital de Ecuador\")\n",
    "\n",
    "if 'Marruecos' in capitales:\n",
    "    print(f\"{capitales['Marruecos']} es la capital de Marruecos\")\n",
    "else:\n",
    "    print('La capital de Marruecos no se encuentra disponible')"
   ]
  },
  {
   "cell_type": "code",
   "execution_count": 9,
   "metadata": {
    "slideshow": {
     "slide_type": "subslide"
    }
   },
   "outputs": [
    {
     "name": "stdout",
     "output_type": "stream",
     "text": [
      "Mexico\n",
      "Brasil\n",
      "Chile\n",
      "Ecuador\n",
      "Uruguay\n"
     ]
    }
   ],
   "source": [
    "# iteraciones\n",
    "# Iterar por llaves, es equivalante a capitales.keys()\n",
    "for pais in capitales:\n",
    "    print(pais)"
   ]
  },
  {
   "cell_type": "code",
   "execution_count": 10,
   "metadata": {
    "slideshow": {
     "slide_type": "subslide"
    }
   },
   "outputs": [
    {
     "name": "stdout",
     "output_type": "stream",
     "text": [
      "Ciudad de Mexico\n",
      "Brasilia\n",
      "Santiago de Chile\n",
      "Quito\n",
      "Montevideo\n"
     ]
    }
   ],
   "source": [
    "# Iterar por valores\n",
    "for capital in capitales.values():\n",
    "    print(capital)"
   ]
  },
  {
   "cell_type": "code",
   "execution_count": 11,
   "metadata": {
    "slideshow": {
     "slide_type": "subslide"
    }
   },
   "outputs": [
    {
     "name": "stdout",
     "output_type": "stream",
     "text": [
      "Mexico : Ciudad de Mexico\n",
      "Brasil : Brasilia\n",
      "Chile : Santiago de Chile\n",
      "Ecuador : Quito\n",
      "Uruguay : Montevideo\n"
     ]
    }
   ],
   "source": [
    "for pais, capital in capitales.items():\n",
    "    print(f'{pais} : {capital}')"
   ]
  },
  {
   "cell_type": "markdown",
   "metadata": {
    "slideshow": {
     "slide_type": "slide"
    }
   },
   "source": [
    "## Usos \n",
    "* Base de datos\n",
    "* Estructura"
   ]
  },
  {
   "cell_type": "code",
   "execution_count": 12,
   "metadata": {
    "slideshow": {
     "slide_type": "subslide"
    }
   },
   "outputs": [],
   "source": [
    "def auto(marca, modelo, color):\n",
    "    \"\"\"Funcion para retornar una estructura de tipo Auto\"\"\"\n",
    "    \n",
    "    def claxon():\n",
    "        \"\"\"Funcion para hacer sonar el claxon del auto\"\"\"\n",
    "        return f'pit pit!!'\n",
    "    \n",
    "    return {'marca':marca, 'modelo':modelo, 'color':color, 'claxon':claxon}"
   ]
  },
  {
   "cell_type": "code",
   "execution_count": 3,
   "metadata": {
    "slideshow": {
     "slide_type": "subslide"
    }
   },
   "outputs": [
    {
     "data": {
      "text/plain": [
       "'Ford'"
      ]
     },
     "execution_count": 3,
     "metadata": {},
     "output_type": "execute_result"
    },
    {
     "data": {
      "text/plain": [
       "'Fiesta'"
      ]
     },
     "execution_count": 3,
     "metadata": {},
     "output_type": "execute_result"
    },
    {
     "data": {
      "text/plain": [
       "'Verde'"
      ]
     },
     "execution_count": 3,
     "metadata": {},
     "output_type": "execute_result"
    },
    {
     "data": {
      "text/plain": [
       "'pit pit!!'"
      ]
     },
     "execution_count": 3,
     "metadata": {},
     "output_type": "execute_result"
    },
    {
     "data": {
      "text/plain": [
       "{'marca': 'Ford',\n",
       " 'modelo': 'Fiesta',\n",
       " 'color': 'Amarillo',\n",
       " 'claxon': <function __main__.auto.<locals>.claxon()>}"
      ]
     },
     "execution_count": 3,
     "metadata": {},
     "output_type": "execute_result"
    }
   ],
   "source": [
    "auto_1 = auto('Ford', 'Fiesta', 'Verde')\n",
    "auto_1['marca']\n",
    "auto_1['modelo']\n",
    "auto_1['color']\n",
    "auto_1['claxon']()\n",
    "\n",
    "auto_1['color'] = 'Amarillo'\n",
    "auto_1"
   ]
  },
  {
   "cell_type": "markdown",
   "metadata": {
    "slideshow": {
     "slide_type": "slide"
    }
   },
   "source": [
    "## Subclases"
   ]
  },
  {
   "cell_type": "markdown",
   "metadata": {
    "slideshow": {
     "slide_type": "subslide"
    }
   },
   "source": [
    "### collections.defaultdict"
   ]
  },
  {
   "cell_type": "code",
   "execution_count": 13,
   "metadata": {
    "slideshow": {
     "slide_type": "subslide"
    }
   },
   "outputs": [
    {
     "name": "stdout",
     "output_type": "stream",
     "text": [
      "cita crece\n",
      "cita velarias\n",
      "cita edificio_academico\n",
      "cita canchas\n",
      "crece gimnasio\n",
      "crece rectoria\n",
      "edificio_academico B\n",
      "edificio_academico A\n",
      "- -\n"
     ]
    }
   ],
   "source": [
    "Grafo = {}\n",
    "\n",
    "while True:  # agregar un numero cualquiera de ciudades\n",
    "    origen, destino = input().split()\n",
    "    if origen == '-':  # si tenemos un guion, terminamos la iteracion\n",
    "        break\n",
    "    if origen in Grafo:  # verificamos si la llave existe\n",
    "        Grafo[origen].append(destino)  # agregamos a la lista de vecinos\n",
    "    else:  # si no existe la llave, agregamos la lista con el nodo vecino\n",
    "        Grafo[origen] = [destino]\n",
    "    if destino in Grafo:\n",
    "        Grafo[destino].append(origen)\n",
    "    else:\n",
    "        Grafo[destino] = [origen]"
   ]
  },
  {
   "cell_type": "code",
   "execution_count": 14,
   "metadata": {
    "slideshow": {
     "slide_type": "subslide"
    }
   },
   "outputs": [
    {
     "data": {
      "text/plain": [
       "{'cita': ['crece', 'velarias', 'edificio_academico', 'canchas'],\n",
       " 'crece': ['cita', 'gimnasio', 'rectoria'],\n",
       " 'velarias': ['cita'],\n",
       " 'edificio_academico': ['cita', 'B', 'A'],\n",
       " 'canchas': ['cita'],\n",
       " 'gimnasio': ['crece'],\n",
       " 'rectoria': ['crece'],\n",
       " 'B': ['edificio_academico'],\n",
       " 'A': ['edificio_academico']}"
      ]
     },
     "execution_count": 14,
     "metadata": {},
     "output_type": "execute_result"
    }
   ],
   "source": [
    "Grafo"
   ]
  },
  {
   "cell_type": "code",
   "execution_count": 15,
   "metadata": {
    "slideshow": {
     "slide_type": "subslide"
    }
   },
   "outputs": [
    {
     "name": "stdout",
     "output_type": "stream",
     "text": [
      "Ameca San_Martin\n",
      "Ameca Guachinango\n",
      "Ameca Ahualulco\n",
      "Ameca Tala\n",
      "San_Martin Cocula\n",
      "Cocula Tecolotlan\n",
      "- -\n"
     ]
    },
    {
     "data": {
      "text/plain": [
       "defaultdict(list,\n",
       "            {'Ameca': ['San_Martin', 'Guachinango', 'Ahualulco', 'Tala'],\n",
       "             'San_Martin': ['Ameca', 'Cocula'],\n",
       "             'Guachinango': ['Ameca'],\n",
       "             'Ahualulco': ['Ameca'],\n",
       "             'Tala': ['Ameca'],\n",
       "             'Cocula': ['San_Martin', 'Tecolotlan'],\n",
       "             'Tecolotlan': ['Cocula']})"
      ]
     },
     "execution_count": 15,
     "metadata": {},
     "output_type": "execute_result"
    }
   ],
   "source": [
    "from collections import defaultdict\n",
    "Grafo_2 = defaultdict(list)\n",
    "\n",
    "while True:  # agregar un numero cualquiera de ciudades\n",
    "    origen, destino = input().split()\n",
    "    if origen == '-':  # si tenemos un guion, terminamos la iteracion\n",
    "        break\n",
    "    Grafo_2[origen].append(destino)\n",
    "    Grafo_2[destino].append(origen)\n",
    "    \n",
    "Grafo_2    "
   ]
  },
  {
   "cell_type": "code",
   "execution_count": 16,
   "metadata": {
    "slideshow": {
     "slide_type": "subslide"
    }
   },
   "outputs": [
    {
     "data": {
      "text/plain": [
       "defaultdict(list,\n",
       "            {'Ameca': ['San_Martin', 'Guachinango', 'Ahualulco', 'Tala'],\n",
       "             'San_Martin': ['Ameca', 'Cocula'],\n",
       "             'Guachinango': ['Ameca'],\n",
       "             'Ahualulco': ['Ameca'],\n",
       "             'Tala': ['Ameca'],\n",
       "             'Cocula': ['San_Martin', 'Tecolotlan'],\n",
       "             'Tecolotlan': ['Cocula']})"
      ]
     },
     "execution_count": 16,
     "metadata": {},
     "output_type": "execute_result"
    }
   ],
   "source": [
    "Grafo_2"
   ]
  },
  {
   "cell_type": "markdown",
   "metadata": {
    "slideshow": {
     "slide_type": "subslide"
    }
   },
   "source": [
    "### collections.Counter"
   ]
  },
  {
   "cell_type": "code",
   "execution_count": 17,
   "metadata": {
    "slideshow": {
     "slide_type": "subslide"
    }
   },
   "outputs": [
    {
     "data": {
      "text/plain": [
       "defaultdict(int, {1: 2, 2: 2, 3: 3, 9: 2, 8: 2, 7: 2, 0: 2, 5: 2})"
      ]
     },
     "execution_count": 17,
     "metadata": {},
     "output_type": "execute_result"
    }
   ],
   "source": [
    "numeros = [1, 2, 3, 9, 8, 7, 0, 5, 3, 2, 1, 5, 9, 3, 0, 7, 8]\n",
    "contador = defaultdict(int)\n",
    "for n in numeros:\n",
    "    contador[n] += 1\n",
    "contador "
   ]
  },
  {
   "cell_type": "code",
   "execution_count": 18,
   "metadata": {
    "slideshow": {
     "slide_type": "subslide"
    }
   },
   "outputs": [
    {
     "data": {
      "text/plain": [
       "Counter({1: 2, 2: 2, 3: 3, 9: 2, 8: 2, 7: 2, 0: 2, 5: 2})"
      ]
     },
     "execution_count": 18,
     "metadata": {},
     "output_type": "execute_result"
    }
   ],
   "source": [
    "from collections import Counter\n",
    "contador_2 = Counter(numeros)\n",
    "contador_2"
   ]
  },
  {
   "cell_type": "code",
   "execution_count": 19,
   "metadata": {
    "slideshow": {
     "slide_type": "subslide"
    }
   },
   "outputs": [
    {
     "data": {
      "text/plain": [
       "[1, 1, 2, 2, 3, 3, 3, 9, 9, 8, 8, 7, 7, 0, 0, 5, 5]"
      ]
     },
     "execution_count": 19,
     "metadata": {},
     "output_type": "execute_result"
    },
    {
     "data": {
      "text/plain": [
       "[(3, 3), (1, 2)]"
      ]
     },
     "execution_count": 19,
     "metadata": {},
     "output_type": "execute_result"
    },
    {
     "data": {
      "text/plain": [
       "Counter({1: 0, 2: 0, 3: 2, 9: 2, 8: 2, 7: 2, 0: 2, 5: 1})"
      ]
     },
     "execution_count": 19,
     "metadata": {},
     "output_type": "execute_result"
    }
   ],
   "source": [
    "list(contador_2.elements())  # Mirar los elementos que forman a Counter\n",
    "contador_2.most_common(2)  # Obtener una lista con los n con mas elementos\n",
    "contador_2.subtract(Counter([1,2,3,5,1,2])) # resta los elementos de otros items\n",
    "contador_2"
   ]
  },
  {
   "cell_type": "markdown",
   "metadata": {
    "slideshow": {
     "slide_type": "subslide"
    }
   },
   "source": [
    "### collections.OrderedDict"
   ]
  },
  {
   "cell_type": "code",
   "execution_count": 20,
   "metadata": {
    "slideshow": {
     "slide_type": "subslide"
    }
   },
   "outputs": [
    {
     "data": {
      "text/plain": [
       "OrderedDict([(1, 'A'),\n",
       "             (2, 'B'),\n",
       "             (3, 'C'),\n",
       "             (4, 'D'),\n",
       "             (5, 'E'),\n",
       "             (6, 'F'),\n",
       "             (7, 'G')])"
      ]
     },
     "execution_count": 20,
     "metadata": {},
     "output_type": "execute_result"
    }
   ],
   "source": [
    "from collections import OrderedDict\n",
    "abcedario = OrderedDict(enumerate('ABCDEFG', 1))\n",
    "abcedario"
   ]
  },
  {
   "cell_type": "code",
   "execution_count": 21,
   "metadata": {
    "slideshow": {
     "slide_type": "subslide"
    }
   },
   "outputs": [
    {
     "data": {
      "text/plain": [
       "OrderedDict([(1, 'A'),\n",
       "             (3, 'C'),\n",
       "             (4, 'D'),\n",
       "             (5, 'E'),\n",
       "             (6, 'F'),\n",
       "             (7, 'G'),\n",
       "             (2, 'B')])"
      ]
     },
     "execution_count": 21,
     "metadata": {},
     "output_type": "execute_result"
    },
    {
     "data": {
      "text/plain": [
       "OrderedDict([(6, 'F'),\n",
       "             (1, 'A'),\n",
       "             (3, 'C'),\n",
       "             (4, 'D'),\n",
       "             (5, 'E'),\n",
       "             (7, 'G'),\n",
       "             (2, 'B')])"
      ]
     },
     "execution_count": 21,
     "metadata": {},
     "output_type": "execute_result"
    }
   ],
   "source": [
    "# Mover un elemento al final\n",
    "abcedario.move_to_end(2)\n",
    "abcedario\n",
    "# Si last es False, entonces el elemento sera enviado al principio\n",
    "abcedario.move_to_end(6, last=False)\n",
    "abcedario"
   ]
  },
  {
   "cell_type": "code",
   "execution_count": 22,
   "metadata": {
    "slideshow": {
     "slide_type": "subslide"
    }
   },
   "outputs": [
    {
     "data": {
      "text/plain": [
       "(2, 'B')"
      ]
     },
     "execution_count": 22,
     "metadata": {},
     "output_type": "execute_result"
    },
    {
     "data": {
      "text/plain": [
       "OrderedDict([(6, 'F'), (1, 'A'), (3, 'C'), (4, 'D'), (5, 'E'), (7, 'G')])"
      ]
     },
     "execution_count": 22,
     "metadata": {},
     "output_type": "execute_result"
    },
    {
     "data": {
      "text/plain": [
       "(6, 'F')"
      ]
     },
     "execution_count": 22,
     "metadata": {},
     "output_type": "execute_result"
    },
    {
     "data": {
      "text/plain": [
       "OrderedDict([(1, 'A'), (3, 'C'), (4, 'D'), (5, 'E'), (7, 'G')])"
      ]
     },
     "execution_count": 22,
     "metadata": {},
     "output_type": "execute_result"
    }
   ],
   "source": [
    "# Elimina al ultimo elemento del dict\n",
    "abcedario.popitem()\n",
    "abcedario\n",
    "# Si last es False, entonces eliminara al primero\n",
    "abcedario.popitem(last=False)\n",
    "abcedario"
   ]
  },
  {
   "cell_type": "markdown",
   "metadata": {
    "slideshow": {
     "slide_type": "slide"
    }
   },
   "source": [
    "## Menciones\n",
    "* collections.ChainMap"
   ]
  }
 ],
 "metadata": {
  "celltoolbar": "Slideshow",
  "kernelspec": {
   "display_name": "Python 3",
   "language": "python",
   "name": "python3"
  },
  "language_info": {
   "codemirror_mode": {
    "name": "ipython",
    "version": 3
   },
   "file_extension": ".py",
   "mimetype": "text/x-python",
   "name": "python",
   "nbconvert_exporter": "python",
   "pygments_lexer": "ipython3",
   "version": "3.7.3"
  }
 },
 "nbformat": 4,
 "nbformat_minor": 2
}
