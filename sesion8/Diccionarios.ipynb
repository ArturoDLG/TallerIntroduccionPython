{
 "cells": [
  {
   "cell_type": "code",
   "execution_count": null,
   "metadata": {
    "slideshow": {
     "slide_type": "-"
    }
   },
   "outputs": [],
   "source": [
    "#  Esta celda es exclusivo para cuestiones de impresion dentro del notebook\n",
    "from IPython.core.interactiveshell import InteractiveShell\n",
    "InteractiveShell.ast_node_interactivity = 'all'"
   ]
  },
  {
   "cell_type": "markdown",
   "metadata": {
    "slideshow": {
     "slide_type": "slide"
    }
   },
   "source": [
    "# Diccionarios"
   ]
  },
  {
   "cell_type": "markdown",
   "metadata": {
    "slideshow": {
     "slide_type": "slide"
    }
   },
   "source": [
    "## Que aprenderemos?\n",
    "* clase `dict`\n",
    "* metodos\n",
    "* subclases\n",
    "* usos y tips"
   ]
  },
  {
   "cell_type": "markdown",
   "metadata": {
    "slideshow": {
     "slide_type": "slide"
    }
   },
   "source": [
    "## clase `dict`"
   ]
  },
  {
   "cell_type": "markdown",
   "metadata": {
    "slideshow": {
     "slide_type": "subslide"
    }
   },
   "source": [
    "### Representacion literal"
   ]
  },
  {
   "cell_type": "code",
   "execution_count": null,
   "metadata": {
    "slideshow": {
     "slide_type": "subslide"
    }
   },
   "outputs": [],
   "source": [
    "# LLave : Valor\n",
    "colores = {'Rojo':'Red', 'Azul':'Blue', 'Verde':'Green'}\n",
    "colores\n",
    "\n",
    "# usando el constructor\n",
    "colores = dict(Rojo='Red', Azul='Blue', Verde='Green')  # Con keywords\n",
    "colores = dict([('Rojo','Red'), ('Azul','Blue'), ('Verde','Green')])  # con una lista de tuplas"
   ]
  },
  {
   "cell_type": "markdown",
   "metadata": {
    "slideshow": {
     "slide_type": "subslide"
    }
   },
   "source": [
    "### Operadores y metodos"
   ]
  },
  {
   "cell_type": "code",
   "execution_count": null,
   "metadata": {
    "slideshow": {
     "slide_type": "fragment"
    }
   },
   "outputs": [],
   "source": [
    "# comparadores\n",
    "a = {'uno':1, 'dos':2, 'tres':3}\n",
    "b = {'dos':1, 'cuatro':4, 'seis':6}\n",
    "\n",
    "a == b  # igual que \n",
    "a != b  # diferente que\n",
    "\n",
    "len(a) # longitud de un dict"
   ]
  },
  {
   "cell_type": "code",
   "execution_count": null,
   "metadata": {
    "slideshow": {
     "slide_type": "subslide"
    }
   },
   "outputs": [],
   "source": [
    "# llaves\n",
    "capitales = {'Mexico':'Ciudad de Mexico', 'Brasil':'Brasilia'}\n",
    "# Agregar un nuevo elemento\n",
    "capitales['Chile'] = 'Santiago de Chile' \n",
    "capitales.update(Ecuador='Quito')\n",
    "capitales\n",
    "# Obtener el valor de una llave \n",
    "capitales['Mexico']  \n",
    "capitales.get('Chile')"
   ]
  },
  {
   "cell_type": "code",
   "execution_count": null,
   "metadata": {
    "slideshow": {
     "slide_type": "subslide"
    }
   },
   "outputs": [],
   "source": [
    "# podemos devolver un valor para una llave no existente\n",
    "capitales.get('Argentina', 'Capital no disponible') \n",
    "# O insertar el valor a la llave inexistente\n",
    "capitales.setdefault('Uruguay','Montevideo')\n",
    "capitales\n",
    "# La diferencia con la notacion [], es que esta devuelve un KeyError\n",
    "capitales['Canada']"
   ]
  },
  {
   "cell_type": "code",
   "execution_count": null,
   "metadata": {
    "slideshow": {
     "slide_type": "subslide"
    }
   },
   "outputs": [],
   "source": [
    "# Eliminar elementos\n",
    "capitales.pop('Brasil')  # Eliminar por llave\n",
    "capitales.pop('Italia','Pais no encontrado')\n",
    "capitales.popitem()  # Elimina el ultimo item del dict\n",
    "capitales.clear() # limpia todo el diccionario"
   ]
  },
  {
   "cell_type": "code",
   "execution_count": null,
   "metadata": {
    "slideshow": {
     "slide_type": "subslide"
    }
   },
   "outputs": [],
   "source": [
    "# Busquedas\n",
    "capitales = {'Mexico': 'Ciudad de Mexico',\n",
    "             'Brasil': 'Brasilia',\n",
    "             'Chile': 'Santiago de Chile',\n",
    "             'Ecuador': 'Quito',\n",
    "             'Uruguay': 'Montevideo'}\n",
    "\n",
    "if 'Ecuador' in capitales:\n",
    "    print(f\"{capitales['Ecuador'] es la capital de Ecuador}\")\n",
    "\n",
    "if 'Marruecos' in capitales:\n",
    "    print(f\"{capitales['Marruecos'] es la capital de Marruecos}\")\n",
    "else:\n",
    "    print('La capital de Marruecos no se encuentra disponible')"
   ]
  },
  {
   "cell_type": "code",
   "execution_count": null,
   "metadata": {
    "slideshow": {
     "slide_type": "subslide"
    }
   },
   "outputs": [],
   "source": [
    "# iteraciones\n",
    "# Iterar por llaves, es equivalante a capitales.keys()\n",
    "for pais in capitales:\n",
    "    print(pais)"
   ]
  },
  {
   "cell_type": "code",
   "execution_count": null,
   "metadata": {
    "slideshow": {
     "slide_type": "subslide"
    }
   },
   "outputs": [],
   "source": [
    "# Iterar por valores\n",
    "for capital in capitales.values():\n",
    "    print(capital)"
   ]
  },
  {
   "cell_type": "code",
   "execution_count": null,
   "metadata": {
    "slideshow": {
     "slide_type": "subslide"
    }
   },
   "outputs": [],
   "source": [
    "for pais, capital in capitales.items():\n",
    "    print(f'{pais} : {capital}')"
   ]
  },
  {
   "cell_type": "markdown",
   "metadata": {
    "slideshow": {
     "slide_type": "slide"
    }
   },
   "source": [
    "## Usos \n",
    "* Base de datos\n",
    "* Estructura"
   ]
  },
  {
   "cell_type": "code",
   "execution_count": null,
   "metadata": {
    "slideshow": {
     "slide_type": "subslide"
    }
   },
   "outputs": [],
   "source": [
    "def auto(marca, modelo, color):\n",
    "    \"\"\"Funcion para retornar una estructura de tipo Auto\"\"\"\n",
    "    \n",
    "    def claxon():\n",
    "        \"\"\"Funcion para hacer sonar el claxon del auto\"\"\"\n",
    "        return f'pit pit!!'\n",
    "    \n",
    "    return {'marca':marca, 'modelo':modelo, 'color':color, 'claxon':claxon}"
   ]
  },
  {
   "cell_type": "code",
   "execution_count": null,
   "metadata": {
    "slideshow": {
     "slide_type": "subslide"
    }
   },
   "outputs": [],
   "source": [
    "auto_1 = auto('Ford', 'Fiesta', 'Verde')\n",
    "auto_1['marca']\n",
    "auto_1['modelo']\n",
    "auto_1['color']\n",
    "auto_1['claxon']()\n",
    "\n",
    "auto_1['color'] = 'Amarillo'\n",
    "auto_1"
   ]
  },
  {
   "cell_type": "markdown",
   "metadata": {
    "slideshow": {
     "slide_type": "slide"
    }
   },
   "source": [
    "## Subclases"
   ]
  },
  {
   "cell_type": "markdown",
   "metadata": {
    "slideshow": {
     "slide_type": "subslide"
    }
   },
   "source": [
    "### collections.defaultdict"
   ]
  },
  {
   "cell_type": "code",
   "execution_count": null,
   "metadata": {
    "slideshow": {
     "slide_type": "subslide"
    }
   },
   "outputs": [],
   "source": [
    "Grafo = {}\n",
    "\n",
    "while True:  # agregar un numero cualquiera de ciudades\n",
    "    origen, destino = input().split()\n",
    "    if origen == '-':  # si tenemos un guion, terminamos la iteracion\n",
    "        break\n",
    "    if origen in Grafo:  # verificamos si la llave existe\n",
    "        Grafo[origen].append(destino)  # agregamos a la lista de vecinos\n",
    "    else:  # si no existe la llave, agregamos la lista con el nodo vecino\n",
    "        Grafo[origen] = [destino]\n",
    "    if destino in Grafo:\n",
    "        Grafo[destino].append(origen)\n",
    "    else:\n",
    "        Grafo[destino] = [origen]\n",
    "    \n",
    "Grafo"
   ]
  },
  {
   "cell_type": "code",
   "execution_count": null,
   "metadata": {
    "slideshow": {
     "slide_type": "subslide"
    }
   },
   "outputs": [],
   "source": [
    "from collections import defaultdict\n",
    "Grafo_2 = defaultdict(list)\n",
    "\n",
    "while True:  # agregar un numero cualquiera de ciudades\n",
    "    origen, destino = input().split()\n",
    "    if origen == '-':  # si tenemos un guion, terminamos la iteracion\n",
    "        break\n",
    "    Grafo_2[origen].append(destino)\n",
    "    Grafo_2[destino].append(origen)\n",
    "    \n",
    "Grafo_2    "
   ]
  },
  {
   "cell_type": "markdown",
   "metadata": {
    "slideshow": {
     "slide_type": "subslide"
    }
   },
   "source": [
    "### collections.Counter"
   ]
  },
  {
   "cell_type": "code",
   "execution_count": null,
   "metadata": {
    "slideshow": {
     "slide_type": "subslide"
    }
   },
   "outputs": [],
   "source": [
    "numeros = [1, 2, 3, 9, 8, 7, 0, 5, 3, 2, 1, 5, 9, 3, 0, 7, 8]\n",
    "contador = defaultdict(int)\n",
    "for n in numeros:\n",
    "    contador[n] += 1\n",
    "contador "
   ]
  },
  {
   "cell_type": "code",
   "execution_count": null,
   "metadata": {
    "slideshow": {
     "slide_type": "subslide"
    }
   },
   "outputs": [],
   "source": [
    "from collections import Counter\n",
    "contador_2 = Counter(numeros)\n",
    "contador_2"
   ]
  },
  {
   "cell_type": "code",
   "execution_count": null,
   "metadata": {
    "slideshow": {
     "slide_type": "subslide"
    }
   },
   "outputs": [],
   "source": [
    "list(contador.elements)  # Mirar los elementos que forman a Counter\n",
    "contador.most_common(2)  # Obtener una lista con los n con mas elementos\n",
    "contador.subtract(Counter([1,2,3,5,1,2])) # resta los elementos de otros items"
   ]
  },
  {
   "cell_type": "markdown",
   "metadata": {
    "slideshow": {
     "slide_type": "subslide"
    }
   },
   "source": [
    "### collections.OrderedDict"
   ]
  },
  {
   "cell_type": "code",
   "execution_count": null,
   "metadata": {
    "slideshow": {
     "slide_type": "subslide"
    }
   },
   "outputs": [],
   "source": [
    "from collections import OrderedDict\n",
    "abcedario = OrderedDict(enumerate('ABCDEFG', 1))\n",
    "abcedario"
   ]
  },
  {
   "cell_type": "code",
   "execution_count": null,
   "metadata": {
    "slideshow": {
     "slide_type": "subslide"
    }
   },
   "outputs": [],
   "source": [
    "# Mover un elemento al final\n",
    "abcedario.move_to_end(2)\n",
    "abcedario\n",
    "# Si last es False, entonces el elemento sera enviado al principio\n",
    "abcedario.move_to_end(6, last=False)\n",
    "abcedario"
   ]
  },
  {
   "cell_type": "code",
   "execution_count": null,
   "metadata": {
    "slideshow": {
     "slide_type": "subslide"
    }
   },
   "outputs": [],
   "source": [
    "# Elimina al ultimo elemento del dict\n",
    "abcedario.popitem()\n",
    "abcedario\n",
    "# Si last es False, entonces eliminara al primero\n",
    "abcedario.popitem(last=False)\n",
    "abcedario"
   ]
  },
  {
   "cell_type": "markdown",
   "metadata": {
    "slideshow": {
     "slide_type": "slide"
    }
   },
   "source": [
    "## Menciones\n",
    "* collections.ChainMap"
   ]
  }
 ],
 "metadata": {
  "celltoolbar": "Slideshow",
  "kernelspec": {
   "display_name": "Python 3",
   "language": "python",
   "name": "python3"
  },
  "language_info": {
   "codemirror_mode": {
    "name": "ipython",
    "version": 3
   },
   "file_extension": ".py",
   "mimetype": "text/x-python",
   "name": "python",
   "nbconvert_exporter": "python",
   "pygments_lexer": "ipython3",
   "version": "3.7.3"
  }
 },
 "nbformat": 4,
 "nbformat_minor": 2
}
