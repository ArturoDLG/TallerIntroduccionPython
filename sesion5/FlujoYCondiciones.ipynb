{
 "cells": [
  {
   "cell_type": "code",
   "execution_count": null,
   "metadata": {
    "slideshow": {
     "slide_type": "-"
    }
   },
   "outputs": [],
   "source": [
    "#  Esta celda es exclusivo para cuestiones de impresion dentro del notebook\n",
    "from IPython.core.interactiveshell import InteractiveShell\n",
    "InteractiveShell.ast_node_interactivity = 'all'"
   ]
  },
  {
   "cell_type": "markdown",
   "metadata": {
    "slideshow": {
     "slide_type": "slide"
    }
   },
   "source": [
    "# Flujo de condiciones y bucles\n",
    "___"
   ]
  },
  {
   "cell_type": "markdown",
   "metadata": {
    "slideshow": {
     "slide_type": "slide"
    }
   },
   "source": [
    "## Que aprenderemos?\n",
    "* condicionales\n",
    "* clase `bool`\n",
    "* bucles `while` y `for`\n",
    "* tips para iterar de manera 'pythonica'"
   ]
  },
  {
   "cell_type": "markdown",
   "metadata": {
    "slideshow": {
     "slide_type": "slide"
    }
   },
   "source": [
    "## Condicionales \n",
    "___"
   ]
  },
  {
   "cell_type": "markdown",
   "metadata": {
    "slideshow": {
     "slide_type": "subslide"
    }
   },
   "source": [
    "<center><img src=\"imagenes/condicional-si.png\" width=\"80%\" height=\"80%\"></center>"
   ]
  },
  {
   "cell_type": "markdown",
   "metadata": {
    "slideshow": {
     "slide_type": "subslide"
    }
   },
   "source": [
    "### `if`, `elif` y `else`"
   ]
  },
  {
   "cell_type": "code",
   "execution_count": null,
   "metadata": {
    "slideshow": {
     "slide_type": "fragment"
    }
   },
   "outputs": [],
   "source": [
    "#  ejemplo de condicionales\n",
    "resultado = 0.5\n",
    "if resultado.is_integer(): # la condicion es verdadera\n",
    "    print('El resultado es entero')\n",
    "else: # la condicion anterior es falso\n",
    "    print('El resultado es flotante')"
   ]
  },
  {
   "cell_type": "code",
   "execution_count": null,
   "metadata": {
    "slideshow": {
     "slide_type": "subslide"
    }
   },
   "outputs": [],
   "source": [
    "#  ejemplo con elif\n",
    "linea = 'Introduccion A Python'\n",
    "if linea.istitle():\n",
    "    print(f'{linea!r} es un titulo')\n",
    "elif linea.isupper():\n",
    "    print(f'{linea!r} esta en mayusculas')\n",
    "else:\n",
    "    print(f'{linea!r} esta en minusculas')"
   ]
  },
  {
   "cell_type": "markdown",
   "metadata": {
    "slideshow": {
     "slide_type": "subslide"
    }
   },
   "source": [
    "### Clase `bool`"
   ]
  },
  {
   "cell_type": "markdown",
   "metadata": {
    "slideshow": {
     "slide_type": "subslide"
    }
   },
   "source": [
    "### Representacion literal"
   ]
  },
  {
   "cell_type": "code",
   "execution_count": null,
   "metadata": {
    "slideshow": {
     "slide_type": "fragment"
    }
   },
   "outputs": [],
   "source": [
    "condicion = True\n",
    "otra_condicion = False"
   ]
  },
  {
   "cell_type": "code",
   "execution_count": null,
   "metadata": {
    "slideshow": {
     "slide_type": "subslide"
    }
   },
   "outputs": [],
   "source": [
    "#  bool es una subclase de los enteros\n",
    "True == 1\n",
    "False == 0\n",
    "\n",
    "issubclass(bool, int)"
   ]
  },
  {
   "cell_type": "code",
   "execution_count": null,
   "metadata": {
    "slideshow": {
     "slide_type": "subslide"
    }
   },
   "outputs": [],
   "source": [
    "lista = []\n",
    "#  verificar que una lista esta vacia\n",
    "if len(lista) == 0:\n",
    "    print('La lista esta vacia')\n",
    "    \n",
    "#  modo pythonico\n",
    "if not lista: \n",
    "    print('La lista esta vacia')"
   ]
  },
  {
   "cell_type": "markdown",
   "metadata": {
    "slideshow": {
     "slide_type": "notes"
    }
   },
   "source": [
    "El valor 0, y secuencias vacias('', [], {}, set(), etc) son valores falsos, cualquier numero diferente de 0 y secuencias no vacias son verdaderas, por lo que no debemos hacer comparaciones con booleanos "
   ]
  },
  {
   "cell_type": "markdown",
   "metadata": {
    "slideshow": {
     "slide_type": "subslide"
    }
   },
   "source": [
    "### Operador ternario "
   ]
  },
  {
   "cell_type": "code",
   "execution_count": null,
   "metadata": {
    "slideshow": {
     "slide_type": "fragment"
    }
   },
   "outputs": [],
   "source": [
    "suma = 10 + 7\n",
    "respuesta = 'Impar' if suma%2 else 'Par'"
   ]
  },
  {
   "cell_type": "markdown",
   "metadata": {
    "slideshow": {
     "slide_type": "subslide"
    }
   },
   "source": [
    "### switch - case ?\n",
    "<center><img src=\"imagenes/tenor.gif\" width=\"50%\" height=\"50%\"></center>"
   ]
  },
  {
   "cell_type": "code",
   "execution_count": null,
   "metadata": {
    "slideshow": {
     "slide_type": "subslide"
    }
   },
   "outputs": [],
   "source": [
    "#  simulando un switch case con un dict\n",
    "from operator import add as suma, sub as resta,\\\n",
    "     mul as multiplicacion, truediv as division\n",
    "opcion = 'suma'\n",
    "decision = {'suma': suma,\n",
    "            'resta': resta,\n",
    "            'multiplicacion': multiplicacion,\n",
    "            'division': division}.get(opcion)\n",
    "decision(4,2) # decision guarda una funcion, que puede ser ejecutado posteriormente"
   ]
  },
  {
   "cell_type": "markdown",
   "metadata": {
    "slideshow": {
     "slide_type": "subslide"
    }
   },
   "source": [
    "### funciones `any` y `all`"
   ]
  },
  {
   "cell_type": "code",
   "execution_count": null,
   "metadata": {
    "slideshow": {
     "slide_type": "fragment"
    }
   },
   "outputs": [],
   "source": [
    "condiciones = [True, True, False]\n",
    "any(condiciones) #  Devuelve True si un elemento es True\n",
    "all(condiciones) #  Devuelve True si todos los elementos son True"
   ]
  },
  {
   "cell_type": "markdown",
   "metadata": {
    "slideshow": {
     "slide_type": "slide"
    }
   },
   "source": [
    "## Bucles\n",
    "___"
   ]
  },
  {
   "cell_type": "markdown",
   "metadata": {
    "slideshow": {
     "slide_type": "subslide"
    }
   },
   "source": [
    "<center><img src=\"imagenes/bucles.jpg\" width=\"30%\" height=\"30%\"></center>"
   ]
  },
  {
   "cell_type": "markdown",
   "metadata": {
    "slideshow": {
     "slide_type": "subslide"
    }
   },
   "source": [
    "### `while`"
   ]
  },
  {
   "cell_type": "code",
   "execution_count": null,
   "metadata": {
    "slideshow": {
     "slide_type": "fragment"
    }
   },
   "outputs": [],
   "source": [
    "contador = 0\n",
    "#  El bucle se ejecuta hasta que la condicion sea falsa\n",
    "while contador < 10:\n",
    "    print(contador)\n",
    "    contador += 1"
   ]
  },
  {
   "cell_type": "markdown",
   "metadata": {
    "slideshow": {
     "slide_type": "subslide"
    }
   },
   "source": [
    "### `for`"
   ]
  },
  {
   "cell_type": "code",
   "execution_count": null,
   "metadata": {
    "slideshow": {
     "slide_type": "fragment"
    }
   },
   "outputs": [],
   "source": [
    "for i in range(10):\n",
    "    print(i)"
   ]
  },
  {
   "cell_type": "code",
   "execution_count": null,
   "metadata": {
    "slideshow": {
     "slide_type": "subslide"
    }
   },
   "outputs": [],
   "source": [
    "pares = [2,4,6,8,10]\n",
    "#  iteracion por indices\n",
    "for i in range(5):\n",
    "    print(pares[i])\n",
    "    \n",
    "#  recorriendo un iterable\n",
    "for par in pares:\n",
    "    print(par)"
   ]
  },
  {
   "cell_type": "code",
   "execution_count": null,
   "metadata": {
    "slideshow": {
     "slide_type": "subslide"
    }
   },
   "outputs": [],
   "source": [
    "#  imprimir indice y el elemento en el mismo\n",
    "for i in range(5):\n",
    "    print(f'{i} {pares[i]}')\n",
    "    \n",
    "#  lo mismo, pero mas pythonico XD\n",
    "for i, par in enumerate(pares):\n",
    "    print(f'{i} {par}')"
   ]
  },
  {
   "cell_type": "markdown",
   "metadata": {
    "slideshow": {
     "slide_type": "subslide"
    }
   },
   "source": [
    "### class `range`"
   ]
  },
  {
   "cell_type": "code",
   "execution_count": null,
   "metadata": {},
   "outputs": [],
   "source": [
    "a = range(10) #  stop \n",
    "list(a)\n",
    "b = range(0,10) #  start, stop\n",
    "list(b)\n",
    "c = range(0,10,2) #  start, stop, step\n",
    "list(c)"
   ]
  },
  {
   "cell_type": "markdown",
   "metadata": {
    "slideshow": {
     "slide_type": "subslide"
    }
   },
   "source": [
    "### Interrupir una iteracion (`continue` y `break`) "
   ]
  },
  {
   "cell_type": "code",
   "execution_count": null,
   "metadata": {
    "slideshow": {
     "slide_type": "fragment"
    }
   },
   "outputs": [],
   "source": [
    "#  continue omite todo el codigo posterior a el, y continua con la siguiente iteracion\n",
    "for i in range(30):\n",
    "    if not i%3:\n",
    "        continue\n",
    "    print(i)"
   ]
  },
  {
   "cell_type": "code",
   "execution_count": null,
   "metadata": {
    "slideshow": {
     "slide_type": "subslide"
    }
   },
   "outputs": [],
   "source": [
    "#  break termina con el bucle \n",
    "for j in range(10):\n",
    "    print(j)\n",
    "    if j == 5:\n",
    "        break"
   ]
  },
  {
   "cell_type": "markdown",
   "metadata": {
    "slideshow": {
     "slide_type": "subslide"
    }
   },
   "source": [
    "### Clausula `else` de los bucles"
   ]
  },
  {
   "cell_type": "markdown",
   "metadata": {
    "slideshow": {
     "slide_type": "subslide"
    }
   },
   "source": [
    "<center><img src=\"imagenes/confundido.jfif\"></center>"
   ]
  },
  {
   "cell_type": "code",
   "execution_count": null,
   "metadata": {
    "slideshow": {
     "slide_type": "subslide"
    }
   },
   "outputs": [],
   "source": [
    "for j in range(11):\n",
    "    print(j)\n",
    "    if j == 5:\n",
    "        break\n",
    "else: #  ademas\n",
    "    #  el bloque de codigo se ejecuta cuando el bucle \n",
    "    #  no es interrumpido\n",
    "    print('No fue encontrado un 5')"
   ]
  },
  {
   "cell_type": "markdown",
   "metadata": {
    "slideshow": {
     "slide_type": "subslide"
    }
   },
   "source": [
    "### `iter` y `next`"
   ]
  },
  {
   "cell_type": "code",
   "execution_count": null,
   "metadata": {
    "slideshow": {
     "slide_type": "subslide"
    }
   },
   "outputs": [],
   "source": [
    "iterador = iter('Python 3.7') #  objeto\n",
    "for letra in iterador:\n",
    "    print(letra, sep='')\n",
    "print()\n",
    "\n",
    "#  solo se puede iterar una vez!\n",
    "for letra in iterador:\n",
    "    print(letra, sep='')\n",
    "print()"
   ]
  },
  {
   "cell_type": "code",
   "execution_count": null,
   "metadata": {
    "slideshow": {
     "slide_type": "subslide"
    }
   },
   "outputs": [],
   "source": [
    "archivo = open('ejemplo.txt')\n",
    "it_archivo = iter(archivo.readline, '/') #  invocable, sentinela\n",
    "next(it_archivo)\n",
    "next(it_archivo)\n",
    "next(it_archivo)\n",
    "next(it_archivo)"
   ]
  },
  {
   "cell_type": "markdown",
   "metadata": {
    "slideshow": {
     "slide_type": "slide"
    }
   },
   "source": [
    "## Menciones\n",
    "* `zip`\n",
    "* modulo `itertools`"
   ]
  }
 ],
 "metadata": {
  "celltoolbar": "Slideshow",
  "kernelspec": {
   "display_name": "Python 3",
   "language": "python",
   "name": "python3"
  },
  "language_info": {
   "codemirror_mode": {
    "name": "ipython",
    "version": 3
   },
   "file_extension": ".py",
   "mimetype": "text/x-python",
   "name": "python",
   "nbconvert_exporter": "python",
   "pygments_lexer": "ipython3",
   "version": "3.7.3"
  }
 },
 "nbformat": 4,
 "nbformat_minor": 2
}
